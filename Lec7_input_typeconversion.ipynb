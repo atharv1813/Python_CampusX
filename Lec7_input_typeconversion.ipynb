{
 "cells": [
  {
   "cell_type": "code",
   "execution_count": 1,
   "id": "d675a097-b6bf-412b-9dea-e5a06d61a9bf",
   "metadata": {},
   "outputs": [
    {
     "name": "stdin",
     "output_type": "stream",
     "text": [
      " skjvnvsdijn\n"
     ]
    },
    {
     "data": {
      "text/plain": [
       "'skjvnvsdijn'"
      ]
     },
     "execution_count": 1,
     "metadata": {},
     "output_type": "execute_result"
    }
   ],
   "source": [
    "input()"
   ]
  },
  {
   "cell_type": "code",
   "execution_count": 2,
   "id": "5fe4a783-2224-479b-83fe-b077083230d4",
   "metadata": {},
   "outputs": [
    {
     "name": "stdin",
     "output_type": "stream",
     "text": [
      "apna naam bata atharv\n"
     ]
    },
    {
     "data": {
      "text/plain": [
       "'atharv'"
      ]
     },
     "execution_count": 2,
     "metadata": {},
     "output_type": "execute_result"
    }
   ],
   "source": [
    "input(\"apna naam bata\")"
   ]
  },
  {
   "cell_type": "code",
   "execution_count": 4,
   "id": "94b3d637-e362-454f-9ffd-5d924869beeb",
   "metadata": {},
   "outputs": [
    {
     "name": "stdin",
     "output_type": "stream",
     "text": [
      "What is your name? atharv\n"
     ]
    },
    {
     "name": "stdout",
     "output_type": "stream",
     "text": [
      "atharv\n"
     ]
    }
   ],
   "source": [
    "my_name = input(prompt = \"What is your name?\")\n",
    "print(my_name)"
   ]
  },
  {
   "cell_type": "code",
   "execution_count": 5,
   "id": "dcdec5aa-7c5a-4ac6-b90e-f58fbc301361",
   "metadata": {},
   "outputs": [
    {
     "name": "stdout",
     "output_type": "stream",
     "text": [
      "atharv\n"
     ]
    }
   ],
   "source": [
    "print(my_name)"
   ]
  },
  {
   "cell_type": "code",
   "execution_count": 7,
   "id": "8858cbb0-c932-44c7-a8f9-d2b45c7ecb37",
   "metadata": {},
   "outputs": [
    {
     "name": "stdin",
     "output_type": "stream",
     "text": [
      "Enter first num:  78\n",
      "Enter second num:  45\n"
     ]
    }
   ],
   "source": [
    "first_num = input(prompt = \"Enter first num: \")\n",
    "second_num = input(prompt = \"Enter second num: \")"
   ]
  },
  {
   "cell_type": "code",
   "execution_count": 9,
   "id": "b36e288a-5407-4019-9743-081a89d4542c",
   "metadata": {},
   "outputs": [
    {
     "name": "stdout",
     "output_type": "stream",
     "text": [
      "7845\n"
     ]
    }
   ],
   "source": [
    "print(first_num + second_num)\n",
    "#It will print as \"7845\" bcz input function string accept karta as input"
   ]
  },
  {
   "cell_type": "code",
   "execution_count": 12,
   "id": "e484ea4c-cc7f-4a45-8927-818cfac283ca",
   "metadata": {},
   "outputs": [
    {
     "data": {
      "text/plain": [
       "str"
      ]
     },
     "execution_count": 12,
     "metadata": {},
     "output_type": "execute_result"
    }
   ],
   "source": [
    "type(first_num)\n",
    "type(second_num)"
   ]
  },
  {
   "cell_type": "markdown",
   "id": "e557efdc-a65c-4afd-acdf-5d656d448e0b",
   "metadata": {},
   "source": [
    "### **Type Conversion in Python**\n",
    "\n",
    "- **Type Conversion**: The process of converting a variable from one data type to another.\n",
    "\n",
    "#### **1. Implicit Type Conversion**:\n",
    "- Automatically performed by Python when mixed data types are encountered in an expression.\n",
    "- Python converts one data type to another without user intervention.\n",
    "\n",
    "#### **2. Explicit Type Conversion**:\n",
    "- Performed by the programmer using built-in functions.\n",
    "- Common built-in functions include:\n",
    "  - `int()`: Converts to integer.\n",
    "  - `float()`: Converts to float.\n",
    "  - `str()`: Converts to string.\n",
    "  - `complex()`: Converts to complex.\n",
    "\n",
    "### **Summary**:\n",
    "- Implicit conversion is automatic; explicit conversion is done manually by the programmer using specific functions."
   ]
  },
  {
   "cell_type": "markdown",
   "id": "8e81e935-dcdd-43d7-b157-9d28f0983db5",
   "metadata": {},
   "source": [
    "**1. Implicit Conversion**"
   ]
  },
  {
   "cell_type": "code",
   "execution_count": 28,
   "id": "360a43f6-a65a-4735-a99f-5b1229c8c65e",
   "metadata": {},
   "outputs": [
    {
     "data": {
      "text/plain": [
       "(9+8j)"
      ]
     },
     "execution_count": 28,
     "metadata": {},
     "output_type": "execute_result"
    }
   ],
   "source": [
    "5 + 4+8j # implicit conversion hua kaise niche padho"
   ]
  },
  {
   "cell_type": "code",
   "execution_count": 38,
   "id": "df1f8ce3-7695-407f-8aea-30a728678597",
   "metadata": {},
   "outputs": [
    {
     "name": "stdout",
     "output_type": "stream",
     "text": [
      "(11+5j)\n"
     ]
    }
   ],
   "source": [
    "result = 7 + 4 + 5j  # Implicit conversion of 7 to (7 + 0j)\n",
    "print(result)         "
   ]
  },
  {
   "cell_type": "markdown",
   "id": "48a9c681-1c78-4c22-8cb6-4f6c827a4f24",
   "metadata": {},
   "source": [
    "**2. Explicit Conversion**"
   ]
  },
  {
   "cell_type": "code",
   "execution_count": 30,
   "id": "0f99183e-95d5-40f5-8aab-7ec87acdcdd5",
   "metadata": {},
   "outputs": [
    {
     "name": "stdout",
     "output_type": "stream",
     "text": [
      "15.5\n"
     ]
    }
   ],
   "source": [
    "num_int = 5          # Integer\n",
    "num_float = 10.5    # Float\n",
    "\n",
    "result = num_int + num_float  # Implicit conversion of int to float\n",
    "print(result)        # Output: 15.5"
   ]
  },
  {
   "cell_type": "code",
   "execution_count": 31,
   "id": "d496e155-7791-4bd3-bd86-c42b29e299a3",
   "metadata": {},
   "outputs": [
    {
     "name": "stdout",
     "output_type": "stream",
     "text": [
      "10\n"
     ]
    }
   ],
   "source": [
    "str_num = \"10\"\n",
    "int_num = int(str_num)  # Explicit conversion from string to integer\n",
    "print(int_num)          # Output: 10"
   ]
  },
  {
   "cell_type": "code",
   "execution_count": 32,
   "id": "763392af-1071-4dc7-acdf-25aee10fa937",
   "metadata": {},
   "outputs": [
    {
     "name": "stdout",
     "output_type": "stream",
     "text": [
      "5.0\n"
     ]
    }
   ],
   "source": [
    "num_int = 5\n",
    "num_float = float(num_int)  # Explicit conversion from integer to float\n",
    "print(num_float)            # Output: 5.0"
   ]
  },
  {
   "cell_type": "code",
   "execution_count": 33,
   "id": "a4512c7f-1535-4332-8652-47e794ee6573",
   "metadata": {},
   "outputs": [
    {
     "name": "stdout",
     "output_type": "stream",
     "text": [
      "10\n"
     ]
    }
   ],
   "source": [
    "num_float = 10.8\n",
    "num_int = int(num_float)    # Explicit conversion from float to integer\n",
    "print(num_int)              # Output: 10 (decimal part is truncated)"
   ]
  },
  {
   "cell_type": "code",
   "execution_count": 34,
   "id": "5624f17b-2167-4953-ac57-6bec07700ac6",
   "metadata": {},
   "outputs": [
    {
     "name": "stdout",
     "output_type": "stream",
     "text": [
      "100\n"
     ]
    },
    {
     "data": {
      "text/plain": [
       "str"
      ]
     },
     "execution_count": 34,
     "metadata": {},
     "output_type": "execute_result"
    }
   ],
   "source": [
    "num_int = 100\n",
    "str_num = str(num_int)      # Explicit conversion from integer to string\n",
    "print(str_num)              # Output: \"100\"\n",
    "type(str_num)"
   ]
  },
  {
   "cell_type": "code",
   "execution_count": 35,
   "id": "1f057288-0cfb-4df2-965b-99b6257d2302",
   "metadata": {},
   "outputs": [
    {
     "name": "stdout",
     "output_type": "stream",
     "text": [
      "3.14\n"
     ]
    },
    {
     "data": {
      "text/plain": [
       "float"
      ]
     },
     "execution_count": 35,
     "metadata": {},
     "output_type": "execute_result"
    }
   ],
   "source": [
    "str_num = \"3.14\"\n",
    "num_float = float(str_num)  # Explicit conversion from string to float\n",
    "print(num_float)            # Output: 3.14\n",
    "type(num_float)"
   ]
  },
  {
   "cell_type": "code",
   "execution_count": 37,
   "id": "1fff5930-f6ab-492a-b717-2757364a2350",
   "metadata": {},
   "outputs": [
    {
     "name": "stdout",
     "output_type": "stream",
     "text": [
      "(2+3j)\n"
     ]
    },
    {
     "data": {
      "text/plain": [
       "complex"
      ]
     },
     "execution_count": 37,
     "metadata": {},
     "output_type": "execute_result"
    }
   ],
   "source": [
    "str_num = \"2+3j\"\n",
    "num_complex = complex(str_num)  # Explicit conversion from string to complex\n",
    "print(num_complex)               # Output: (2+3j)\n",
    "type(num_complex)"
   ]
  },
  {
   "cell_type": "code",
   "execution_count": 45,
   "id": "bef47b66-3228-49c4-99ea-d4b49d8d89fa",
   "metadata": {},
   "outputs": [
    {
     "data": {
      "text/plain": [
       "False"
      ]
     },
     "execution_count": 45,
     "metadata": {},
     "output_type": "execute_result"
    }
   ],
   "source": [
    "bool(0)"
   ]
  },
  {
   "cell_type": "code",
   "execution_count": 46,
   "id": "0cbbb1d7-6338-4065-b23d-d18cba31a645",
   "metadata": {},
   "outputs": [
    {
     "data": {
      "text/plain": [
       "True"
      ]
     },
     "execution_count": 46,
     "metadata": {},
     "output_type": "execute_result"
    }
   ],
   "source": [
    "bool(1)"
   ]
  },
  {
   "cell_type": "code",
   "execution_count": 47,
   "id": "72e66c85-1864-4f86-b020-a966dfc84797",
   "metadata": {},
   "outputs": [
    {
     "data": {
      "text/plain": [
       "True"
      ]
     },
     "execution_count": 47,
     "metadata": {},
     "output_type": "execute_result"
    }
   ],
   "source": [
    "bool(4)"
   ]
  },
  {
   "cell_type": "code",
   "execution_count": 48,
   "id": "7fc39efc-b16a-4f0a-a1f5-987a09865865",
   "metadata": {},
   "outputs": [
    {
     "data": {
      "text/plain": [
       "['H', 'e', 'l', 'l', 'o']"
      ]
     },
     "execution_count": 48,
     "metadata": {},
     "output_type": "execute_result"
    }
   ],
   "source": [
    "list(\"Hello\")"
   ]
  },
  {
   "cell_type": "code",
   "execution_count": 49,
   "id": "668d1569-f42b-447c-b6e6-f90f4cd269cd",
   "metadata": {},
   "outputs": [
    {
     "data": {
      "text/plain": [
       "{'H', 'e', 'l', 'o'}"
      ]
     },
     "execution_count": 49,
     "metadata": {},
     "output_type": "execute_result"
    }
   ],
   "source": [
    "set(\"Hello\")"
   ]
  },
  {
   "cell_type": "code",
   "execution_count": 50,
   "id": "9da40ad8-86f0-4a57-bafb-56bcc12a7d8b",
   "metadata": {},
   "outputs": [
    {
     "ename": "ValueError",
     "evalue": "invalid literal for int() with base 10: 'iwjs'",
     "output_type": "error",
     "traceback": [
      "\u001b[1;31m---------------------------------------------------------------------------\u001b[0m",
      "\u001b[1;31mValueError\u001b[0m                                Traceback (most recent call last)",
      "Cell \u001b[1;32mIn[50], line 1\u001b[0m\n\u001b[1;32m----> 1\u001b[0m \u001b[38;5;28mint\u001b[39m(\u001b[38;5;124m\"\u001b[39m\u001b[38;5;124miwjs\u001b[39m\u001b[38;5;124m\"\u001b[39m)\n",
      "\u001b[1;31mValueError\u001b[0m: invalid literal for int() with base 10: 'iwjs'"
     ]
    }
   ],
   "source": [
    "int(\"iwjs\")"
   ]
  },
  {
   "cell_type": "code",
   "execution_count": 39,
   "id": "e7537b9f-35cd-4d5c-82de-3932e6bff253",
   "metadata": {},
   "outputs": [
    {
     "name": "stdin",
     "output_type": "stream",
     "text": [
      "Enter first num:  7\n",
      "Enter second num:  8\n"
     ]
    }
   ],
   "source": [
    "first_num = input(prompt = \"Enter first num: \")\n",
    "second_num = input(prompt = \"Enter second num: \")"
   ]
  },
  {
   "cell_type": "code",
   "execution_count": 40,
   "id": "802a0650-5a3a-4bc0-b3d5-5d7fedebe3ac",
   "metadata": {},
   "outputs": [
    {
     "name": "stdout",
     "output_type": "stream",
     "text": [
      "15\n"
     ]
    }
   ],
   "source": [
    "print(int(first_num) + int(second_num))"
   ]
  },
  {
   "cell_type": "code",
   "execution_count": 41,
   "id": "93f9e124-5293-4fd6-9063-7d1c528113c8",
   "metadata": {},
   "outputs": [
    {
     "name": "stdout",
     "output_type": "stream",
     "text": [
      "15\n"
     ]
    },
    {
     "data": {
      "text/plain": [
       "int"
      ]
     },
     "execution_count": 41,
     "metadata": {},
     "output_type": "execute_result"
    }
   ],
   "source": [
    "res_num = int(first_num) + int(second_num)\n",
    "print(res_num)\n",
    "type(res_num)"
   ]
  },
  {
   "cell_type": "code",
   "execution_count": 43,
   "id": "5eabbe01-85bb-40d1-b3b2-d3b55bc333b0",
   "metadata": {},
   "outputs": [],
   "source": [
    "#Problem solved"
   ]
  },
  {
   "cell_type": "code",
   "execution_count": 51,
   "id": "509ef16b-4e53-4ede-8faa-22ae97f91c34",
   "metadata": {},
   "outputs": [
    {
     "name": "stdin",
     "output_type": "stream",
     "text": [
      "Enter first num:  4\n",
      "Enter second num:  8\n"
     ]
    },
    {
     "name": "stdout",
     "output_type": "stream",
     "text": [
      "12\n"
     ]
    }
   ],
   "source": [
    "first_num = int(input(prompt = \"Enter first num: \"))\n",
    "second_num = int(input(prompt = \"Enter second num: \"))\n",
    "print(first_num + second_num)"
   ]
  },
  {
   "cell_type": "code",
   "execution_count": null,
   "id": "a444ca70-030d-4302-be00-0ef4f7b32fd3",
   "metadata": {},
   "outputs": [],
   "source": []
  }
 ],
 "metadata": {
  "kernelspec": {
   "display_name": "Python 3 (ipykernel)",
   "language": "python",
   "name": "python3"
  },
  "language_info": {
   "codemirror_mode": {
    "name": "ipython",
    "version": 3
   },
   "file_extension": ".py",
   "mimetype": "text/x-python",
   "name": "python",
   "nbconvert_exporter": "python",
   "pygments_lexer": "ipython3",
   "version": "3.11.7"
  }
 },
 "nbformat": 4,
 "nbformat_minor": 5
}
