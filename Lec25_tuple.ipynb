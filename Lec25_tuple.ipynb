{
 "cells": [
  {
   "cell_type": "markdown",
   "id": "cb1f0254-8419-468e-b286-4bfa29462436",
   "metadata": {},
   "source": [
    "### Tuples in Python (In-Depth)\n",
    "\n",
    "A **tuple** in Python is a collection of items that is ordered, immutable (unchangeable after creation), and allows duplicate elements. Tuples are similar to lists, but they offer a degree of optimization due to their immutability and are often used to store collections of related items that should not be modified.\n",
    "\n",
    "---\n",
    "\n",
    "### 1. **Characteristics of Tuples**:\n",
    "- **Ordered**: The items in a tuple have a defined order, and the order remains consistent.\n",
    "- **Immutable**: Once a tuple is created, you cannot change its elements (no adding, removing, or modifying).\n",
    "- **Allow Duplicates**: Tuples can contain duplicate values, just like lists.\n",
    "- **Heterogeneous**: Tuples can store items of different data types (e.g., integers, strings, floats, objects, etc.).\n",
    "\n",
    "---\n",
    "\n",
    "### 2. **Creating Tuples**:\n",
    "- Tuples are created by placing a sequence of items separated by commas inside parentheses `()`. \n",
    "- A tuple can also be created without parentheses, just by separating values with commas.\n",
    "- A tuple with a single element requires a trailing comma to distinguish it from a regular value in parentheses.\n",
    "\n",
    "---\n",
    "\n",
    "### 3. **Accessing Tuple Elements**:\n",
    "- **Indexing**: Like lists, you can access tuple elements using indices, starting from 0. Negative indexing is also supported, where `-1` refers to the last item.\n",
    "- **Slicing**: Tuples can be sliced to obtain sub-tuples by specifying a start, stop, and step value. The result is always a new tuple containing the specified range of elements.\n",
    "\n",
    "---\n",
    "\n",
    "### 4. **Immutability of Tuples**:\n",
    "- Once a tuple is created, it cannot be modified. This means:\n",
    "  - No changes can be made to individual elements.\n",
    "  - No elements can be added or removed.\n",
    "  - However, you can perform operations that result in a new tuple being created.\n",
    "  \n",
    "This immutability makes tuples useful for representing fixed collections of data, such as coordinates, where changes are not intended.\n",
    "\n",
    "---\n",
    "\n",
    "### 5. **Operations on Tuples**:\n",
    "- **Concatenation**: You can combine two or more tuples using the `+` operator to form a new tuple.\n",
    "- **Repetition**: The `*` operator allows you to repeat the elements of a tuple a specified number of times, creating a new tuple.\n",
    "- **Membership Test**: The `in` and `not in` operators can be used to check if an element exists within a tuple.\n",
    "- **Iteration**: You can loop through the items in a tuple using loops such as `for`, making it easy to process each element.\n",
    "\n",
    "---\n",
    "\n",
    "### 6. **Tuple Unpacking**:\n",
    "- Tuple unpacking allows multiple variables to be assigned values from a tuple simultaneously. The number of variables must match the number of elements in the tuple. This is useful for returning multiple values from functions or working with fixed-size data structures.\n",
    "\n",
    "---\n",
    "\n",
    "### 7. **Nested Tuples**:\n",
    "- Like lists, tuples can contain other tuples as elements, which leads to the creation of **nested tuples**. Nested tuples can be accessed using multiple indices, where the first index refers to the outer tuple and subsequent indices refer to the inner tuples.\n",
    "\n",
    "---\n",
    "\n",
    "### 8. **Tuple Methods**:\n",
    "Tuples have fewer methods compared to lists because of their immutability, but they include:\n",
    "- **`count(item)`**: Returns the number of times `item` appears in the tuple.\n",
    "- **`index(item)`**: Returns the index of the first occurrence of `item`. If the item is not found, it raises a `ValueError`.\n",
    "\n",
    "---\n",
    "\n",
    "### 9. **Advantages of Tuples**:\n",
    "- **Immutability**: Because tuples are immutable, they are protected against accidental changes, making them ideal for representing constant data, such as days of the week, RGB color codes, or database records.\n",
    "- **Performance**: Tuples can be faster than lists due to their immutability. Operations on tuples require less memory and computational overhead since Python doesn’t need to handle potential changes.\n",
    "- **Hashable**: Since tuples are immutable, they can be used as keys in dictionaries or elements in sets (both require hashable items). This is not possible with lists, which are mutable and, therefore, unhashable.\n",
    "  \n",
    "---\n",
    "\n",
    "### 10. **When to Use Tuples**:\n",
    "- **Data Integrity**: Use tuples when you want to ensure that a collection of values remains constant throughout the execution of a program.\n",
    "- **Function Return Values**: Tuples are often used to return multiple values from functions. Since tuples are lightweight, they are efficient for this purpose.\n",
    "- **Data Grouping**: Tuples are useful when you need to group multiple pieces of data together, especially when the data types may be heterogeneous (e.g., coordinates in a 3D space, or personal details such as a name and age).\n",
    "\n",
    "---\n",
    "\n",
    "### 11. **Tuple Packing and Unpacking**:\n",
    "- **Packing**: Packing refers to the process of combining multiple values into a single tuple.\n",
    "- **Unpacking**: Unpacking allows you to assign each element of the tuple to a variable in a single statement. This is particularly useful when functions return multiple values as a tuple.\n",
    "\n",
    "---\n",
    "\n",
    "### 12. **Limitations of Tuples**:\n",
    "- **Immutability**: While immutability is an advantage in terms of safety and performance, it can be a limitation if you need to modify or update data frequently. In such cases, lists are preferred.\n",
    "- **Lack of Methods**: Unlike lists, which come with a wide range of built-in methods for adding, removing, and modifying elements, tuples have very limited methods.\n",
    "\n",
    "---\n",
    "\n",
    "### 13. **Common Uses of Tuples**:\n",
    "- **Coordinates**: Tuples are frequently used to store fixed pairs or triples of values, such as (x, y) or (x, y, z) coordinates.\n",
    "- **Multiple Return Values**: Functions can return multiple values as tuples, which can then be unpacked into individual variables.\n",
    "- **Fixed-Size Collections**: When the size of a collection is known and unchanging, tuples provide a simple and efficient way to represent that data.\n",
    "- **Dictionary Keys**: Tuples can be used as keys in dictionaries because they are immutable and hashable.\n",
    "\n",
    "---\n",
    "\n",
    "### 14. **Comparison Between Lists and Tuples**:\n",
    "- **Mutability**: Lists are mutable, while tuples are immutable. Choose lists when you need to modify the collection, and tuples when the collection should remain constant.\n",
    "- **Performance**: Tuples offer performance benefits over lists due to their immutability and reduced overhead. Operations like iteration and membership testing are generally faster with tuples.\n",
    "- **Use Cases**: Use tuples for fixed collections of items and lists for collections that may change during the program’s execution.\n",
    "\n",
    "---\n",
    "\n",
    "### Summary:\n",
    "- **Tuples** in Python are ordered, immutable collections that allow duplicates and can store heterogeneous data.\n",
    "- They are ideal for storing data that should not be modified and offer performance and memory benefits over lists.\n",
    "- Tuples are frequently used for fixed-size collections, grouping data, and as return values for functions.\n",
    "- The immutability of tuples ensures data integrity, while their limited methods provide a streamlined, efficient alternative to lists in certain use cases."
   ]
  },
  {
   "cell_type": "code",
   "execution_count": 13,
   "id": "c971b36b-01fd-4d4f-87c8-375bd2e336d4",
   "metadata": {},
   "outputs": [],
   "source": [
    "# 1. Creating Tuples\n",
    "tuple1 = (1, 2, 3, 4, 5)                # Tuple of integers\n",
    "tuple2 = (\"apple\", \"banana\", \"cherry\")   # Tuple of strings\n",
    "tuple3 = (True, False, True)             # Tuple of booleans\n",
    "tuple4 = (1, \"apple\", True)              # Tuple with mixed data types\n",
    "empty_tuple = ()                         # Empty tuple\n",
    "single_element_tuple = (1,)              # Single element tuple (with comma)\n",
    "\n",
    "# Nested tuples\n",
    "nested_tuple = ((1, 2), (3, 4), (5, 6))"
   ]
  },
  {
   "cell_type": "code",
   "execution_count": 14,
   "id": "f049ecfc-8623-4ef3-b4ed-b9126b281593",
   "metadata": {},
   "outputs": [
    {
     "name": "stdout",
     "output_type": "stream",
     "text": [
      "1\n",
      "cherry\n",
      "(2, 3, 4)\n"
     ]
    }
   ],
   "source": [
    "# 2. Accessing Tuple Elements\n",
    "print(tuple1[0])     # Access first element\n",
    "print(tuple2[-1])    # Access last element\n",
    "print(tuple1[1:4])   # Slicing (from index 1 to 3)"
   ]
  },
  {
   "cell_type": "code",
   "execution_count": 15,
   "id": "956cc64d-a727-41f9-b6a9-30b755ffcbf0",
   "metadata": {},
   "outputs": [
    {
     "ename": "TypeError",
     "evalue": "'tuple' object does not support item assignment",
     "output_type": "error",
     "traceback": [
      "\u001b[1;31m---------------------------------------------------------------------------\u001b[0m",
      "\u001b[1;31mTypeError\u001b[0m                                 Traceback (most recent call last)",
      "Cell \u001b[1;32mIn[15], line 2\u001b[0m\n\u001b[0;32m      1\u001b[0m \u001b[38;5;66;03m# 3. Tuple Immutability\u001b[39;00m\n\u001b[1;32m----> 2\u001b[0m tuple1[\u001b[38;5;241m0\u001b[39m] \u001b[38;5;241m=\u001b[39m \u001b[38;5;241m10\u001b[39m\n",
      "\u001b[1;31mTypeError\u001b[0m: 'tuple' object does not support item assignment"
     ]
    }
   ],
   "source": [
    "# 3. Tuple Immutability\n",
    "tuple1[0] = 10  # Uncommenting this line will raise an error, tuples are immutable"
   ]
  },
  {
   "cell_type": "code",
   "execution_count": 16,
   "id": "4d6fc7b4-f5c7-4853-bb8f-8fa04e72c1c5",
   "metadata": {},
   "outputs": [
    {
     "name": "stdout",
     "output_type": "stream",
     "text": [
      "(1, 2, 3, 4, 5, 'apple', 'banana', 'cherry')\n",
      "(1, 2, 3, 4, 5, 1, 2, 3, 4, 5)\n"
     ]
    }
   ],
   "source": [
    "\n",
    "# 4. Tuple Concatenation and Repetition\n",
    "tuple5 = tuple1 + tuple2  # Concatenate two tuples\n",
    "print(tuple5)\n",
    "\n",
    "tuple6 = tuple1 * 2       # Repeat the tuple elements\n",
    "print(tuple6)"
   ]
  },
  {
   "cell_type": "code",
   "execution_count": 17,
   "id": "5fb70a6c-95b6-42cf-a026-dea93e62e043",
   "metadata": {},
   "outputs": [
    {
     "name": "stdout",
     "output_type": "stream",
     "text": [
      "True\n",
      "True\n"
     ]
    }
   ],
   "source": [
    "# 5. Membership Test\n",
    "print(\"banana\" in tuple2)    # Check if \"banana\" is in tuple2\n",
    "print(10 not in tuple1)      # Check if 10 is not in tuple1"
   ]
  },
  {
   "cell_type": "code",
   "execution_count": 18,
   "id": "193dd095-1333-4c6e-bff3-9ba405c7afce",
   "metadata": {},
   "outputs": [
    {
     "name": "stdout",
     "output_type": "stream",
     "text": [
      "3\n",
      "2\n"
     ]
    }
   ],
   "source": [
    "# 6. Tuple Methods\n",
    "tuple7 = (1, 2, 3, 2, 4, 2)\n",
    "print(tuple7.count(2))    # Count occurrences of 2 in the tuple\n",
    "print(tuple7.index(3))    # Find index of first occurrence of 3"
   ]
  },
  {
   "cell_type": "code",
   "execution_count": 19,
   "id": "f4578d1c-02ae-45ef-9b7d-9b3ccf65bd48",
   "metadata": {},
   "outputs": [
    {
     "name": "stdout",
     "output_type": "stream",
     "text": [
      "apple\n",
      "banana\n",
      "cherry\n"
     ]
    }
   ],
   "source": [
    "# 7. Iterating through a Tuple\n",
    "for item in tuple2:\n",
    "    print(item)"
   ]
  },
  {
   "cell_type": "code",
   "execution_count": 20,
   "id": "55429540-0833-4602-86c0-a85992838ed9",
   "metadata": {},
   "outputs": [
    {
     "name": "stdout",
     "output_type": "stream",
     "text": [
      "John 25 Engineer\n"
     ]
    }
   ],
   "source": [
    "# 8. Tuple Unpacking\n",
    "person = (\"John\", 25, \"Engineer\")\n",
    "name, age, occupation = person  # Unpacking the tuple into variables\n",
    "print(name, age, occupation)"
   ]
  },
  {
   "cell_type": "code",
   "execution_count": 21,
   "id": "fee04e6d-4f8b-437b-a314-38640a36cc09",
   "metadata": {},
   "outputs": [
    {
     "name": "stdout",
     "output_type": "stream",
     "text": [
      "2\n"
     ]
    }
   ],
   "source": [
    "# 9. Nested Tuples\n",
    "matrix = ((1, 2, 3), (4, 5, 6), (7, 8, 9))\n",
    "print(matrix[0][1])  # Accessing an element in a nested tuple"
   ]
  },
  {
   "cell_type": "code",
   "execution_count": 1,
   "id": "3ec7f40e-8b78-4c0f-96cb-7eeedb262cc2",
   "metadata": {},
   "outputs": [
    {
     "name": "stdout",
     "output_type": "stream",
     "text": [
      "(1, 2, 3)\n"
     ]
    }
   ],
   "source": [
    "# 10. Returning Multiple Values from Functions with Tuples\n",
    "def return_multiple():\n",
    "    return 1, 2, 3  # Function returning multiple values as a tuple VV IMP\n",
    "\n",
    "result = return_multiple()\n",
    "print(result)"
   ]
  },
  {
   "cell_type": "code",
   "execution_count": 4,
   "id": "d77dbc41-29b2-49e6-94f8-62d7e6b03b93",
   "metadata": {},
   "outputs": [
    {
     "name": "stdout",
     "output_type": "stream",
     "text": [
      "(0, 1, 4, 9, 16)\n"
     ]
    }
   ],
   "source": [
    "# 11. Tuple Comprehension (Not possible, but creating a tuple from a list comprehension)\n",
    "list_comprehension = [x**2 for x in range(5)]  # List comprehension\n",
    "tuple_comprehension = tuple(list_comprehension)  # Convert list to tuple VV IMP\n",
    "print(tuple_comprehension)"
   ]
  },
  {
   "cell_type": "code",
   "execution_count": 5,
   "id": "5439aa5c-b981-48f9-8a3d-d4090dbb8c26",
   "metadata": {},
   "outputs": [
    {
     "name": "stdout",
     "output_type": "stream",
     "text": [
      "104\n",
      "80\n"
     ]
    }
   ],
   "source": [
    "# 12. Tuple Memory Efficiency\n",
    "import sys\n",
    "list_example = [1, 2, 3, 4, 5]\n",
    "tuple_example = (1, 2, 3, 4, 5)\n",
    "print(sys.getsizeof(list_example))  # Memory size of a list\n",
    "print(sys.getsizeof(tuple_example)) # Memory size of a tuple"
   ]
  },
  {
   "cell_type": "code",
   "execution_count": null,
   "id": "7902f32d-b993-489e-9972-bc2a6eb8af9c",
   "metadata": {},
   "outputs": [],
   "source": []
  },
  {
   "cell_type": "code",
   "execution_count": null,
   "id": "7bc4847d-6ba3-4516-b668-6e311ec4ad7f",
   "metadata": {},
   "outputs": [],
   "source": []
  }
 ],
 "metadata": {
  "kernelspec": {
   "display_name": "Python 3 (ipykernel)",
   "language": "python",
   "name": "python3"
  },
  "language_info": {
   "codemirror_mode": {
    "name": "ipython",
    "version": 3
   },
   "file_extension": ".py",
   "mimetype": "text/x-python",
   "name": "python",
   "nbconvert_exporter": "python",
   "pygments_lexer": "ipython3",
   "version": "3.11.7"
  }
 },
 "nbformat": 4,
 "nbformat_minor": 5
}
