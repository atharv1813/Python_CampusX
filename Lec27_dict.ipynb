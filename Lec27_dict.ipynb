{
 "cells": [
  {
   "cell_type": "markdown",
   "id": "aa22ca81-1927-461e-a644-6f04056151b2",
   "metadata": {},
   "source": [
    "### Dictionaries in Python (In-Depth)\n",
    "\n",
    "A **dictionary** in Python is an **unordered**, **mutable** collection of **key-value pairs**. Dictionaries are used to store data values where each value is associated with a unique key. They are optimized for **fast lookups**, making them a very powerful data structure for mapping and retrieval operations.\n",
    "\n",
    "---\n",
    "\n",
    "### 1. **Characteristics of Dictionaries**:\n",
    "\n",
    "- **Key-Value Pair Structure**: Each element in a dictionary is stored as a pair: a key and its corresponding value. For example, in the pair `{'name': 'John'}`, `'name'` is the key and `'John'` is the value.\n",
    "  \n",
    "- **Keys are Unique**: Keys in a dictionary must be unique. If a dictionary contains multiple identical keys, the last assignment overrides the previous ones.\n",
    "\n",
    "- **Unordered**: Dictionaries do not maintain any specific order for the key-value pairs (in Python 3.6 and earlier). However, starting from Python 3.7, dictionaries maintain insertion order by default. This means elements are stored in the order in which they are inserted, but this behavior should not be relied on for logical correctness.\n",
    "\n",
    "- **Mutable**: You can change, add, or remove key-value pairs in a dictionary after it is created. However, the **keys must be immutable** data types such as strings, numbers, or tuples (with immutable elements). Values can be of any data type, including lists or other dictionaries.\n",
    "\n",
    "- **Dynamic Size**: Dictionaries can grow or shrink dynamically as items are added or removed.\n",
    "\n",
    "---\n",
    "\n",
    "### 2. **Creating Dictionaries**:\n",
    "\n",
    "Dictionaries can be created using curly braces `{}` or by using the `dict()` constructor. They can be initialized with data or created as empty dictionaries. Keys are separated from values using colons (`:`), and each key-value pair is separated by a comma.\n",
    "\n",
    "---\n",
    "\n",
    "### 3. **Accessing Dictionary Elements**:\n",
    "\n",
    "- **By Key**: Dictionary elements are accessed using their keys. If the key exists, the corresponding value is returned. If the key does not exist, a `KeyError` is raised, unless a default value is provided or the `get()` method is used.\n",
    "  \n",
    "- **Keys and Values**: You can access all the keys or all the values in a dictionary using the `keys()` and `values()` methods, respectively.\n",
    "\n",
    "---\n",
    "\n",
    "### 4. **Modifying Dictionaries**:\n",
    "\n",
    "- **Adding Elements**: New key-value pairs can be added by assigning a value to a new key.\n",
    "  \n",
    "- **Updating Values**: You can update the value associated with an existing key by reassigning a new value to that key.\n",
    "\n",
    "- **Removing Elements**: You can remove items from a dictionary using the `del` statement, the `pop()` method, or the `popitem()` method.\n",
    "  - `del`: Removes the key-value pair for a specific key.\n",
    "  - `pop(key)`: Removes and returns the value associated with the key. Raises `KeyError` if the key is not found.\n",
    "  - `popitem()`: Removes and returns the last inserted key-value pair as a tuple. Raises `KeyError` if the dictionary is empty.\n",
    "\n",
    "---\n",
    "\n",
    "### 5. **Dictionary Methods**:\n",
    "\n",
    "Python dictionaries come with a variety of built-in methods for working with keys and values:\n",
    "\n",
    "- **`get(key, default)`**: Returns the value associated with the key. If the key is not found, it returns the default value (if provided) or `None`.\n",
    "- **`items()`**: Returns a view object containing the dictionary's key-value pairs as tuples.\n",
    "- **`keys()`**: Returns a view object containing the dictionary's keys.\n",
    "- **`values()`**: Returns a view object containing the dictionary's values.\n",
    "- **`update(dict)`**: Updates the dictionary with elements from another dictionary or an iterable of key-value pairs.\n",
    "- **`setdefault(key, default)`**: Returns the value of the specified key. If the key does not exist, it inserts the key with the default value and returns the value.\n",
    "- **`clear()`**: Removes all elements from the dictionary, leaving it empty.\n",
    "- **`copy()`**: Returns a shallow copy of the dictionary.\n",
    "\n",
    "---\n",
    "\n",
    "### 6. **Dictionary Comprehensions**:\n",
    "\n",
    "Similar to list comprehensions, Python supports **dictionary comprehensions**, which allow the creation of a new dictionary by iterating over an iterable. This is a concise way to generate dictionaries based on existing data.\n",
    "\n",
    "---\n",
    "\n",
    "### 7. **Nested Dictionaries**:\n",
    "\n",
    "Dictionaries can contain other dictionaries as values, creating a **nested dictionary**. This structure allows you to model complex, hierarchical data. You can access elements in nested dictionaries by chaining keys.\n",
    "\n",
    "---\n",
    "\n",
    "### 8. **Dictionary Views**:\n",
    "\n",
    "The methods `keys()`, `values()`, and `items()` return **dictionary view objects**. These views provide a dynamic view of the dictionary’s entries, which means if the dictionary changes, the view reflects those changes in real-time.\n",
    "\n",
    "---\n",
    "\n",
    "### 9. **Iterating through Dictionaries**:\n",
    "\n",
    "You can iterate through a dictionary in multiple ways:\n",
    "- Iterating over **keys**: The default iteration is over keys, allowing you to loop through all keys in the dictionary.\n",
    "- Iterating over **values**: You can iterate through all values by using the `values()` method.\n",
    "- Iterating over **key-value pairs**: Using the `items()` method, you can iterate through both keys and values simultaneously.\n",
    "\n",
    "---\n",
    "\n",
    "### 10. **Dictionary Membership**:\n",
    "\n",
    "- **`in` and `not in`**: These operators check if a key exists in the dictionary. They cannot be used directly on values but only on keys.\n",
    "  \n",
    "For example, `key in dict` returns `True` if the key is present in the dictionary.\n",
    "\n",
    "---\n",
    "\n",
    "### 11. **Dictionary Performance**:\n",
    "\n",
    "Dictionaries are implemented using **hash tables**, which allow for very fast access and lookup times, typically with O(1) average time complexity. This makes dictionaries very efficient for large collections of data that need frequent lookups or updates.\n",
    "\n",
    "---\n",
    "\n",
    "### 12. **Common Use Cases of Dictionaries**:\n",
    "\n",
    "- **Mapping Relationships**: Dictionaries are ideal for representing key-value relationships, such as phone books, database records, or configuration settings.\n",
    "  \n",
    "- **Counting Occurrences**: Dictionaries can be used to count occurrences of elements in a dataset. For example, counting the frequency of words in a text.\n",
    "\n",
    "- **Storing Configuration Data**: Dictionaries are often used to store configuration settings where each option is associated with a specific value.\n",
    "\n",
    "- **Caching**: Dictionaries can be used as caches to store the results of expensive function calls and retrieve them quickly.\n",
    "\n",
    "- **Grouping Data by Keys**: You can use dictionaries to group related data under the same key, making it easier to manage and retrieve later.\n",
    "\n",
    "---\n",
    "\n",
    "### 13. **Limitations of Dictionaries**:\n",
    "\n",
    "- **Unordered (Pre-3.7)**: Before Python 3.7, dictionaries did not maintain insertion order. From Python 3.7 onward, dictionaries preserve the order of keys as they are inserted.\n",
    "  \n",
    "- **Memory Usage**: Dictionaries use more memory than lists or tuples due to their hash table implementation, which requires extra space for storing hash values and pointers.\n",
    "\n",
    "---\n",
    "\n",
    "### 14. **Comparison with Other Data Structures**:\n",
    "\n",
    "- **Dictionaries vs. Lists**: While lists maintain order and allow duplicates, dictionaries do not allow duplicate keys and provide faster lookups and updates by key.\n",
    "  \n",
    "- **Dictionaries vs. Sets**: Sets are similar to dictionaries but store only keys without associated values. They are used when only unique elements are needed, without the need for key-value mapping.\n",
    "\n",
    "---\n",
    "\n",
    "### 15. **Best Practices for Working with Dictionaries**:\n",
    "\n",
    "- **Use `get()` for Safe Access**: When accessing a dictionary, use the `get()` method to avoid raising a `KeyError` if the key is missing.\n",
    "  \n",
    "- **Use Dictionary Comprehensions for Clean Code**: When creating dictionaries from existing iterables, dictionary comprehensions can make your code cleaner and more efficient.\n",
    "\n",
    "- **Avoid Mutable Keys**: Always ensure that keys are immutable (like strings, numbers, or tuples) to avoid unexpected behavior.\n",
    "\n",
    "---\n",
    "\n",
    "### Summary:\n",
    "\n",
    "- **Dictionaries** in Python are highly efficient for key-value mapping and fast lookups, making them ideal for scenarios where fast retrieval of data by key is required.\n",
    "- They are mutable, unordered collections that enforce the uniqueness of keys and allow values to be of any data type.\n",
    "- Python provides numerous methods and operations to manage, manipulate, and access dictionary data efficiently, along with support for more advanced features like nested dictionaries and dictionary comprehensions."
   ]
  },
  {
   "cell_type": "code",
   "execution_count": 18,
   "id": "592ac618-51be-40d6-89a4-9b0642fc3a6c",
   "metadata": {},
   "outputs": [],
   "source": [
    "# 1. Creating a Dictionary\n",
    "dict1 = {\"name\": \"John\", \"age\": 25, \"profession\": \"Engineer\"}\n",
    "empty_dict = {}                          # Empty dictionary\n",
    "dict2 = dict(name=\"Alice\", age=30)       # Using the dict() constructor\n",
    "\n",
    "# Nested dictionary\n",
    "nested_dict = {\n",
    "    \"person1\": {\"name\": \"John\", \"age\": 25},\n",
    "    \"person2\": {\"name\": \"Alice\", \"age\": 30},\n",
    "}"
   ]
  },
  {
   "cell_type": "code",
   "execution_count": 19,
   "id": "937ee584-5b4e-4a0c-96af-d75a40194948",
   "metadata": {},
   "outputs": [
    {
     "name": "stdout",
     "output_type": "stream",
     "text": [
      "John\n",
      "N/A\n"
     ]
    }
   ],
   "source": [
    "# 2. Accessing Dictionary Elements\n",
    "print(dict1[\"name\"])            # Access value by key\n",
    "# print(dict1[\"salary\"])        # Raises KeyError if key doesn't exist\n",
    "print(dict1.get(\"salary\", \"N/A\"))  # Safely access value using get(), returns default if not found"
   ]
  },
  {
   "cell_type": "code",
   "execution_count": 20,
   "id": "a5284b18-a036-4ed1-bbb1-4309d60a9a38",
   "metadata": {},
   "outputs": [],
   "source": [
    "# 3. Adding or Modifying Elements\n",
    "dict1[\"salary\"] = 50000         # Add new key-value pair\n",
    "dict1[\"age\"] = 26               # Modify existing value"
   ]
  },
  {
   "cell_type": "code",
   "execution_count": 21,
   "id": "82872768-6362-48ef-ace0-f0392374ecdd",
   "metadata": {},
   "outputs": [
    {
     "name": "stdout",
     "output_type": "stream",
     "text": [
      "Engineer\n"
     ]
    }
   ],
   "source": [
    "# 4. Removing Elements\n",
    "removed_item = dict1.pop(\"profession\")  # Remove key and return its value\n",
    "print(removed_item)\n",
    "del dict1[\"salary\"]                    # Remove key-value pair using del\n",
    "# dict1.clear()                        # Clear all elements from the dictionary"
   ]
  },
  {
   "cell_type": "code",
   "execution_count": 22,
   "id": "039a33ba-78bc-47a9-b7db-0666972ed913",
   "metadata": {},
   "outputs": [
    {
     "name": "stdout",
     "output_type": "stream",
     "text": [
      "dict_keys(['name', 'age'])\n",
      "dict_values(['John', 26])\n",
      "dict_items([('name', 'John'), ('age', 26)])\n"
     ]
    }
   ],
   "source": [
    "# 5. Dictionary Methods\n",
    "print(dict1.keys())                    # Get all keys\n",
    "print(dict1.values())                  # Get all values\n",
    "print(dict1.items())                   # Get all key-value pairs as tuples"
   ]
  },
  {
   "cell_type": "code",
   "execution_count": 23,
   "id": "8e5a2fb0-5295-4720-a308-58f0af6dcfa4",
   "metadata": {},
   "outputs": [
    {
     "name": "stdout",
     "output_type": "stream",
     "text": [
      "True\n",
      "True\n"
     ]
    }
   ],
   "source": [
    "# 6. Checking for Keys\n",
    "print(\"name\" in dict1)                 # Check if a key exists in the dictionary\n",
    "print(\"profession\" not in dict1)       # Check if a key is not in the dictionary"
   ]
  },
  {
   "cell_type": "code",
   "execution_count": 24,
   "id": "ff148a2c-7575-474b-af2c-b15175369284",
   "metadata": {},
   "outputs": [
    {
     "name": "stdout",
     "output_type": "stream",
     "text": [
      "name John\n",
      "age 26\n",
      "name: John\n",
      "age: 26\n"
     ]
    }
   ],
   "source": [
    "# 7. Iterating Through a Dictionary\n",
    "for key in dict1:\n",
    "    print(key, dict1[key])             # Iterating through keys\n",
    "\n",
    "for key, value in dict1.items():\n",
    "    print(f\"{key}: {value}\")           # Iterating through key-value pairs"
   ]
  },
  {
   "cell_type": "code",
   "execution_count": 25,
   "id": "7a130d47-ca77-4769-b353-f1f601a018b8",
   "metadata": {},
   "outputs": [
    {
     "name": "stdout",
     "output_type": "stream",
     "text": [
      "{0: 0, 1: 1, 2: 4, 3: 9, 4: 16, 5: 25}\n"
     ]
    }
   ],
   "source": [
    "# 8. Dictionary Comprehensions\n",
    "squares = {x: x**2 for x in range(6)}  # Creating a dictionary with comprehension\n",
    "print(squares)"
   ]
  },
  {
   "cell_type": "code",
   "execution_count": 26,
   "id": "ea6f8cab-465d-48bf-9a24-548182c8ca27",
   "metadata": {},
   "outputs": [],
   "source": [
    "# 9. Updating a Dictionary\n",
    "dict1.update({\"city\": \"New York\", \"age\": 27})  # Update with multiple key-value pairs"
   ]
  },
  {
   "cell_type": "code",
   "execution_count": 27,
   "id": "5ab7117a-4347-4f13-8043-9ea7c1c698e0",
   "metadata": {},
   "outputs": [
    {
     "name": "stdout",
     "output_type": "stream",
     "text": [
      "{'name': 'John', 'age': 27, 'city': 'New York'}\n"
     ]
    }
   ],
   "source": [
    "# 10. Copying a Dictionary\n",
    "dict_copy = dict1.copy()               # Shallow copy of the dictionary\n",
    "print(dict_copy)"
   ]
  },
  {
   "cell_type": "code",
   "execution_count": 28,
   "id": "4833cba5-a64a-4f45-ab82-9b64c5a9e088",
   "metadata": {},
   "outputs": [
    {
     "name": "stdout",
     "output_type": "stream",
     "text": [
      "John\n"
     ]
    }
   ],
   "source": [
    "# 11. Nested Dictionaries\n",
    "print(nested_dict[\"person1\"][\"name\"])  # Access elements in a nested dictionary"
   ]
  },
  {
   "cell_type": "code",
   "execution_count": 29,
   "id": "1afa34d6-0f4a-4d08-93a0-05bf90d75fee",
   "metadata": {},
   "outputs": [
    {
     "name": "stdout",
     "output_type": "stream",
     "text": [
      "27\n"
     ]
    }
   ],
   "source": [
    "# 12. Using setdefault()\n",
    "default_value = dict1.setdefault(\"age\", 18)  # If key exists, return its value; otherwise, set it\n",
    "print(default_value)\n"
   ]
  },
  {
   "cell_type": "code",
   "execution_count": 30,
   "id": "4ec743bd-fe01-4558-bf15-8b451d17af1d",
   "metadata": {},
   "outputs": [
    {
     "name": "stdout",
     "output_type": "stream",
     "text": [
      "dict_keys(['name', 'age', 'city', 'hobby'])\n"
     ]
    }
   ],
   "source": [
    "# 13. Dictionary View Objects\n",
    "keys_view = dict1.keys()               # View object for keys\n",
    "values_view = dict1.values()           # View object for values\n",
    "items_view = dict1.items()             # View object for key-value pairs\n",
    "\n",
    "# Real-time reflection in views\n",
    "dict1[\"hobby\"] = \"painting\"\n",
    "print(keys_view)                       # Views automatically update"
   ]
  },
  {
   "cell_type": "code",
   "execution_count": 31,
   "id": "e90bc785-bc48-44a3-899c-a6c376b0ba21",
   "metadata": {},
   "outputs": [
    {
     "name": "stdout",
     "output_type": "stream",
     "text": [
      "('hobby', 'painting')\n"
     ]
    }
   ],
   "source": [
    "# 14. Using popitem()\n",
    "last_item = dict1.popitem()            # Remove and return the last inserted key-value pair\n",
    "print(last_item)"
   ]
  },
  {
   "cell_type": "code",
   "execution_count": 32,
   "id": "b0e879ec-094d-4b53-b0d5-24b4da3a047c",
   "metadata": {},
   "outputs": [
    {
     "name": "stdout",
     "output_type": "stream",
     "text": [
      "{'d': 1, 'i': 2, 'c': 1, 't': 1, 'o': 1, 'n': 1, 'a': 1, 'r': 1, 'y': 1}\n"
     ]
    }
   ],
   "source": [
    "# 15. Counting Occurrences\n",
    "char_count = {}\n",
    "sentence = \"dictionary\"\n",
    "for char in sentence:\n",
    "    char_count[char] = char_count.get(char, 0) + 1\n",
    "print(char_count)"
   ]
  },
  {
   "cell_type": "code",
   "execution_count": 33,
   "id": "9a8fba13-5304-41ac-a33e-8589a944e379",
   "metadata": {},
   "outputs": [
    {
     "name": "stdout",
     "output_type": "stream",
     "text": [
      "104\n",
      "224\n"
     ]
    }
   ],
   "source": [
    "# 16. Dictionary Memory Efficiency\n",
    "import sys\n",
    "list_example = [1, 2, 3, 4, 5]\n",
    "dict_example = {1: \"one\", 2: \"two\", 3: \"three\", 4: \"four\", 5: \"five\"}\n",
    "print(sys.getsizeof(list_example))    # Memory size of a list\n",
    "print(sys.getsizeof(dict_example))    # Memory size of a dictionary\n"
   ]
  },
  {
   "cell_type": "code",
   "execution_count": null,
   "id": "35322783-6119-4959-bcc6-081587d2d71f",
   "metadata": {},
   "outputs": [],
   "source": []
  }
 ],
 "metadata": {
  "kernelspec": {
   "display_name": "Python 3 (ipykernel)",
   "language": "python",
   "name": "python3"
  },
  "language_info": {
   "codemirror_mode": {
    "name": "ipython",
    "version": 3
   },
   "file_extension": ".py",
   "mimetype": "text/x-python",
   "name": "python",
   "nbconvert_exporter": "python",
   "pygments_lexer": "ipython3",
   "version": "3.11.7"
  }
 },
 "nbformat": 4,
 "nbformat_minor": 5
}
