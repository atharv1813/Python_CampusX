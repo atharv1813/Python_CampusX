{
 "cells": [
  {
   "cell_type": "markdown",
   "id": "b4c97cc4-1822-4a79-ab96-928d33514ae9",
   "metadata": {},
   "source": [
    "### Modules in Python\n",
    "\n",
    "A **module** in Python is a file containing Python definitions and statements. It allows code to be organized in a way that makes it reusable and easier to manage. By creating modules, you can store functions, variables, and classes that can be imported into other Python scripts or modules, making them more efficient.\n",
    "\n",
    "#### Key Features:\n",
    "- **Reusability**: Modules allow you to define a set of functions or classes once and use them in different parts of your project or in different projects.\n",
    "- **Organization**: Breaking code into modules helps in organizing large programs into manageable sections.\n",
    "- **Namespace**: A module creates a separate namespace, avoiding conflicts between function and variable names in different modules.\n",
    "\n",
    "#### How to Create a Module:\n",
    "Any Python file with the `.py` extension can be a module. For example, if you create a file named `mymodule.py` with a set of functions:\n",
    "\n",
    "```python\n",
    "# mymodule.py\n",
    "def greet(name):\n",
    "    return f\"Hello, {name}!\"\n",
    "```\n",
    "\n",
    "You can import and use the module like this:\n",
    "\n",
    "```python\n",
    "import mymodule\n",
    "\n",
    "print(mymodule.greet(\"Atharv\"))\n",
    "```\n",
    "\n",
    "#### Using Built-in Modules:\n",
    "Python comes with a standard library of pre-built modules. You can import and use these modules to avoid rewriting common functionalities. Some common Python modules include:\n",
    "\n",
    "- **`math`**: Provides access to mathematical functions like `sqrt()`, `sin()`, `cos()`, etc.\n",
    "  ```python\n",
    "  import math\n",
    "  print(math.sqrt(16))  # Outputs: 4.0\n",
    "  ```\n",
    "\n",
    "- **`random`**: Allows you to generate random numbers and make random selections.\n",
    "  ```python\n",
    "  import random\n",
    "  print(random.randint(1, 10))  # Outputs: a random integer between 1 and 10\n",
    "  ```\n",
    "\n",
    "- **`os`**: Provides functions for interacting with the operating system.\n",
    "  ```python\n",
    "  import os\n",
    "  print(os.getcwd())  # Outputs: current working directory\n",
    "  ```\n",
    "\n",
    "- **`time`**: Provides various time-related functions.\n",
    "  ```python\n",
    "  import time\n",
    "  print(time.time())  # Outputs: the current time in seconds since the epoch\n",
    "  ```\n",
    "\n",
    "#### Importing from a Module:\n",
    "You can import specific functions or variables from a module using the `from` keyword:\n",
    "\n",
    "```python\n",
    "from math import pi\n",
    "print(pi)  # Outputs: 3.141592653589793\n",
    "```\n",
    "\n",
    "#### Aliasing Modules:\n",
    "You can give a module or function an alias using the `as` keyword:\n",
    "\n",
    "```python\n",
    "import math as m\n",
    "print(m.sqrt(25))  # Outputs: 5.0\n",
    "```\n",
    "\n",
    "#### Summary:\n",
    "- A **module** is a Python file containing functions, classes, or variables.\n",
    "- Modules improve **code reusability** and **organization**.\n",
    "- You can import both **built-in** and **custom modules**.\n",
    "- **Built-in modules** like `math`, `random`, `os`, and `time` provide useful functionality.\n"
   ]
  },
  {
   "cell_type": "code",
   "execution_count": 1,
   "id": "a3c0c71b-d900-4f08-9bc2-3e9e5cca2711",
   "metadata": {},
   "outputs": [
    {
     "name": "stdout",
     "output_type": "stream",
     "text": [
      "4.0\n"
     ]
    }
   ],
   "source": [
    "import math\n",
    "print(math.sqrt(16))"
   ]
  },
  {
   "cell_type": "code",
   "execution_count": 15,
   "id": "de3bd46b-392e-496b-91d3-234849d1109b",
   "metadata": {},
   "outputs": [
    {
     "name": "stdout",
     "output_type": "stream",
     "text": [
      "1729189575.7169843\n"
     ]
    },
    {
     "data": {
      "text/plain": [
       "'Thu Oct 17 23:56:15 2024'"
      ]
     },
     "execution_count": 15,
     "metadata": {},
     "output_type": "execute_result"
    }
   ],
   "source": [
    "import time\n",
    "print(time.time())\n",
    "time.ctime() #prints current time"
   ]
  },
  {
   "cell_type": "code",
   "execution_count": 16,
   "id": "a6aeadec-e510-484e-9f6e-d33e1d4d53f4",
   "metadata": {},
   "outputs": [
    {
     "name": "stdout",
     "output_type": "stream",
     "text": [
      "5.0\n"
     ]
    }
   ],
   "source": [
    "import math as m\n",
    "print(m.sqrt(25)) "
   ]
  },
  {
   "cell_type": "code",
   "execution_count": 17,
   "id": "f29438e2-218c-4a52-85cc-bcb3dca76c36",
   "metadata": {},
   "outputs": [
    {
     "name": "stdout",
     "output_type": "stream",
     "text": [
      "['__doc__', '__loader__', '__name__', '__package__', '__spec__', 'acos', 'acosh', 'asin', 'asinh', 'atan', 'atan2', 'atanh', 'cbrt', 'ceil', 'comb', 'copysign', 'cos', 'cosh', 'degrees', 'dist', 'e', 'erf', 'erfc', 'exp', 'exp2', 'expm1', 'fabs', 'factorial', 'floor', 'fmod', 'frexp', 'fsum', 'gamma', 'gcd', 'hypot', 'inf', 'isclose', 'isfinite', 'isinf', 'isnan', 'isqrt', 'lcm', 'ldexp', 'lgamma', 'log', 'log10', 'log1p', 'log2', 'modf', 'nan', 'nextafter', 'perm', 'pi', 'pow', 'prod', 'radians', 'remainder', 'sin', 'sinh', 'sqrt', 'tan', 'tanh', 'tau', 'trunc', 'ulp']\n"
     ]
    }
   ],
   "source": [
    "import math\n",
    "\n",
    "# List all functions and attributes in the math module\n",
    "print(dir(math))"
   ]
  },
  {
   "cell_type": "code",
   "execution_count": 18,
   "id": "276ee6c7-1be2-4914-94aa-5b4d306f7539",
   "metadata": {},
   "outputs": [
    {
     "name": "stdout",
     "output_type": "stream",
     "text": [
      "[4, 3, 2, 5, 1]\n"
     ]
    }
   ],
   "source": [
    "import random \n",
    "a = [1,2,3,4,5]\n",
    "random.shuffle(a)\n",
    "print(a)"
   ]
  },
  {
   "cell_type": "code",
   "execution_count": 19,
   "id": "666996b6-0f30-45f7-893d-ca3af78861a4",
   "metadata": {},
   "outputs": [
    {
     "name": "stdout",
     "output_type": "stream",
     "text": [
      "['__call__', '__class__', '__delattr__', '__dir__', '__doc__', '__eq__', '__format__', '__ge__', '__getattribute__', '__getstate__', '__gt__', '__hash__', '__init__', '__init_subclass__', '__le__', '__lt__', '__module__', '__name__', '__ne__', '__new__', '__qualname__', '__reduce__', '__reduce_ex__', '__repr__', '__self__', '__setattr__', '__sizeof__', '__str__', '__subclasshook__', '__text_signature__']\n"
     ]
    }
   ],
   "source": [
    "import math\n",
    "print(dir(math.prod))"
   ]
  },
  {
   "cell_type": "code",
   "execution_count": 20,
   "id": "42e49504-1e22-4617-9ce7-4db4dee0f20b",
   "metadata": {},
   "outputs": [
    {
     "data": {
      "text/plain": [
       "<function math.prod(iterable, /, *, start=1)>"
      ]
     },
     "execution_count": 20,
     "metadata": {},
     "output_type": "execute_result"
    }
   ],
   "source": [
    "math.prod"
   ]
  },
  {
   "cell_type": "code",
   "execution_count": 21,
   "id": "5a416009-db32-452a-a938-7d815222e0ff",
   "metadata": {},
   "outputs": [
    {
     "name": "stdout",
     "output_type": "stream",
     "text": [
      "24\n",
      "48\n"
     ]
    }
   ],
   "source": [
    "import math\n",
    "\n",
    "# Basic usage: computes 2 * 3 * 4 = 24\n",
    "result = math.prod([2, 3, 4])\n",
    "print(result)  # Outputs: 24\n",
    "\n",
    "# Using the start argument: computes 2 * 2 * 3 * 4 = 48\n",
    "result_with_start = math.prod([2, 3, 4], start=2)\n",
    "print(result_with_start)  # Outputs: 48"
   ]
  },
  {
   "cell_type": "code",
   "execution_count": 26,
   "id": "285c353b-953c-44fd-9392-bd81548f75f3",
   "metadata": {},
   "outputs": [
    {
     "data": {
      "text/plain": [
       "'C:\\\\Users\\\\athar\\\\OneDrive\\\\Desktop\\\\PYTHON\\\\Python_CampusX'"
      ]
     },
     "execution_count": 26,
     "metadata": {},
     "output_type": "execute_result"
    }
   ],
   "source": [
    "import os\n",
    "os.getcwd() #prints path if current working directory"
   ]
  },
  {
   "cell_type": "code",
   "execution_count": 25,
   "id": "028e1b4b-ab90-4ae3-a71f-a8b5ce8e2d07",
   "metadata": {},
   "outputs": [
    {
     "data": {
      "text/plain": [
       "['.ipynb_checkpoints',\n",
       " 'Lec10_ifelse.ipynb',\n",
       " 'Lec12_while_otherloops_game.ipynb',\n",
       " 'Lec17_built_in.ipynb',\n",
       " 'Lec18_modules.ipynb',\n",
       " 'Lec1_Print.ipynb',\n",
       " 'Lec2_dataTypes.ipynb',\n",
       " 'Lec4_vars.ipynb',\n",
       " 'Lec5_keywords_identifiers.ipynb',\n",
       " 'Lec7_input_typeconversion.ipynb',\n",
       " 'Lec8_literals_operators.ipynb']"
      ]
     },
     "execution_count": 25,
     "metadata": {},
     "output_type": "execute_result"
    }
   ],
   "source": [
    "os.listdir() #currrent directiory ke andar kya kya hai"
   ]
  },
  {
   "cell_type": "markdown",
   "id": "08aa7699-8d0a-4bf9-a33d-52b15388655e",
   "metadata": {},
   "source": [
    "### `os` Module in Python\n",
    "\n",
    "The **`os` module** in Python provides a way of interacting with the operating system. It allows you to perform various tasks like file handling, directory manipulation, and executing system commands, making it easier to build applications that work across different platforms (Windows, macOS, Linux).\n",
    "\n",
    "#### Key Features of the `os` Module:\n",
    "- **File and Directory Operations**: Create, delete, and modify files and directories.\n",
    "- **Environment Variables**: Access and manage environment variables.\n",
    "- **Process Management**: Interact with system processes.\n",
    "- **Path Manipulation**: Manipulate and access file and directory paths.\n",
    "\n",
    "### Commonly Used Functions\n",
    "\n",
    "#### 1. **Getting the Current Working Directory**\n",
    "The **`os.getcwd()`** function returns the current working directory.\n",
    "```python\n",
    "import os\n",
    "print(os.getcwd())  # Outputs the current working directory path\n",
    "```\n",
    "\n",
    "#### 2. **Changing the Current Working Directory**\n",
    "The **`os.chdir(path)`** function changes the current working directory to the specified path.\n",
    "```python\n",
    "os.chdir('/path/to/directory')  # Changes the working directory\n",
    "```\n",
    "\n",
    "#### 3. **Listing Files and Directories**\n",
    "The **`os.listdir(path)`** function lists all files and directories in the specified path.\n",
    "```python\n",
    "print(os.listdir('.'))  # Lists files and directories in the current directory\n",
    "```\n",
    "\n",
    "#### 4. **Creating and Removing Directories**\n",
    "- **`os.mkdir(path)`**: Creates a new directory at the specified path.\n",
    "- **`os.rmdir(path)`**: Removes the specified directory (only if it is empty).\n",
    "\n",
    "```python\n",
    "os.mkdir('new_folder')  # Creates a directory named 'new_folder'\n",
    "os.rmdir('new_folder')  # Removes the directory\n",
    "```\n",
    "\n",
    "#### 5. **Removing Files**\n",
    "The **`os.remove(path)`** function deletes a file.\n",
    "```python\n",
    "os.remove('file.txt')  # Deletes the file named 'file.txt'\n",
    "```\n",
    "\n",
    "#### 6. **Renaming Files and Directories**\n",
    "The **`os.rename(src, dst)`** function renames a file or directory from `src` to `dst`.\n",
    "```python\n",
    "os.rename('old_name.txt', 'new_name.txt')  # Renames the file\n",
    "```\n",
    "\n",
    "#### 7. **Checking Existence of a Path**\n",
    "The **`os.path.exists(path)`** function checks if a specified path exists.\n",
    "```python\n",
    "if os.path.exists('file.txt'):\n",
    "    print(\"File exists\")\n",
    "else:\n",
    "    print(\"File does not exist\")\n",
    "```\n",
    "\n",
    "#### 8. **Getting Information About a File or Directory**\n",
    "The **`os.stat(path)`** function returns information about the specified file or directory (like size, modification time, etc.).\n",
    "```python\n",
    "info = os.stat('file.txt')\n",
    "print(info.st_size)  # Prints the size of the file\n",
    "```\n",
    "\n",
    "#### 9. **Working with Environment Variables**\n",
    "- **`os.getenv(varname)`**: Gets the value of an environment variable.\n",
    "- **`os.putenv(varname, value)`**: Sets the value of an environment variable.\n",
    "\n",
    "```python\n",
    "home_dir = os.getenv('HOME')  # Get the HOME environment variable\n",
    "print(home_dir)\n",
    "```\n",
    "\n",
    "#### 10. **Executing System Commands**\n",
    "The **`os.system(command)`** function allows you to execute system commands.\n",
    "```python\n",
    "os.system('ls')  # Executes the 'ls' command on Unix-like systems\n",
    "```\n",
    "\n",
    "#### 11. **Path Manipulation**\n",
    "The **`os.path`** submodule provides utilities for working with file paths.\n",
    "- **`os.path.join(path, *paths)`**: Joins one or more path components.\n",
    "- **`os.path.basename(path)`**: Returns the base name of the file or directory.\n",
    "- **`os.path.dirname(path)`**: Returns the directory name of the path.\n",
    "- **`os.path.split(path)`**: Splits the path into a pair `(head, tail)`.\n",
    "\n",
    "```python\n",
    "full_path = os.path.join('/home/user', 'file.txt')  # Joins the paths\n",
    "print(os.path.basename(full_path))  # Outputs: file.txt\n",
    "print(os.path.dirname(full_path))  # Outputs: /home/user\n",
    "```\n",
    "\n",
    "### Summary:\n",
    "- The **`os` module** helps interact with the operating system.\n",
    "- It provides functionality for managing files, directories, environment variables, and system commands.\n",
    "- The **`os.path`** submodule helps manipulate file and directory paths."
   ]
  },
  {
   "cell_type": "code",
   "execution_count": null,
   "id": "9a803cfa-3cc9-4334-aed1-7cfac788ea98",
   "metadata": {},
   "outputs": [],
   "source": []
  }
 ],
 "metadata": {
  "kernelspec": {
   "display_name": "Python 3 (ipykernel)",
   "language": "python",
   "name": "python3"
  },
  "language_info": {
   "codemirror_mode": {
    "name": "ipython",
    "version": 3
   },
   "file_extension": ".py",
   "mimetype": "text/x-python",
   "name": "python",
   "nbconvert_exporter": "python",
   "pygments_lexer": "ipython3",
   "version": "3.11.7"
  }
 },
 "nbformat": 4,
 "nbformat_minor": 5
}
