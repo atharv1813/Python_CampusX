{
 "cells": [
  {
   "cell_type": "markdown",
   "id": "cbbe41c9-1eed-464d-b780-98ff6abe3f6b",
   "metadata": {},
   "source": [
    "### **Variables in Python**\n",
    "\n",
    "- **Dynamic Typing**: In Python, variables are dynamically typed, meaning you don’t need to declare a variable’s type. The type is inferred when you assign a value to the variable.\n",
    "  \n",
    "  ```python\n",
    "  x = 10         # Integer type\n",
    "  x = \"Python\"   # Now it's a string\n",
    "  ```\n",
    "\n",
    "- **No Declaration Required**: You don't need to declare variables before using them. A variable is automatically created the moment you assign a value to it.\n",
    "\n",
    "  ```python\n",
    "  name = \"Atharv\"\n",
    "  age = 30\n",
    "  ```\n",
    "\n",
    "- **Rebinding**: Python variables can be re-assigned to values of any type at any point in the program. This is called **dynamic binding**.\n",
    "\n",
    "  ```python\n",
    "  var = 5        # Initially an integer\n",
    "  var = [1, 2, 3]  # Now it's a list\n",
    "  ```\n",
    "\n",
    "- **Memory Management**: Python handles memory allocation and deallocation automatically through **garbage collection**, so you don’t need to worry about manually freeing memory.\n",
    "\n",
    "- **No Type Declaration**: Unlike statically typed languages (like C or Java), Python does not require you to declare the type of a variable explicitly.\n",
    "  \n",
    "  ```python\n",
    "  pi = 3.14   # Python automatically knows this is a float\n",
    "  ```\n",
    "\n",
    "- **Mutable vs Immutable**: Some variables (like lists, dictionaries) can be changed after creation (mutable), while others (like integers, strings, tuples) cannot (immutable).\n",
    "\n",
    "This makes Python highly flexible and easy to use when working with variables!"
   ]
  },
  {
   "cell_type": "code",
   "execution_count": 9,
   "id": "94b189d3-c80b-474c-9823-3474e25395df",
   "metadata": {},
   "outputs": [
    {
     "name": "stdout",
     "output_type": "stream",
     "text": [
      "Name: Atharv\n",
      "Age: 30\n",
      "Height: 5.9\n",
      "Is Student: False\n",
      "Age next year: 31\n",
      "Updated Age: 31\n",
      "Value of PI: 3.14159\n"
     ]
    }
   ],
   "source": [
    "# Assigning values to variables\n",
    "name = \"Atharv\"\n",
    "age = 30\n",
    "height = 5.9\n",
    "is_student = False\n",
    "\n",
    "# Printing the variables\n",
    "print(\"Name:\", name)\n",
    "print(\"Age:\", age)\n",
    "print(\"Height:\", height)\n",
    "print(\"Is Student:\", is_student)\n",
    "\n",
    "# Performing operations with variables\n",
    "next_year_age = age + 1  # Arithmetic operation\n",
    "print(\"Age next year:\", next_year_age)\n",
    "\n",
    "# Re-assigning values to variables\n",
    "age = 31\n",
    "print(\"Updated Age:\", age)\n",
    "\n",
    "# Constants (by convention, constants are written in all caps)\n",
    "PI = 3.14159\n",
    "print(\"Value of PI:\", PI)"
   ]
  },
  {
   "cell_type": "code",
   "execution_count": 10,
   "id": "3aeccd08-716e-48cc-b4b6-6d68c0b66f15",
   "metadata": {},
   "outputs": [
    {
     "name": "stdout",
     "output_type": "stream",
     "text": [
      "4\n"
     ]
    }
   ],
   "source": [
    "name = 4\n",
    "print(name) # data type can also be changed also called \"Dynamic Binding\""
   ]
  },
  {
   "cell_type": "code",
   "execution_count": 11,
   "id": "07a5a6ff-737d-464c-8382-eb04ada21db5",
   "metadata": {},
   "outputs": [
    {
     "name": "stdout",
     "output_type": "stream",
     "text": [
      "5\n",
      "6\n",
      "7\n"
     ]
    }
   ],
   "source": [
    "a = 5; b= 6; c = 7\n",
    "print(a)\n",
    "print(b)\n",
    "print(c)"
   ]
  },
  {
   "cell_type": "code",
   "execution_count": 12,
   "id": "8bc8c9b0-08f9-4143-bf8c-17622f0435c2",
   "metadata": {},
   "outputs": [
    {
     "name": "stdout",
     "output_type": "stream",
     "text": [
      "5\n",
      "6\n",
      "7\n"
     ]
    }
   ],
   "source": [
    "a, b, c = 5, 6, 7\n",
    "print(a)\n",
    "print(b)\n",
    "print(c)"
   ]
  },
  {
   "cell_type": "code",
   "execution_count": 13,
   "id": "ae4dd7ac-4a49-4664-be05-dc600705ced5",
   "metadata": {},
   "outputs": [
    {
     "name": "stdout",
     "output_type": "stream",
     "text": [
      "7\n",
      "7\n",
      "7\n"
     ]
    }
   ],
   "source": [
    "a = b = c = 7\n",
    "print(a)\n",
    "print(b)\n",
    "print(c)"
   ]
  },
  {
   "cell_type": "code",
   "execution_count": null,
   "id": "f8409561-f68c-484b-af33-7a9c2f551e55",
   "metadata": {},
   "outputs": [],
   "source": []
  }
 ],
 "metadata": {
  "kernelspec": {
   "display_name": "Python 3 (ipykernel)",
   "language": "python",
   "name": "python3"
  },
  "language_info": {
   "codemirror_mode": {
    "name": "ipython",
    "version": 3
   },
   "file_extension": ".py",
   "mimetype": "text/x-python",
   "name": "python",
   "nbconvert_exporter": "python",
   "pygments_lexer": "ipython3",
   "version": "3.11.7"
  }
 },
 "nbformat": 4,
 "nbformat_minor": 5
}
