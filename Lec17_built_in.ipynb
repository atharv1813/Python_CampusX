{
 "cells": [
  {
   "cell_type": "markdown",
   "id": "07b2dddd-fc01-4c88-a88d-c2218576d700",
   "metadata": {},
   "source": [
    "# Demonstrating various built-in functions in one code"
   ]
  },
  {
   "cell_type": "code",
   "execution_count": 12,
   "id": "2d5911b5-2dcf-4577-9240-61b57d20fd32",
   "metadata": {},
   "outputs": [
    {
     "name": "stdout",
     "output_type": "stream",
     "text": [
      "Using print():\n",
      "Hello, World!\n"
     ]
    }
   ],
   "source": [
    "# print()\n",
    "print(\"Using print():\")\n",
    "print(\"Hello, World!\")  # Output: Hello, World!"
   ]
  },
  {
   "cell_type": "code",
   "execution_count": 13,
   "id": "e1eb18ff-f054-45f8-9c31-d885b2ff9af3",
   "metadata": {},
   "outputs": [
    {
     "name": "stdout",
     "output_type": "stream",
     "text": [
      "\n",
      "Using len():\n",
      "Length of my_list: 4\n"
     ]
    }
   ],
   "source": [
    "# len()\n",
    "print(\"\\nUsing len():\")\n",
    "my_list = [1, 2, 3, 4]\n",
    "print(\"Length of my_list:\", len(my_list))  # Output: 4"
   ]
  },
  {
   "cell_type": "code",
   "execution_count": 14,
   "id": "0efaebb1-2120-46bd-8b0a-cbca41095290",
   "metadata": {},
   "outputs": [
    {
     "name": "stdout",
     "output_type": "stream",
     "text": [
      "\n",
      "Using type():\n",
      "Type of num: <class 'int'>\n"
     ]
    }
   ],
   "source": [
    "# type()\n",
    "print(\"\\nUsing type():\")\n",
    "num = 123\n",
    "print(\"Type of num:\", type(num))  # Output: <class 'int'>"
   ]
  },
  {
   "cell_type": "code",
   "execution_count": 15,
   "id": "7fe59d48-b809-45ed-9e30-7b32a758289e",
   "metadata": {},
   "outputs": [
    {
     "name": "stdout",
     "output_type": "stream",
     "text": [
      "\n",
      "Using int(), float(), and str():\n",
      "String to int: 10\n",
      "String to float: 10.0\n",
      "Integer to string: 10\n"
     ]
    }
   ],
   "source": [
    "# int(), float(), str()\n",
    "print(\"\\nUsing int(), float(), and str():\")\n",
    "num_str = \"10\"\n",
    "print(\"String to int:\", int(num_str))  # Output: 10\n",
    "print(\"String to float:\", float(num_str))  # Output: 10.0\n",
    "print(\"Integer to string:\", str(10))  # Output: '10'"
   ]
  },
  {
   "cell_type": "code",
   "execution_count": 16,
   "id": "a61f6041-d7d3-47ad-9a1c-2d9f2f62d5be",
   "metadata": {},
   "outputs": [
    {
     "name": "stdout",
     "output_type": "stream",
     "text": [
      "\n",
      "Using sum():\n",
      "Sum of my_list: 10\n"
     ]
    }
   ],
   "source": [
    "# sum()\n",
    "print(\"\\nUsing sum():\")\n",
    "print(\"Sum of my_list:\", sum(my_list))  # Output: 10"
   ]
  },
  {
   "cell_type": "code",
   "execution_count": 17,
   "id": "810e5291-fa33-40c4-a3f2-3046d7364d16",
   "metadata": {},
   "outputs": [
    {
     "name": "stdout",
     "output_type": "stream",
     "text": [
      "\n",
      "Using max() and min():\n",
      "Max of my_list: 4\n",
      "Min of my_list: 1\n"
     ]
    }
   ],
   "source": [
    "# max(), min()\n",
    "print(\"\\nUsing max() and min():\")\n",
    "print(\"Max of my_list:\", max(my_list))  # Output: 4\n",
    "print(\"Min of my_list:\", min(my_list))  # Output: 1"
   ]
  },
  {
   "cell_type": "code",
   "execution_count": 18,
   "id": "ec433542-de0d-4e92-9f93-59ebff0b52cb",
   "metadata": {},
   "outputs": [
    {
     "name": "stdout",
     "output_type": "stream",
     "text": [
      "\n",
      "Using sorted():\n",
      "Sorted list: [1, 2, 3, 4]\n"
     ]
    }
   ],
   "source": [
    "# sorted()\n",
    "print(\"\\nUsing sorted():\")\n",
    "unsorted_list = [3, 1, 4, 2]\n",
    "print(\"Sorted list:\", sorted(unsorted_list))  # Output: [1, 2, 3, 4]"
   ]
  },
  {
   "cell_type": "code",
   "execution_count": 19,
   "id": "cc86972c-4fd4-4c31-ac66-de6ed76c5a6b",
   "metadata": {},
   "outputs": [
    {
     "name": "stdout",
     "output_type": "stream",
     "text": [
      "\n",
      "Using abs():\n",
      "Absolute value of -10: 10\n"
     ]
    }
   ],
   "source": [
    "# abs()\n",
    "print(\"\\nUsing abs():\")\n",
    "print(\"Absolute value of -10:\", abs(-10))  # Output: 10"
   ]
  },
  {
   "cell_type": "code",
   "execution_count": 25,
   "id": "d78c06a4-f830-4bde-8ebe-71280fbb685f",
   "metadata": {},
   "outputs": [
    {
     "name": "stdout",
     "output_type": "stream",
     "text": [
      "\n",
      "Using round():\n",
      "Rounded value of pi to 2 decimal places: 3.14\n",
      "Rounded value of pi: to nearest decimal: 3\n"
     ]
    }
   ],
   "source": [
    "# round()\n",
    "print(\"\\nUsing round():\")\n",
    "pi = 3.14159\n",
    "print(\"Rounded value of pi to 2 decimal places:\", round(pi, 2))  # Output: 3.14\n",
    "print(\"Rounded value of pi: to nearest decimal:\", round(pi)) "
   ]
  },
  {
   "cell_type": "markdown",
   "id": "1fa7ed1c-2a5e-4f1e-978c-8221900428b5",
   "metadata": {},
   "source": [
    "**zip(): Combines two or more iterables element-wise into tuples.**"
   ]
  },
  {
   "cell_type": "code",
   "execution_count": 27,
   "id": "ab3ff30e-5ef9-4e0e-bbba-8f0296fe7414",
   "metadata": {},
   "outputs": [
    {
     "name": "stdout",
     "output_type": "stream",
     "text": [
      "\n",
      "Using zip():\n",
      "Zipped list: [(1, 'a'), (2, 'b'), (3, 'c')]\n"
     ]
    }
   ],
   "source": [
    "# zip()\n",
    "print(\"\\nUsing zip():\")\n",
    "list1 = [1, 2, 3]\n",
    "list2 = ['a', 'b', 'c']\n",
    "zipped = zip(list1, list2)\n",
    "print(\"Zipped list:\", list(zipped))  # Output: [(1, 'a'), (2, 'b'), (3, 'c')]"
   ]
  },
  {
   "cell_type": "code",
   "execution_count": 28,
   "id": "51c58377-bccc-41ab-9bb8-3141ad00cbca",
   "metadata": {},
   "outputs": [
    {
     "data": {
      "text/plain": [
       "'0b100'"
      ]
     },
     "execution_count": 28,
     "metadata": {},
     "output_type": "execute_result"
    }
   ],
   "source": [
    "bin(4)"
   ]
  },
  {
   "cell_type": "code",
   "execution_count": 29,
   "id": "b4f4d046-286d-4096-a01e-f2fd56ad64b1",
   "metadata": {},
   "outputs": [
    {
     "data": {
      "text/plain": [
       "'0o10'"
      ]
     },
     "execution_count": 29,
     "metadata": {},
     "output_type": "execute_result"
    }
   ],
   "source": [
    "oct(8)"
   ]
  },
  {
   "cell_type": "code",
   "execution_count": 30,
   "id": "e7cfe4b4-9e8d-4079-b589-9ef7ca3acc44",
   "metadata": {},
   "outputs": [
    {
     "data": {
      "text/plain": [
       "'0b1010'"
      ]
     },
     "execution_count": 30,
     "metadata": {},
     "output_type": "execute_result"
    }
   ],
   "source": [
    "bin(10)"
   ]
  },
  {
   "cell_type": "code",
   "execution_count": 31,
   "id": "d7876408-ab27-4edb-887c-092d64747e53",
   "metadata": {},
   "outputs": [
    {
     "data": {
      "text/plain": [
       "'0x9'"
      ]
     },
     "execution_count": 31,
     "metadata": {},
     "output_type": "execute_result"
    }
   ],
   "source": [
    "hex(9)"
   ]
  },
  {
   "cell_type": "markdown",
   "id": "b716238d-265e-417c-b265-26440134a9c7",
   "metadata": {},
   "source": [
    "**In Python, the id() function returns a unique identifier for an object. This identifier is typically the memory address where the object is stored (although the exact value may differ between implementations of Python). The id() function is useful for checking whether two variables point to the same object in memory.**"
   ]
  },
  {
   "cell_type": "code",
   "execution_count": 34,
   "id": "bb8194ed-8d09-4d1b-b42e-24ae71871fd6",
   "metadata": {},
   "outputs": [
    {
     "name": "stdout",
     "output_type": "stream",
     "text": [
      "140729916113992\n",
      "140729916113992\n",
      "1374586817152\n",
      "1374586939072\n"
     ]
    }
   ],
   "source": [
    "a = 10\n",
    "b = 10\n",
    "c = [1, 2, 3]\n",
    "d = [1, 2, 3]\n",
    "\n",
    "print(id(a))  # Outputs the unique id of the object a points to\n",
    "print(id(b))  # Same as a, because integers are immutable and Python reuses the object\n",
    "print(id(c))  # Outputs the unique id of the list c\n",
    "print(id(d))  # Different from c, even though the lists are identical"
   ]
  },
  {
   "cell_type": "code",
   "execution_count": 37,
   "id": "5bb437e4-6b3b-47fb-8adb-596cb5536bf3",
   "metadata": {},
   "outputs": [
    {
     "data": {
      "text/plain": [
       "99"
      ]
     },
     "execution_count": 37,
     "metadata": {},
     "output_type": "execute_result"
    }
   ],
   "source": [
    "ord('c') #print ascii code of char"
   ]
  },
  {
   "cell_type": "code",
   "execution_count": 40,
   "id": "d338b987-78b1-47f5-b559-e9a55fc27037",
   "metadata": {},
   "outputs": [
    {
     "name": "stdout",
     "output_type": "stream",
     "text": [
      "Help on built-in function print in module builtins:\n",
      "\n",
      "print(*args, sep=' ', end='\\n', file=None, flush=False)\n",
      "    Prints the values to a stream, or to sys.stdout by default.\n",
      "    \n",
      "    sep\n",
      "      string inserted between values, default a space.\n",
      "    end\n",
      "      string appended after the last value, default a newline.\n",
      "    file\n",
      "      a file-like object (stream); defaults to the current sys.stdout.\n",
      "    flush\n",
      "      whether to forcibly flush the stream.\n",
      "\n"
     ]
    }
   ],
   "source": [
    "help('print')"
   ]
  },
  {
   "cell_type": "code",
   "execution_count": 42,
   "id": "894fbb24-5cfc-407c-ac5c-ed12edd40285",
   "metadata": {},
   "outputs": [
    {
     "name": "stdout",
     "output_type": "stream",
     "text": [
      "Help on built-in function sum in module builtins:\n",
      "\n",
      "sum(iterable, /, start=0)\n",
      "    Return the sum of a 'start' value (default: 0) plus an iterable of numbers\n",
      "    \n",
      "    When the iterable is empty, return the start value.\n",
      "    This function is intended specifically for use with numeric values and may\n",
      "    reject non-numeric types.\n",
      "\n"
     ]
    }
   ],
   "source": [
    "help('sum')"
   ]
  },
  {
   "cell_type": "code",
   "execution_count": null,
   "id": "d254be6d-cda3-4ab4-8a34-60ba0eb09a31",
   "metadata": {},
   "outputs": [],
   "source": []
  }
 ],
 "metadata": {
  "kernelspec": {
   "display_name": "Python 3 (ipykernel)",
   "language": "python",
   "name": "python3"
  },
  "language_info": {
   "codemirror_mode": {
    "name": "ipython",
    "version": 3
   },
   "file_extension": ".py",
   "mimetype": "text/x-python",
   "name": "python",
   "nbconvert_exporter": "python",
   "pygments_lexer": "ipython3",
   "version": "3.11.7"
  }
 },
 "nbformat": 4,
 "nbformat_minor": 5
}
