{
 "cells": [
  {
   "cell_type": "markdown",
   "id": "393c9a88-edbf-49f4-bb18-93226cba86d6",
   "metadata": {},
   "source": [
    "### **Python Keywords**\n",
    "\n",
    "- **Case Sensitivity**: Python is a **case-sensitive** language, meaning `True` and `true` would be considered different identifiers.\n",
    "  \n",
    "- **Keywords**: Keywords are reserved words that have special meanings in Python. These cannot be used as variable names, function names, or any other identifiers. Keywords are used to define the syntax and structure of Python programs.\n",
    "\n",
    "- **Number of Keywords**: As of Python 3.x, there are **33 keywords**.\n",
    "\n",
    "#### **Example: Listing All Keywords in Python**\n",
    "```python\n",
    "import keyword\n",
    "print(keyword.kwlist)\n",
    "```\n",
    "\n",
    "This will print the list of Python keywords, which includes:\n",
    "\n",
    "- **Control flow**: `if`, `else`, `elif`, `for`, `while`, `try`, `except`, `finally`\n",
    "- **Logical operators**: `and`, `or`, `not`\n",
    "- **Definition keywords**: `def`, `class`, `lambda`\n",
    "- **Variable handling**: `global`, `nonlocal`, `del`, `pass`, `return`, `yield`\n",
    "- **Other important keywords**: `import`, `from`, `raise`, `with`, `assert`, `break`, `continue`, `as`, `is`, `in`\n",
    "\n",
    "These keywords form the core language constructs that allow Python to function."
   ]
  },
  {
   "cell_type": "code",
   "execution_count": 2,
   "id": "b1d77819-7e96-427d-b568-ca521f0d7e33",
   "metadata": {},
   "outputs": [
    {
     "name": "stdout",
     "output_type": "stream",
     "text": [
      "['False', 'None', 'True', 'and', 'as', 'assert', 'async', 'await', 'break', 'class', 'continue', 'def', 'del', 'elif', 'else', 'except', 'finally', 'for', 'from', 'global', 'if', 'import', 'in', 'is', 'lambda', 'nonlocal', 'not', 'or', 'pass', 'raise', 'return', 'try', 'while', 'with', 'yield']\n"
     ]
    }
   ],
   "source": [
    "import keyword\n",
    "print(keyword.kwlist)"
   ]
  },
  {
   "cell_type": "markdown",
   "id": "82c61be9-d7a0-4cfb-a11a-4c63db97db59",
   "metadata": {},
   "source": [
    "### **Python Identifiers**\n",
    "\n",
    "- **Definition**: A Python identifier is a name used to identify a variable, function, class, module, or other objects in Python.\n",
    "\n",
    "#### **Rules for Setting Identifiers**:\n",
    "1. **Starting Character**: An identifier must start with an alphabet letter (A-Z, a-z) or an underscore (_).\n",
    "   - Valid: `myVariable`, `_temp`\n",
    "   - Invalid: `1stVariable`, `@value`\n",
    "  \n",
    "2. **Subsequent Characters**: After the first character, identifiers can be followed by zero or more letters, digits (0-9), or underscores.\n",
    "   - Valid: `variable1`, `data_set`, `value2`\n",
    "   - Invalid: `data-set`, `value#`\n",
    "\n",
    "3. **Keywords**: Keywords cannot be used as identifiers. Keywords are reserved words in Python that have special meanings.\n",
    "   - Example: `if`, `for`, `def`, `class` cannot be used as variable names.\n",
    "\n",
    "By adhering to these rules, you can create valid identifiers that follow Python's syntax."
   ]
  },
  {
   "cell_type": "code",
   "execution_count": 5,
   "id": "90edaeeb-5f9e-400b-aeb1-c0d7ce5a7c3f",
   "metadata": {},
   "outputs": [
    {
     "name": "stdout",
     "output_type": "stream",
     "text": [
      "10\n",
      "Atharv\n",
      "30\n",
      "[1, 2, 3]\n",
      "Math\n",
      "underscore_variable\n"
     ]
    }
   ],
   "source": [
    "# Valid identifiers\n",
    "my_variable = 10\n",
    "_user_name = \"Atharv\"\n",
    "age1 = 30\n",
    "data_set = [1, 2, 3]\n",
    "class_name = \"Math\"\n",
    "__= \"underscore_variable\"\n",
    "\n",
    "print(my_variable)  # Output: 10\n",
    "print(_user_name)   # Output: Atharv\n",
    "print(age1)         # Output: 30\n",
    "print(data_set)     # Output: [1, 2, 3]\n",
    "print(class_name)   # Output: Math\n",
    "print(__)           # Output : underscore_variable"
   ]
  },
  {
   "cell_type": "code",
   "execution_count": null,
   "id": "774ff502-3eb2-4d56-a554-96cbfe2f1f12",
   "metadata": {},
   "outputs": [],
   "source": []
  }
 ],
 "metadata": {
  "kernelspec": {
   "display_name": "Python 3 (ipykernel)",
   "language": "python",
   "name": "python3"
  },
  "language_info": {
   "codemirror_mode": {
    "name": "ipython",
    "version": 3
   },
   "file_extension": ".py",
   "mimetype": "text/x-python",
   "name": "python",
   "nbconvert_exporter": "python",
   "pygments_lexer": "ipython3",
   "version": "3.11.7"
  }
 },
 "nbformat": 4,
 "nbformat_minor": 5
}
