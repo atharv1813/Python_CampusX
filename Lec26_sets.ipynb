{
 "cells": [
  {
   "cell_type": "markdown",
   "id": "023e7e59-e1c9-4c5c-a85f-7835dfb9714d",
   "metadata": {},
   "source": [
    "### Sets in Python (In-Depth)\n",
    "\n",
    "A **set** in Python is an unordered, mutable collection of unique elements. Sets are similar to lists and dictionaries, but with some key differences that make them ideal for specific use cases where uniqueness of elements and set operations (like unions and intersections) are important.\n",
    "\n",
    "---\n",
    "\n",
    "### 1. **Characteristics of Sets**:\n",
    "- **Unordered**: Elements in a set do not have a defined order, and you cannot access them by indexing. Every time you print or iterate through a set, the order of elements may vary.\n",
    "- **Mutable**: You can modify a set by adding or removing elements after it is created.\n",
    "- **Unique Elements**: Sets automatically ensure that there are no duplicate elements. Any attempt to add a duplicate element will be ignored.\n",
    "- **Heterogeneous**: A set can contain elements of different data types, although all elements must be hashable (immutable objects such as numbers, strings, and tuples).\n",
    "\n",
    "---\n",
    "\n",
    "### 2. **Creating Sets**:\n",
    "- Sets can be created using curly braces `{}` or by using the `set()` constructor.\n",
    "- You can initialize a set with elements, or you can create an empty set using the `set()` function. Be cautious: `{}` creates an empty dictionary, not a set.\n",
    "  \n",
    "---\n",
    "\n",
    "### 3. **Accessing Set Elements**:\n",
    "- Since sets are unordered, elements cannot be accessed using indexing or slicing (unlike lists and tuples).\n",
    "- You can loop through a set to access its elements, but the order will be arbitrary.\n",
    "\n",
    "---\n",
    "\n",
    "### 4. **Immutability of Set Elements**:\n",
    "- While sets themselves are mutable (you can add or remove elements), the elements inside a set must be **immutable**. This means that elements such as integers, strings, and tuples can be stored in a set, but lists, dictionaries, or other sets cannot.\n",
    "\n",
    "---\n",
    "\n",
    "\n",
    "### 6. **Set Methods**:\n",
    "Python provides several built-in methods for working with sets. Some of the most commonly used methods include:\n",
    "\n",
    "- **`add(item)`**: Adds an item to the set. If the item already exists, it will be ignored.\n",
    "- **`remove(item)`**: Removes the specified item from the set. If the item is not present, a `KeyError` will be raised.\n",
    "- **`discard(item)`**: Removes the specified item if it exists. If the item is not present, it does nothing (no error raised).\n",
    "- **`pop()`**: Removes and returns an arbitrary element from the set. Raises a `KeyError` if the set is empty.\n",
    "- **`clear()`**: Removes all elements from the set, making it an empty set.\n",
    "- **`copy()`**: Returns a shallow copy of the set.\n",
    "\n",
    "---\n",
    "\n",
    "### 7. **Set Operations**:\n",
    "Python provides a rich set of operations for sets, which mimic the behavior of mathematical sets. These operations are highly optimized and allow efficient set manipulations.\n",
    "\n",
    "- **Union (`|`)**: Combines all elements from both sets.\n",
    "- **Intersection (`&`)**: Returns common elements between two sets.\n",
    "- **Difference (`-`)**: Returns elements in the first set but not in the second.\n",
    "- **Symmetric Difference (`^`)**: Returns elements present in one set or the other, but not in both.\n",
    "- These operations can be performed using either methods (`set1.union(set2)`) or operators (`set1 | set2` for union).\n",
    " \n",
    "---\n",
    "\n",
    "### 8. **Set Comparisons**:\n",
    "- **Subset (`<=`)**: Returns `True` if all elements of one set are present in another set.\n",
    "- **Proper Subset (`<`)**: Returns `True` if one set is a subset of another set but not equal to it.\n",
    "- **Superset (`>=`)**: Returns `True` if a set contains all elements of another set.\n",
    "- **Proper Superset (`>`)**: Returns `True` if one set is a superset of another set but not equal to it.\n",
    "  \n",
    "These comparison operations are used to check relationships between sets.\n",
    "\n",
    "---\n",
    "\n",
    "### 9. **Frozen Sets**:\n",
    "A **frozenset** is an immutable version of a set. Once a frozenset is created, you cannot modify it (you can't add or remove elements). Frozensets are hashable and can be used as keys in dictionaries or as elements in other sets (which regular sets cannot).\n",
    "\n",
    "- Frozensets support all set operations and comparisons, but none of the mutating methods like `add()`, `remove()`, or `pop()`.\n",
    "\n",
    "---\n",
    "\n",
    "### 10. **Performance of Sets**:\n",
    "- **Time Complexity**: Sets in Python are implemented using **hash tables**, making set operations like add, remove, and membership test (`in`) very fast, with an average time complexity of O(1).\n",
    "- **Memory Efficiency**: Since sets are backed by hash tables, they may require more memory compared to lists or tuples, but this allows for faster operations.\n",
    "\n",
    "---\n",
    "\n",
    "### 11. **Use Cases of Sets**:\n",
    "- **Removing Duplicates**: Sets are often used when you need to eliminate duplicates from a collection of data.\n",
    "- **Membership Testing**: Sets are ideal for checking membership (whether an item exists in a collection) due to their O(1) time complexity.\n",
    "- **Set Operations**: When you need to perform operations like unions, intersections, or differences on data, sets are the natural choice.\n",
    "- **Data Integrity**: When you need a collection of items where duplicates are not allowed, sets ensure this automatically.\n",
    "  \n",
    "---\n",
    "\n",
    "### 12. **Limitations of Sets**:\n",
    "- **Unordered**: Since sets are unordered, you cannot access elements by index. If you need to maintain the order of elements, a list or a tuple is more appropriate.\n",
    "- **Immutability of Elements**: Only immutable objects can be stored in a set. This means you cannot store lists, dictionaries, or other sets directly in a set.\n",
    "\n",
    "---\n",
    "\n",
    "### 13. **Comparison Between Lists, Tuples, and Sets**:\n",
    "- **Lists**: Ordered, mutable, allow duplicates. Suitable for collections where order matters or elements need to be modified.\n",
    "- **Tuples**: Ordered, immutable, allow duplicates. Useful when you need a fixed-size, unchangeable collection.\n",
    "- **Sets**: Unordered, mutable, unique elements. Ideal for membership testing and set operations, and for collections where uniqueness is required.\n",
    "\n",
    "---\n",
    "\n",
    "### 14. **Best Practices with Sets**:\n",
    "- **When to Use**: Use sets when you need fast membership tests, unique elements, and efficient set operations.\n",
    "- **Avoid Using Sets for Ordered Data**: If you need to maintain element order, sets are not suitable since they are inherently unordered.\n",
    "- **Use Frozensets for Immutable Collections**: When you need an immutable collection that supports set operations, frozensets are ideal.\n",
    "\n",
    "---\n",
    "\n",
    "### Summary:\n",
    "- **Sets** in Python are unordered, mutable collections of unique elements, optimized for fast membership testing and set operations.\n",
    "- They support mathematical set operations like union, intersection, and difference, and are ideal when data uniqueness and performance are important.\n",
    "- **Frozen sets** provide an immutable variant of sets that can be used as dictionary keys or set elements.\n"
   ]
  },
  {
   "cell_type": "code",
   "execution_count": 50,
   "id": "0a18c8e5-86a7-43ca-a486-40bedcdc9072",
   "metadata": {},
   "outputs": [],
   "source": [
    "# 1. Creating Sets\n",
    "set1 = {1, 2, 3, 4, 5}                # Set of integers\n",
    "set2 = {\"apple\", \"banana\", \"cherry\"}   # Set of strings\n",
    "set3 = {True, False}                   # Set of booleans\n",
    "set4 = {1, \"apple\", True}              # Set with mixed data types\n",
    "empty_set = set()                      # Empty set (note: {} creates an empty dictionary)"
   ]
  },
  {
   "cell_type": "code",
   "execution_count": 51,
   "id": "031b0ecf-f691-45a6-ab23-3ab8f2ed6bff",
   "metadata": {},
   "outputs": [],
   "source": [
    "# 2. Adding Elements to a Set\n",
    "set1.add(6)               # Adds 6 to the set\n",
    "set2.add(\"orange\")         # Adds \"orange\" to the set\n",
    "set3.add(False)            # Trying to add False again won't change the set"
   ]
  },
  {
   "cell_type": "code",
   "execution_count": 52,
   "id": "d646d5ca-42d2-4c70-b168-38090f26dfe8",
   "metadata": {},
   "outputs": [],
   "source": [
    "# 3. Removing Elements from a Set\n",
    "set1.remove(6)             # Removes 6 from the set, raises KeyError if element not found\n",
    "set2.discard(\"orange\")      # Removes \"orange\" from the set, no error if element not found\n",
    "# set1.remove(10)          # Uncommenting this will raise an error since 10 is not in the set\n",
    "set2.discard(\"pear\")        # No error if \"pear\" is not found in set"
   ]
  },
  {
   "cell_type": "code",
   "execution_count": 53,
   "id": "649c2c3b-b464-4816-977d-628e5b099ed6",
   "metadata": {},
   "outputs": [
    {
     "name": "stdout",
     "output_type": "stream",
     "text": [
      "Union: {1, 2, 3, 4, 5, 6}\n",
      "Intersection: {3, 4}\n",
      "Difference: {1, 2}\n",
      "Symmetric Difference: {1, 2, 5, 6}\n"
     ]
    }
   ],
   "source": [
    "# 4. Set Operations (Union, Intersection, Difference, Symmetric Difference)\n",
    "set_a = {1, 2, 3, 4}\n",
    "set_b = {3, 4, 5, 6}\n",
    "\n",
    "# Union: All elements from both sets\n",
    "union_set = set_a.union(set_b)          # Using method\n",
    "union_set_op = set_a | set_b            # Using operator\n",
    "print(\"Union:\", union_set)\n",
    "\n",
    "# Intersection: Common elements between sets\n",
    "intersection_set = set_a.intersection(set_b)  # Using method\n",
    "intersection_set_op = set_a & set_b           # Using operator\n",
    "print(\"Intersection:\", intersection_set)\n",
    "\n",
    "# Difference: Elements in set_a but not in set_b\n",
    "difference_set = set_a.difference(set_b)      # Using method\n",
    "difference_set_op = set_a - set_b             # Using operator\n",
    "print(\"Difference:\", difference_set)\n",
    "\n",
    "# Symmetric Difference: Elements in either set, but not in both\n",
    "symmetric_diff_set = set_a.symmetric_difference(set_b)  # Using method\n",
    "symmetric_diff_set_op = set_a ^ set_b                   # Using operator\n",
    "print(\"Symmetric Difference:\", symmetric_diff_set)"
   ]
  },
  {
   "cell_type": "code",
   "execution_count": 54,
   "id": "2cbc9dec-532e-4b23-8b42-eb6b76d139a4",
   "metadata": {},
   "outputs": [
    {
     "name": "stdout",
     "output_type": "stream",
     "text": [
      "True\n",
      "False\n",
      "False\n"
     ]
    }
   ],
   "source": [
    "# 5. Set Membership\n",
    "print(1 in set_a)         # True, since 1 is in set_a\n",
    "print(10 in set_a)        # False, 10 is not in set_a\n",
    "print(4 not in set_b)     # False, 4 is in set_b"
   ]
  },
  {
   "cell_type": "code",
   "execution_count": 55,
   "id": "c1db294b-8668-4f53-b9a1-c9b3e56cfd0e",
   "metadata": {},
   "outputs": [
    {
     "name": "stdout",
     "output_type": "stream",
     "text": [
      "cherry\n",
      "apple\n",
      "banana\n"
     ]
    }
   ],
   "source": [
    "# 6. Iterating through a Set\n",
    "for item in set2:\n",
    "    print(item)           # Prints each element in set2"
   ]
  },
  {
   "cell_type": "code",
   "execution_count": 56,
   "id": "f492a57f-d68d-4633-854a-e90f0bace210",
   "metadata": {},
   "outputs": [],
   "source": [
    "# 7. Set Methods: add, remove, discard, pop, clear, copy\n",
    "set4.add(\"new item\")      # Add a new element\n",
    "set4.remove(\"apple\")      # Remove an element (raises KeyError if not present)\n",
    "set4.discard(\"nonexistent\")  # Discard an element (no error if not present)\n",
    "random_item = set1.pop()  # Removes and returns an arbitrary element\n",
    "set1.clear()              # Removes all elements from set1\n",
    "set_copy = set2.copy()    # Shallow copy of set2"
   ]
  },
  {
   "cell_type": "code",
   "execution_count": 57,
   "id": "bfdce053-fe2e-4724-9f42-1c0475317002",
   "metadata": {},
   "outputs": [
    {
     "name": "stdout",
     "output_type": "stream",
     "text": [
      "True\n",
      "True\n",
      "True\n",
      "True\n",
      "True\n",
      "True\n"
     ]
    }
   ],
   "source": [
    "# 8. Subset, Superset, and Disjoint\n",
    "set_x = {1, 2}\n",
    "set_y = {1, 2, 3, 4}\n",
    "set_z = {5, 6}\n",
    "\n",
    "# Subset: Set x is a subset of set y\n",
    "print(set_x.issubset(set_y))    # True\n",
    "print(set_x <= set_y)           # True (subset using operator)\n",
    "\n",
    "# Superset: Set y is a superset of set x\n",
    "print(set_y.issuperset(set_x))  # True\n",
    "print(set_y >= set_x)           # True (superset using operator)\n",
    "\n",
    "# Disjoint: Sets with no common elements\n",
    "print(set_x.isdisjoint(set_z))  # True, no common elements\n",
    "print(set_y.isdisjoint(set_z))  # True"
   ]
  },
  {
   "cell_type": "code",
   "execution_count": 58,
   "id": "90ee893c-6bb0-4413-8a42-f9ce70d2013e",
   "metadata": {},
   "outputs": [
    {
     "ename": "AttributeError",
     "evalue": "'frozenset' object has no attribute 'add'",
     "output_type": "error",
     "traceback": [
      "\u001b[1;31m---------------------------------------------------------------------------\u001b[0m",
      "\u001b[1;31mAttributeError\u001b[0m                            Traceback (most recent call last)",
      "Cell \u001b[1;32mIn[58], line 3\u001b[0m\n\u001b[0;32m      1\u001b[0m \u001b[38;5;66;03m# 9. Frozenset (Immutable Set)\u001b[39;00m\n\u001b[0;32m      2\u001b[0m frozen_set \u001b[38;5;241m=\u001b[39m \u001b[38;5;28mfrozenset\u001b[39m([\u001b[38;5;241m1\u001b[39m, \u001b[38;5;241m2\u001b[39m, \u001b[38;5;241m3\u001b[39m, \u001b[38;5;241m4\u001b[39m])\n\u001b[1;32m----> 3\u001b[0m frozen_set\u001b[38;5;241m.\u001b[39madd(\u001b[38;5;241m5\u001b[39m)\n",
      "\u001b[1;31mAttributeError\u001b[0m: 'frozenset' object has no attribute 'add'"
     ]
    }
   ],
   "source": [
    "# 9. Frozenset (Immutable Set)\n",
    "frozen_set = frozenset([1, 2, 3, 4])\n",
    "frozen_set.add(5)            # Uncommenting this line will raise an error, frozenset is immutable"
   ]
  },
  {
   "cell_type": "code",
   "execution_count": 59,
   "id": "3d1ff3e0-4c07-48b2-9b37-9bcc324770fd",
   "metadata": {},
   "outputs": [
    {
     "name": "stdout",
     "output_type": "stream",
     "text": [
      "Set from list (unique elements): {1, 2, 3, 4, 5}\n"
     ]
    }
   ],
   "source": [
    "# 10. Converting List to Set (to remove duplicates)\n",
    "list_with_duplicates = [1, 2, 2, 3, 4, 4, 5]\n",
    "unique_set = set(list_with_duplicates)\n",
    "print(\"Set from list (unique elements):\", unique_set)\n"
   ]
  },
  {
   "cell_type": "code",
   "execution_count": null,
   "id": "6e8bdbf7-3f65-441e-b668-7531d320a50c",
   "metadata": {},
   "outputs": [],
   "source": []
  },
  {
   "cell_type": "code",
   "execution_count": null,
   "id": "52eb9252-8a3b-472a-8085-7a6cdce45034",
   "metadata": {},
   "outputs": [],
   "source": []
  }
 ],
 "metadata": {
  "kernelspec": {
   "display_name": "Python 3 (ipykernel)",
   "language": "python",
   "name": "python3"
  },
  "language_info": {
   "codemirror_mode": {
    "name": "ipython",
    "version": 3
   },
   "file_extension": ".py",
   "mimetype": "text/x-python",
   "name": "python",
   "nbconvert_exporter": "python",
   "pygments_lexer": "ipython3",
   "version": "3.11.7"
  }
 },
 "nbformat": 4,
 "nbformat_minor": 5
}
