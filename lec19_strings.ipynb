{
 "cells": [
  {
   "cell_type": "markdown",
   "id": "29d470b5-71db-4333-9f54-4c38c7789e74",
   "metadata": {},
   "source": [
    "### Strings in Python\n",
    "\n",
    "In Python, strings are sequences of **Unicode characters**. They are immutable, meaning once a string is created, it cannot be modified. However, you can create new strings by manipulating existing ones.\n",
    "\n",
    "---\n",
    "\n",
    "### 1. **Creating Strings**\n",
    "You can create strings using single quotes, double quotes, or triple quotes (for multiline strings).\n",
    "\n",
    "```python\n",
    "# Single and double quotes\n",
    "str1 = 'Hello'\n",
    "str2 = \"World\"\n",
    "\n",
    "# Triple quotes for multiline strings\n",
    "str3 = '''This is a \n",
    "multiline string'''\n",
    "```\n",
    "\n",
    "You can also create an empty string:\n",
    "```python\n",
    "empty_str = ''\n",
    "```\n",
    "\n",
    "### 2. **Accessing Strings**\n",
    "You can access individual characters or slices of a string using indexing and slicing.\n",
    "\n",
    "- **Indexing**: Python strings are **zero-indexed**, so the first character is at index 0.\n",
    "\n",
    "```python\n",
    "s = \"Python\"\n",
    "print(s[0])  # Output: 'P'\n",
    "print(s[-1])  # Output: 'n' (last character)\n",
    "```\n",
    "\n",
    "- **Slicing**: You can extract substrings by specifying a start and end index.\n",
    "\n",
    "```python\n",
    "print(s[0:2])  # Output: 'Py'\n",
    "print(s[1:4])  # Output: 'yth'\n",
    "```\n",
    "\n",
    "### 3. **Adding Characters to Strings**\n",
    "Since strings are immutable, you can't modify them in place. But you can concatenate strings to create a new string.\n",
    "\n",
    "- **Concatenation**:\n",
    "```python\n",
    "str1 = \"Hello\"\n",
    "str2 = \"World\"\n",
    "result = str1 + \" \" + str2  # Adds a space in between\n",
    "print(result)  # Output: 'Hello World'\n",
    "```\n",
    "\n",
    "- **Repetition**:\n",
    "```python\n",
    "repeat_str = \"Hi! \" * 3\n",
    "print(repeat_str)  # Output: 'Hi! Hi! Hi! '\n",
    "```\n",
    "\n",
    "### 4. **Editing Strings**\n",
    "You cannot directly modify a string (strings are immutable). To \"edit\" a string, you create a new one by modifying an existing string.\n",
    "\n",
    "```python\n",
    "s = \"Python\"\n",
    "new_s = s.replace('P', 'J')  # Replace 'P' with 'J'\n",
    "print(new_s)  # Output: 'Jython'\n",
    "```\n",
    "\n",
    "### 5. **Deleting Strings**\n",
    "- **Delete a string**: You can delete an entire string using `del`, but you cannot delete part of a string.\n",
    "  \n",
    "```python\n",
    "s = \"Hello, World!\"\n",
    "del s  # Deletes the entire string object\n",
    "```\n",
    "\n",
    "---\n",
    "\n",
    "### 6. **Operations on Strings**\n",
    "Python provides many useful operations on strings.\n",
    "\n",
    "- **Length of a string**:\n",
    "```python\n",
    "s = \"Hello\"\n",
    "print(len(s))  # Output: 5\n",
    "```\n",
    "\n",
    "- **String Membership Test**: Check if a substring exists within a string using `in` or `not in`.\n",
    "\n",
    "```python\n",
    "s = \"Python\"\n",
    "print(\"Py\" in s)  # Output: True\n",
    "print(\"Java\" not in s)  # Output: True\n",
    "```\n",
    "\n",
    "- **String Iteration**: You can loop through the characters in a string.\n",
    "```python\n",
    "for char in \"Python\":\n",
    "    print(char)\n",
    "```\n",
    "\n",
    "- **String Comparison**: Strings can be compared using relational operators like `==`, `<`, `>`.\n",
    "```python\n",
    "print(\"abc\" == \"abc\")  # Output: True\n",
    "print(\"abc\" < \"xyz\")  # Output: True\n",
    "```\n",
    "\n",
    "---\n",
    "\n",
    "### 7. **String Functions**\n",
    "\n",
    "Python provides many built-in string functions:\n",
    "\n",
    "- **`str.upper()`**: Converts the string to uppercase.\n",
    "```python\n",
    "s = \"hello\"\n",
    "print(s.upper())  # Output: 'HELLO'\n",
    "```\n",
    "\n",
    "- **`str.lower()`**: Converts the string to lowercase.\n",
    "```python\n",
    "print(s.lower())  # Output: 'hello'\n",
    "```\n",
    "\n",
    "- **`str.capitalize()`**: Capitalizes the first character of the string.\n",
    "```python\n",
    "print(s.capitalize())  # Output: 'Hello'\n",
    "```\n",
    "\n",
    "- **`str.strip()`**: Removes leading and trailing spaces.\n",
    "```python\n",
    "s = \"  hello  \"\n",
    "print(s.strip())  # Output: 'hello'\n",
    "```\n",
    "\n",
    "- **`str.split(delimiter)`**: Splits the string into a list of substrings based on a delimiter.\n",
    "```python\n",
    "s = \"Hello,World,Python\"\n",
    "print(s.split(','))  # Output: ['Hello', 'World', 'Python']\n",
    "```\n",
    "\n",
    "- **`str.join()`**: Joins elements of an iterable into a string with a specified separator.\n",
    "```python\n",
    "words = ['Hello', 'World']\n",
    "print(\" \".join(words))  # Output: 'Hello World'\n",
    "```\n",
    "\n",
    "- **`str.find(substring)`**: Returns the index of the first occurrence of the substring, or `-1` if not found.\n",
    "```python\n",
    "s = \"Python is fun\"\n",
    "print(s.find(\"is\"))  # Output: 7\n",
    "```\n",
    "\n",
    "- **`str.replace(old, new)`**: Replaces occurrences of the substring `old` with `new`.\n",
    "```python\n",
    "s = \"I love Python\"\n",
    "print(s.replace(\"Python\", \"coding\"))  # Output: 'I love coding'\n",
    "```\n",
    "\n",
    "- **`str.startswith(prefix)`** and **`str.endswith(suffix)`**: Check if a string starts or ends with the given substring.\n",
    "```python\n",
    "s = \"Python\"\n",
    "print(s.startswith(\"Py\"))  # Output: True\n",
    "print(s.endswith(\"on\"))  # Output: True\n",
    "```\n",
    "\n",
    "---\n",
    "\n",
    "### Summary:\n",
    "- Strings in Python are immutable sequences of Unicode characters.\n",
    "- You can create strings with single, double, or triple quotes.\n",
    "- Strings can be accessed, sliced, and manipulated using various operations and functions.\n",
    "- Built-in functions provide powerful methods to work with and manipulate strings efficiently.\n",
    "\n"
   ]
  },
  {
   "cell_type": "code",
   "execution_count": 1,
   "id": "2f9cd21b-a2e3-478c-90c2-e5988b0a18d1",
   "metadata": {},
   "outputs": [],
   "source": [
    "# Single and double quotes\n",
    "str1 = 'Hello'\n",
    "str2 = \"World\"\n",
    "\n",
    "# Triple quotes for multiline strings\n",
    "str3 = '''This is a \n",
    "multiline string'''\n",
    "\n",
    "empty_str = ''"
   ]
  },
  {
   "cell_type": "code",
   "execution_count": 43,
   "id": "c202e1ed-b34d-4bca-889f-8c7e4cfe6df9",
   "metadata": {},
   "outputs": [
    {
     "name": "stdout",
     "output_type": "stream",
     "text": [
      "P\n",
      "n\n",
      "Py\n",
      "Pyth\n",
      "thon\n",
      "yth\n",
      "yhn\n",
      "nohtyP\n"
     ]
    }
   ],
   "source": [
    "s = \"Python\"\n",
    "print(s[0])  # Output: 'P'\n",
    "print(s[-1])  # Output: 'n' (last character)\n",
    "\n",
    "#Slicing: You can extract substrings by specifying a start and end index(end index is exclusive).\n",
    "\n",
    "print(s[0:2])  # Output: 'Py'\n",
    "print(s[:4]) # till 3 bcz 4 is exclusive\n",
    "print(s[2:]) # from 2 onwards all bcz 2(start) is inclusive\n",
    "print(s[1:4])  # Output: 'yth'\n",
    "print(s[1:6:2])\n",
    "print(s[::-1]) # it reverses the string"
   ]
  },
  {
   "cell_type": "code",
   "execution_count": 31,
   "id": "b8ff131d-ac78-4860-bc3c-a4224af7df63",
   "metadata": {},
   "outputs": [
    {
     "name": "stdout",
     "output_type": "stream",
     "text": [
      "Hi! Hi! Hi! \n"
     ]
    }
   ],
   "source": [
    "repeat_str = \"Hi! \" * 3\n",
    "print(repeat_str)"
   ]
  },
  {
   "cell_type": "code",
   "execution_count": 32,
   "id": "361e92ae-b9e9-4e2b-942c-0b166c7a4908",
   "metadata": {},
   "outputs": [
    {
     "name": "stdout",
     "output_type": "stream",
     "text": [
      "Jython\n"
     ]
    }
   ],
   "source": [
    "s = \"Python\"\n",
    "new_s = s.replace('P', 'J')  # Replace 'P' with 'J'\n",
    "print(new_s)"
   ]
  },
  {
   "cell_type": "code",
   "execution_count": 33,
   "id": "f8bdcaea-f376-45fe-be29-1c1bfc21f40b",
   "metadata": {},
   "outputs": [
    {
     "ename": "NameError",
     "evalue": "name 's' is not defined",
     "output_type": "error",
     "traceback": [
      "\u001b[1;31m---------------------------------------------------------------------------\u001b[0m",
      "\u001b[1;31mNameError\u001b[0m                                 Traceback (most recent call last)",
      "Cell \u001b[1;32mIn[33], line 3\u001b[0m\n\u001b[0;32m      1\u001b[0m s \u001b[38;5;241m=\u001b[39m \u001b[38;5;124m\"\u001b[39m\u001b[38;5;124mHello, World!\u001b[39m\u001b[38;5;124m\"\u001b[39m\n\u001b[0;32m      2\u001b[0m \u001b[38;5;28;01mdel\u001b[39;00m s\n\u001b[1;32m----> 3\u001b[0m \u001b[38;5;28mprint\u001b[39m(s)\n",
      "\u001b[1;31mNameError\u001b[0m: name 's' is not defined"
     ]
    }
   ],
   "source": [
    "s = \"Hello, World!\"\n",
    "del s\n",
    "print(s)"
   ]
  },
  {
   "cell_type": "code",
   "execution_count": 34,
   "id": "69765c78-0642-48da-8dbe-b8064bc5b4e1",
   "metadata": {},
   "outputs": [
    {
     "name": "stdout",
     "output_type": "stream",
     "text": [
      "True\n",
      "True\n"
     ]
    }
   ],
   "source": [
    "s = \"Python\"\n",
    "print(\"Py\" in s)  # Output: True\n",
    "print(\"Java\" not in s)  # Output: True"
   ]
  },
  {
   "cell_type": "code",
   "execution_count": 35,
   "id": "fae86735-52ae-433b-ae85-260d091584b3",
   "metadata": {},
   "outputs": [
    {
     "name": "stdout",
     "output_type": "stream",
     "text": [
      "P\n",
      "y\n",
      "t\n",
      "h\n",
      "o\n",
      "n\n"
     ]
    }
   ],
   "source": [
    "for char in \"Python\":\n",
    "    print(char)"
   ]
  },
  {
   "cell_type": "code",
   "execution_count": 49,
   "id": "c932f794-9df3-47e4-b2b4-04c5746bef01",
   "metadata": {},
   "outputs": [
    {
     "name": "stdout",
     "output_type": "stream",
     "text": [
      "True\n",
      "True\n",
      "world\n",
      "\n",
      "hello\n",
      "False\n",
      "True\n"
     ]
    }
   ],
   "source": [
    "print(\"abc\" == \"abc\")  # Output: True\n",
    "print(\"abc\" < \"xyz\")  # Output: True\n",
    "print(\"hello\" and \"world\") # output: world why ?\n",
    "#python \"\" empty is false \"xyz\" any other string is true\n",
    "print(\"\" and \"hello\")\n",
    "print(\"\" or \"hello\")\n",
    "print(not \"hello\")\n",
    "print(not \"\")"
   ]
  },
  {
   "cell_type": "code",
   "execution_count": 37,
   "id": "8f061f85-ad8e-4575-be0e-27e808cfddd9",
   "metadata": {},
   "outputs": [
    {
     "name": "stdout",
     "output_type": "stream",
     "text": [
      "HELLO\n",
      "hello\n",
      "Hello\n",
      "hello\n"
     ]
    }
   ],
   "source": [
    "s = \"hello\"\n",
    "print(s.upper())  # Output: 'HELLO'\n",
    "print(s.lower())  # Output: 'hello'\n",
    "print(s.capitalize())  # Output: 'Hello'\n",
    "s = \"  hello  \"\n",
    "print(s.strip())  # Output: 'hello'"
   ]
  },
  {
   "cell_type": "code",
   "execution_count": 38,
   "id": "134cb2d2-f731-45e1-b0a6-2371d9ae39ce",
   "metadata": {},
   "outputs": [
    {
     "name": "stdout",
     "output_type": "stream",
     "text": [
      "['Hello', 'World', 'Python']\n"
     ]
    }
   ],
   "source": [
    "s = \"Hello,World,Python\"\n",
    "print(s.split(','))"
   ]
  },
  {
   "cell_type": "code",
   "execution_count": 39,
   "id": "e02f4121-2510-4180-ad85-9d766089cc34",
   "metadata": {},
   "outputs": [
    {
     "name": "stdout",
     "output_type": "stream",
     "text": [
      "Hello World\n"
     ]
    }
   ],
   "source": [
    "words = ['Hello', 'World']\n",
    "print(\" \".join(words))"
   ]
  },
  {
   "cell_type": "code",
   "execution_count": 40,
   "id": "1907a843-c4f6-4d29-9a15-f35a858fd6be",
   "metadata": {},
   "outputs": [
    {
     "name": "stdout",
     "output_type": "stream",
     "text": [
      "7\n"
     ]
    }
   ],
   "source": [
    "s = \"Python is fun\"\n",
    "print(s.find(\"is\"))"
   ]
  },
  {
   "cell_type": "code",
   "execution_count": 41,
   "id": "baac6ffa-d8d5-4bbd-af2d-2942bb72f3c3",
   "metadata": {},
   "outputs": [
    {
     "name": "stdout",
     "output_type": "stream",
     "text": [
      "I love coding\n"
     ]
    }
   ],
   "source": [
    "s = \"I love Python\"\n",
    "print(s.replace(\"Python\", \"coding\"))"
   ]
  },
  {
   "cell_type": "code",
   "execution_count": 42,
   "id": "49fec3c8-929b-4719-8df5-fc3935b0be3f",
   "metadata": {},
   "outputs": [
    {
     "name": "stdout",
     "output_type": "stream",
     "text": [
      "True\n",
      "True\n"
     ]
    }
   ],
   "source": [
    "s = \"Python\"\n",
    "print(s.startswith(\"Py\"))  # Output: True\n",
    "print(s.endswith(\"on\"))"
   ]
  },
  {
   "cell_type": "code",
   "execution_count": 53,
   "id": "4a5ef7d7-959d-4cdb-a92f-eb7b1dc2886e",
   "metadata": {},
   "outputs": [
    {
     "name": "stdout",
     "output_type": "stream",
     "text": [
      "d\n",
      "l\n",
      "r\n",
      "o\n",
      "w\n",
      " \n",
      "o\n",
      "l\n",
      "l\n",
      "e\n",
      "h\n"
     ]
    }
   ],
   "source": [
    "str = \"hello world\"\n",
    "\n",
    "for i in str[::-1]:\n",
    "    print(i)"
   ]
  },
  {
   "cell_type": "code",
   "execution_count": 55,
   "id": "2be8f115-fc48-44c7-9aac-60a99d5c4a51",
   "metadata": {},
   "outputs": [
    {
     "name": "stdout",
     "output_type": "stream",
     "text": [
      "l\n",
      "w\n",
      "l\n"
     ]
    }
   ],
   "source": [
    "for i in str[3:15:3]:\n",
    "    print(i)"
   ]
  },
  {
   "cell_type": "code",
   "execution_count": 61,
   "id": "40719b54-a87b-4b74-ac21-948ed5e8676f",
   "metadata": {},
   "outputs": [
    {
     "data": {
      "text/plain": [
       "'h'"
      ]
     },
     "execution_count": 61,
     "metadata": {},
     "output_type": "execute_result"
    }
   ],
   "source": [
    "s = \"python\"\n",
    "min(s)"
   ]
  },
  {
   "cell_type": "code",
   "execution_count": 62,
   "id": "1e20f2bb-8729-4ad6-9b2b-5b152cd4a068",
   "metadata": {},
   "outputs": [
    {
     "data": {
      "text/plain": [
       "'y'"
      ]
     },
     "execution_count": 62,
     "metadata": {},
     "output_type": "execute_result"
    }
   ],
   "source": [
    "max(s)"
   ]
  },
  {
   "cell_type": "code",
   "execution_count": 63,
   "id": "754c227f-4949-4ef5-a69f-743c19a717ae",
   "metadata": {},
   "outputs": [
    {
     "data": {
      "text/plain": [
       "['h', 'n', 'o', 'p', 't', 'y']"
      ]
     },
     "execution_count": 63,
     "metadata": {},
     "output_type": "execute_result"
    }
   ],
   "source": [
    "sorted(s)"
   ]
  },
  {
   "cell_type": "code",
   "execution_count": 64,
   "id": "b5053dfc-d3fa-4ce0-a12d-0e72f7646fe0",
   "metadata": {},
   "outputs": [
    {
     "data": {
      "text/plain": [
       "['y', 't', 'p', 'o', 'n', 'h']"
      ]
     },
     "execution_count": 64,
     "metadata": {},
     "output_type": "execute_result"
    }
   ],
   "source": [
    "sorted(s, reverse = True)"
   ]
  },
  {
   "cell_type": "code",
   "execution_count": 66,
   "id": "3cf07c13-a5c6-49d9-899c-54315cadcfd4",
   "metadata": {},
   "outputs": [
    {
     "data": {
      "text/plain": [
       "'My name is Atharv i am 22 yeras old'"
      ]
     },
     "execution_count": 66,
     "metadata": {},
     "output_type": "execute_result"
    }
   ],
   "source": [
    "str = \"My name is {} i am {} yeras old\"\n",
    "str.format(\"Atharv\", 22) # V Imp"
   ]
  },
  {
   "cell_type": "code",
   "execution_count": 68,
   "id": "56014c40-60cc-47cd-a253-996d3f0dac95",
   "metadata": {},
   "outputs": [
    {
     "data": {
      "text/plain": [
       "'My name is Atharv i am 22 yeras old, i study CSE'"
      ]
     },
     "execution_count": 68,
     "metadata": {},
     "output_type": "execute_result"
    }
   ],
   "source": [
    "\"My name is {1} i am {0} yeras old, i study {2}\".format(22, \"Atharv\", \"CSE\")"
   ]
  },
  {
   "cell_type": "code",
   "execution_count": 70,
   "id": "2d070253-3403-46fc-b5f8-daca4f698bd4",
   "metadata": {},
   "outputs": [
    {
     "data": {
      "text/plain": [
       "'My name is Atharv i am 22 yeras old, i study CSE'"
      ]
     },
     "execution_count": 70,
     "metadata": {},
     "output_type": "execute_result"
    }
   ],
   "source": [
    "\"My name is {name} i am {age} yeras old, i study {branch}\".format(age = 22, name = \"Atharv\", branch = \"CSE\")"
   ]
  },
  {
   "cell_type": "code",
   "execution_count": null,
   "id": "63745550-1726-450e-b667-86b0174650aa",
   "metadata": {},
   "outputs": [],
   "source": []
  }
 ],
 "metadata": {
  "kernelspec": {
   "display_name": "Python 3 (ipykernel)",
   "language": "python",
   "name": "python3"
  },
  "language_info": {
   "codemirror_mode": {
    "name": "ipython",
    "version": 3
   },
   "file_extension": ".py",
   "mimetype": "text/x-python",
   "name": "python",
   "nbconvert_exporter": "python",
   "pygments_lexer": "ipython3",
   "version": "3.11.7"
  }
 },
 "nbformat": 4,
 "nbformat_minor": 5
}
