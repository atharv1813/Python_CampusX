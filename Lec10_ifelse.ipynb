{
 "cells": [
  {
   "cell_type": "code",
   "execution_count": 4,
   "id": "926afa89-0031-43b7-b0b2-cc53824fcc6a",
   "metadata": {},
   "outputs": [
    {
     "name": "stdout",
     "output_type": "stream",
     "text": [
      "Num is greater than zero\n"
     ]
    }
   ],
   "source": [
    "num = 4\n",
    "\n",
    "if num >=0:\n",
    "    if num == 0:\n",
    "        print(\"Num is zero\")\n",
    "    else:\n",
    "        print(\"Num is greater than zero\")\n",
    "else:\n",
    "    print(\"Num is less than zero\")"
   ]
  },
  {
   "cell_type": "code",
   "execution_count": 8,
   "id": "1f08edb4-e76d-44db-9ede-99d836cf0d70",
   "metadata": {},
   "outputs": [
    {
     "name": "stdout",
     "output_type": "stream",
     "text": [
      "Price: $10 (with membership discount)\n"
     ]
    }
   ],
   "source": [
    "# Determine the pricing based on age and membership status\n",
    "age = 30\n",
    "membership = True\n",
    "\n",
    "if age >= 18:\n",
    "    if membership:\n",
    "        print(\"Price: $10 (with membership discount)\")\n",
    "    else:\n",
    "        print(\"Price: $15 (standard adult price)\")\n",
    "else:\n",
    "    if membership:\n",
    "        print(\"Price: $5 (with membership discount for minors)\")\n",
    "    else:\n",
    "        print(\"Price: $8 (standard price for minors)\")"
   ]
  },
  {
   "cell_type": "code",
   "execution_count": 5,
   "id": "8cd19c83-10a1-44bc-91f2-1ba0a1beab54",
   "metadata": {},
   "outputs": [
    {
     "name": "stdout",
     "output_type": "stream",
     "text": [
      "You are an adult female.\n"
     ]
    }
   ],
   "source": [
    "# Determine the category of a person based on age and gender\n",
    "age = 25\n",
    "gender = 'F'\n",
    "\n",
    "if age >= 18:\n",
    "    if gender == 'M':\n",
    "        print(\"You are an adult male.\")\n",
    "    else:\n",
    "        if gender == 'F':\n",
    "            print(\"You are an adult female.\")\n",
    "        else:\n",
    "            print(\"Gender not specified.\")\n",
    "else:\n",
    "    if gender == 'M':\n",
    "        print(\"You are a male minor.\")\n",
    "    else:\n",
    "        print(\"You are a female minor.\")"
   ]
  },
  {
   "cell_type": "code",
   "execution_count": 6,
   "id": "9b52bc2b-dc53-46f7-89a2-3212c5410902",
   "metadata": {},
   "outputs": [
    {
     "name": "stdout",
     "output_type": "stream",
     "text": [
      "You are eligible for a driving license.\n"
     ]
    }
   ],
   "source": [
    "# Determine eligibility for driving license based on age, vision, and training\n",
    "age = 20\n",
    "vision = 'Good'\n",
    "training = 'Completed'\n",
    "\n",
    "if age >= 18:\n",
    "    if vision == 'Good':\n",
    "        if training == 'Completed':\n",
    "            print(\"You are eligible for a driving license.\")\n",
    "        else:\n",
    "            print(\"You need to complete training to get a driving license.\")\n",
    "    else:\n",
    "        print(\"You need to have good vision to apply for a driving license.\")\n",
    "else:\n",
    "    print(\"You must be 18 or older to apply for a driving license.\")"
   ]
  },
  {
   "cell_type": "code",
   "execution_count": 7,
   "id": "f4ceadc5-4e09-463d-90c8-a13d83e101c4",
   "metadata": {},
   "outputs": [
    {
     "name": "stdout",
     "output_type": "stream",
     "text": [
      "10 is positive.\n",
      "-5 is negative.\n",
      "0 is zero.\n",
      "3 is positive.\n",
      "-1 is negative.\n"
     ]
    }
   ],
   "source": [
    "# Check if the numbers in a list are positive, negative, or zero\n",
    "numbers = [10, -5, 0, 3, -1]\n",
    "\n",
    "for num in numbers:\n",
    "    if num > 0:\n",
    "        print(f\"{num} is positive.\")\n",
    "    elif num < 0:\n",
    "        print(f\"{num} is negative.\")\n",
    "    else:\n",
    "        print(f\"{num} is zero.\")"
   ]
  },
  {
   "cell_type": "code",
   "execution_count": 9,
   "id": "2b929df2-8bce-45c4-8476-76f2c244828a",
   "metadata": {},
   "outputs": [
    {
     "name": "stdout",
     "output_type": "stream",
     "text": [
      "Normal weight\n"
     ]
    }
   ],
   "source": [
    "# Determine BMI category based on weight and height\n",
    "weight = 75  # kg\n",
    "height = 1.75  # meters\n",
    "bmi = weight / (height ** 2)\n",
    "\n",
    "if bmi < 18.5:\n",
    "    print(\"Underweight\")\n",
    "elif bmi >= 18.5 and bmi < 24.9:\n",
    "    print(\"Normal weight\")\n",
    "elif bmi >= 25 and bmi < 29.9:\n",
    "    if bmi < 27:\n",
    "        print(\"Slightly overweight\")\n",
    "    else:\n",
    "        print(\"Moderately overweight\")\n",
    "else:\n",
    "    print(\"Obesity\")"
   ]
  },
  {
   "cell_type": "code",
   "execution_count": null,
   "id": "66ec2e9b-9752-43f3-a6c2-dfd2b9fd80d9",
   "metadata": {},
   "outputs": [],
   "source": []
  }
 ],
 "metadata": {
  "kernelspec": {
   "display_name": "Python 3 (ipykernel)",
   "language": "python",
   "name": "python3"
  },
  "language_info": {
   "codemirror_mode": {
    "name": "ipython",
    "version": 3
   },
   "file_extension": ".py",
   "mimetype": "text/x-python",
   "name": "python",
   "nbconvert_exporter": "python",
   "pygments_lexer": "ipython3",
   "version": "3.11.7"
  }
 },
 "nbformat": 4,
 "nbformat_minor": 5
}
