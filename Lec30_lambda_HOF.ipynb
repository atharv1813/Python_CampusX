{
 "cells": [
  {
   "cell_type": "markdown",
   "id": "f972d369-ae2d-494c-ac6d-0a7176b4fa6d",
   "metadata": {},
   "source": [
    "Certainly! Let’s explore lambda functions in Python in depth.\n",
    "\n",
    "### What is a Lambda Function?\n",
    "\n",
    "A **lambda function** is a small, anonymous function defined with the `lambda` keyword. Unlike regular functions defined using `def`, lambda functions are meant to be lightweight and can be defined in a single line. They are often used in situations where you need a simple function for a short period and don’t want to formally define it with a name.\n",
    "\n",
    "### Syntax of Lambda Functions\n",
    "\n",
    "The general syntax for a lambda function is:\n",
    "\n",
    "```python\n",
    "lambda parameters: expression\n",
    "```\n",
    "\n",
    "- **`lambda`**: This keyword is used to declare a lambda function.\n",
    "- **`parameters`**: One or more input parameters, separated by commas (`,`). Parentheses are optional unless you have multiple parameters.\n",
    "- **`expression`**: A single expression that gets evaluated and returned. Lambda functions can only have one expression; they cannot contain statements or multiple expressions.\n",
    "\n",
    "### Example of a Lambda Function\n",
    "\n",
    "Here’s a simple example of a lambda function that adds two numbers:\n",
    "\n",
    "```python\n",
    "add = lambda a, b: a + b\n",
    "result = add(5, 3)  # result will be 8\n",
    "```\n",
    "\n",
    "In this case:\n",
    "- The lambda function takes two parameters, `a` and `b`.\n",
    "- The expression `a + b` is evaluated when the function is called, returning the sum.\n",
    "\n",
    "### Characteristics of Lambda Functions\n",
    "\n",
    "1. **Anonymous**: Lambda functions are unnamed (anonymous) functions. You can assign them to a variable, but they do not have a defined name like traditional functions.\n",
    "\n",
    "2. **Single Expression**: Lambda functions can contain only a single expression. This makes them less powerful than standard functions, but they are often sufficient for simple tasks.\n",
    "\n",
    "3. **Multiple Parameters**: Lambda functions can take any number of parameters. For example:\n",
    "   ```python\n",
    "   multiply = lambda x, y, z: x * y * z\n",
    "   result = multiply(2, 3, 4)  # result will be 24\n",
    "   ```\n",
    "\n",
    "4. **Usage in Higher-Order Functions**: Lambda functions are commonly used as arguments to higher-order functions (functions that take other functions as input). For example, they can be used with functions like `map()`, `filter()`, and `sorted()`.\n",
    "\n",
    "### Examples of Usage\n",
    "\n",
    "1. **Using with `map()`**: `map()` applies a function to every item in an iterable.\n",
    "\n",
    "   ```python\n",
    "   numbers = [1, 2, 3, 4, 5]\n",
    "   squares = list(map(lambda x: x**2, numbers))  # [1, 4, 9, 16, 25]\n",
    "   ```\n",
    "\n",
    "2. **Using with `filter()`**: `filter()` filters items out of an iterable based on a condition.\n",
    "\n",
    "   ```python\n",
    "   numbers = [1, 2, 3, 4, 5]\n",
    "   evens = list(filter(lambda x: x % 2 == 0, numbers))  # [2, 4]\n",
    "   ```\n",
    "\n",
    "3. **Using with `sorted()`**: You can use lambda functions to define custom sorting behavior.\n",
    "\n",
    "   ```python\n",
    "   pairs = [(1, 2), (3, 1), (5, 0)]\n",
    "   sorted_pairs = sorted(pairs, key=lambda x: x[1])  # [(5, 0), (3, 1), (1, 2)]\n",
    "   ```\n",
    "\n",
    "### Limitations of Lambda Functions\n",
    "\n",
    "1. **Readability**: Since lambda functions are often used for simple tasks, they can sometimes make code harder to read if overused, especially for complex operations.\n",
    "\n",
    "2. **Debugging**: Debugging lambda functions can be more challenging because they lack names, making stack traces less informative.\n",
    "\n",
    "3. **Single Expression Limitation**: Lambda functions can only evaluate one expression, which limits their use in more complex situations.\n",
    "\n",
    "### Conclusion\n",
    "\n",
    "Lambda functions are a powerful feature in Python for creating small, anonymous functions on-the-fly. They are especially useful in functional programming and when working with higher-order functions. However, for more complex operations, using traditional function definitions with `def` is often more appropriate."
   ]
  },
  {
   "cell_type": "code",
   "execution_count": 1,
   "id": "70f36604-545a-428c-bea6-a8bc9068902f",
   "metadata": {},
   "outputs": [],
   "source": [
    "a = lambda x: x**2"
   ]
  },
  {
   "cell_type": "code",
   "execution_count": 3,
   "id": "7e2137aa-c086-4e36-9599-a3b5369a2c6d",
   "metadata": {},
   "outputs": [
    {
     "data": {
      "text/plain": [
       "4"
      ]
     },
     "execution_count": 3,
     "metadata": {},
     "output_type": "execute_result"
    }
   ],
   "source": [
    "a(2)"
   ]
  },
  {
   "cell_type": "code",
   "execution_count": 4,
   "id": "32a6eb0c-7749-4675-a2c6-b414dcdfe87c",
   "metadata": {},
   "outputs": [],
   "source": [
    "b = lambda x, y: x+y"
   ]
  },
  {
   "cell_type": "code",
   "execution_count": 5,
   "id": "8de15f5b-1edb-4681-9809-1a0b1585b884",
   "metadata": {},
   "outputs": [
    {
     "data": {
      "text/plain": [
       "7"
      ]
     },
     "execution_count": 5,
     "metadata": {},
     "output_type": "execute_result"
    }
   ],
   "source": [
    "b(3, 4)"
   ]
  },
  {
   "cell_type": "markdown",
   "id": "021c4308-a764-496d-a615-07416bfd960a",
   "metadata": {},
   "source": [
    "Here's a detailed comparison between lambda functions and normal functions in Python, along with reasons for using lambda functions.\n",
    "\n",
    "### Differences Between Lambda Functions and Normal Functions\n",
    "\n",
    "1. **Naming**:\n",
    "   - **Lambda Function**: Anonymous (no name).\n",
    "   - **Normal Function**: Defined with a name using the `def` keyword.\n",
    "\n",
    "2. **Return Value**:\n",
    "   - **Lambda Function**: Does not explicitly use the `return` statement; the expression is returned automatically.\n",
    "   - **Normal Function**: Requires the `return` statement to return a value.\n",
    "\n",
    "3. **Syntax**:\n",
    "   - **Lambda Function**: Written in a single line.\n",
    "     ```python\n",
    "     lambda x: x + 1\n",
    "     ```\n",
    "   - **Normal Function**: Can span multiple lines and includes a function body.\n",
    "     ```python\n",
    "     def increment(x):\n",
    "         return x + 1\n",
    "     ```\n",
    "\n",
    "4. **Reusability**:\n",
    "   - **Lambda Function**: Typically used for short-term tasks and not reusable unless assigned to a variable.\n",
    "   - **Normal Function**: Can be reused multiple times throughout the code.\n",
    "\n",
    "5. **Complexity**:\n",
    "   - **Lambda Function**: Limited to a single expression; cannot contain statements or complex logic.\n",
    "   - **Normal Function**: Can contain multiple expressions, statements, and complex logic.\n",
    "\n",
    "### Why Use Lambda Functions?\n",
    "\n",
    "1. **Conciseness**: Lambda functions allow you to write functions in a more compact way, which can lead to cleaner code when used appropriately.\n",
    "\n",
    "2. **Anonymous Functions**: They are useful when you need a small function for a short period, such as when passing a function as an argument without the need to formally define it.\n",
    "\n",
    "3. **Higher-Order Functions (HOF)**: Lambda functions are often used with higher-order functions like `map()`, `filter()`, and `sorted()` because they can provide a quick way to specify the behavior of these functions without the overhead of defining a full function.\n",
    "\n",
    "   - **Example with `map()`**:\n",
    "     ```python\n",
    "     numbers = [1, 2, 3, 4]\n",
    "     squares = list(map(lambda x: x ** 2, numbers))  # [1, 4, 9, 16]\n",
    "     ```\n",
    "\n",
    "4. **Inline Use**: They allow for defining functions inline, making them handy in scenarios like callback functions in GUI programming or when dealing with functions that take other functions as parameters.\n",
    "\n",
    "### Conclusion\n",
    "\n",
    "While lambda functions have limitations in terms of naming, complexity, and reusability, they are a valuable tool for writing concise, anonymous functions, especially when working with higher-order functions. Their simplicity can lead to cleaner and more readable code in scenarios where a full function definition is unnecessary."
   ]
  },
  {
   "cell_type": "code",
   "execution_count": 6,
   "id": "a94f9dfc-09e9-41cd-a3f2-188be66c2eff",
   "metadata": {},
   "outputs": [],
   "source": [
    "#check is string has a\n",
    "a = lambda s: 'a' in s"
   ]
  },
  {
   "cell_type": "code",
   "execution_count": 7,
   "id": "769dbf13-64bd-450d-86bd-469d91ad33a3",
   "metadata": {},
   "outputs": [
    {
     "data": {
      "text/plain": [
       "False"
      ]
     },
     "execution_count": 7,
     "metadata": {},
     "output_type": "execute_result"
    }
   ],
   "source": [
    "a(\"hello\")"
   ]
  },
  {
   "cell_type": "code",
   "execution_count": 9,
   "id": "417e8bdf-c1cc-480b-abea-6302c409e3a5",
   "metadata": {},
   "outputs": [],
   "source": [
    "#is else in lambda\n",
    "h = lambda x: \"even\" if x%2 == 0 else \"odd\""
   ]
  },
  {
   "cell_type": "code",
   "execution_count": 10,
   "id": "cddc70f2-b638-4eea-b12b-3700b42870cc",
   "metadata": {},
   "outputs": [
    {
     "data": {
      "text/plain": [
       "'even'"
      ]
     },
     "execution_count": 10,
     "metadata": {},
     "output_type": "execute_result"
    }
   ],
   "source": [
    "h(4)"
   ]
  },
  {
   "cell_type": "code",
   "execution_count": 11,
   "id": "3d28d55c-ba60-4fdf-a56e-7f8db647a4b6",
   "metadata": {},
   "outputs": [
    {
     "data": {
      "text/plain": [
       "'odd'"
      ]
     },
     "execution_count": 11,
     "metadata": {},
     "output_type": "execute_result"
    }
   ],
   "source": [
    "h(9)"
   ]
  },
  {
   "cell_type": "markdown",
   "id": "45d9340a-7a43-4c1c-bafb-1b1fe8bd56e4",
   "metadata": {},
   "source": [
    "**Higher-Order Functions (HOFs)** are functions that either take one or more functions as arguments or return a function as a result. In Python, functions are first-class citizens, meaning they can be treated like any other object (e.g., assigned to variables, passed as arguments, or returned from other functions).\n",
    "\n",
    "### Key Characteristics of Higher-Order Functions\n",
    "\n",
    "1. **Takes Functions as Arguments**: HOFs can accept one or more functions as input parameters.\n",
    "\n",
    "2. **Returns Functions**: HOFs can also return a function as their result.\n",
    "\n",
    "3. **Function Composition**: They often allow for combining or manipulating other functions to create more complex behavior.\n",
    "\n",
    "### Examples of Higher-Order Functions\n",
    "\n",
    "1. **Using Built-in HOFs**:\n",
    "   - **`map()`**: Applies a function to all items in an iterable (like a list).\n",
    "     ```python\n",
    "     numbers = [1, 2, 3, 4]\n",
    "     squares = list(map(lambda x: x ** 2, numbers))  # [1, 4, 9, 16]\n",
    "     ```\n",
    "   \n",
    "   - **`filter()`**: Filters items in an iterable based on a condition defined by a function.\n",
    "     ```python\n",
    "     numbers = [1, 2, 3, 4, 5]\n",
    "     evens = list(filter(lambda x: x % 2 == 0, numbers))  # [2, 4]\n",
    "     ```\n",
    "\n",
    "   - **`reduce()`**: Applies a rolling computation to sequential pairs of values in an iterable. (Note: `reduce` needs to be imported from `functools`.)\n",
    "     ```python\n",
    "     from functools import reduce\n",
    "     numbers = [1, 2, 3, 4]\n",
    "     product = reduce(lambda x, y: x * y, numbers)  # 24\n",
    "     ```\n",
    "\n",
    "2. **Creating Custom HOFs**:\n",
    "   You can define your own higher-order functions. Here’s an example:\n",
    "   ```python\n",
    "   def apply_function(f, value):\n",
    "       return f(value)\n",
    "\n",
    "   result = apply_function(lambda x: x + 2, 5)  # result will be 7\n",
    "   ```\n",
    "\n",
    "3. **Returning Functions**:\n",
    "   HOFs can also return other functions. Here's an example:\n",
    "   ```python\n",
    "   def make_multiplier(factor):\n",
    "       return lambda x: x * factor\n",
    "\n",
    "   double = make_multiplier(2)\n",
    "   result = double(5)  # result will be 10\n",
    "   ```\n",
    "\n",
    "### Benefits of Higher-Order Functions\n",
    "\n",
    "- **Abstraction**: HOFs allow for a higher level of abstraction by separating the logic of operations from the implementation of those operations.\n",
    "\n",
    "- **Code Reusability**: By taking functions as parameters, HOFs can be reused with different functions, reducing code duplication.\n",
    "\n",
    "- **Functional Programming Style**: They promote a functional programming style, making it easier to work with functions as first-class citizens.\n",
    "\n",
    "### Conclusion\n",
    "\n",
    "Higher-order functions are a powerful concept in programming that enhances code flexibility and reusability. They are widely used in functional programming paradigms and are a core feature of Python's functional programming capabilities."
   ]
  },
  {
   "cell_type": "code",
   "execution_count": 12,
   "id": "d467334c-b899-4cda-a48d-a288d6cf5ecf",
   "metadata": {},
   "outputs": [],
   "source": [
    "def square(x):\n",
    "    return x**2\n",
    "\n",
    "def cube(x):\n",
    "    return x**3"
   ]
  },
  {
   "cell_type": "code",
   "execution_count": 16,
   "id": "a2f16ba2-73dc-4d7e-95b2-6389edb77e50",
   "metadata": {},
   "outputs": [],
   "source": [
    "def transform(f, l): #it is a higerh order functin bcz it receives another function as input\n",
    "    ans = []\n",
    "    for i in l:\n",
    "        ans.append(f(i))\n",
    "    return ans"
   ]
  },
  {
   "cell_type": "code",
   "execution_count": 17,
   "id": "c668acf5-11e7-4cd7-840d-71b128804981",
   "metadata": {},
   "outputs": [
    {
     "data": {
      "text/plain": [
       "[1, 4, 9, 16, 25]"
      ]
     },
     "execution_count": 17,
     "metadata": {},
     "output_type": "execute_result"
    }
   ],
   "source": [
    "L = [1,2,3,4,5]\n",
    "\n",
    "transform(square, L)"
   ]
  },
  {
   "cell_type": "code",
   "execution_count": 18,
   "id": "818ddea0-10e8-443a-82e6-c67499995491",
   "metadata": {},
   "outputs": [
    {
     "data": {
      "text/plain": [
       "[1, 8, 27, 64, 125]"
      ]
     },
     "execution_count": 18,
     "metadata": {},
     "output_type": "execute_result"
    }
   ],
   "source": [
    "transform(cube, L)"
   ]
  },
  {
   "cell_type": "code",
   "execution_count": 20,
   "id": "b11d05e1-6523-41e4-bbbd-56ab7caecaed",
   "metadata": {},
   "outputs": [],
   "source": [
    "#but we cant do this foreverr for every power so use lambda function"
   ]
  },
  {
   "cell_type": "code",
   "execution_count": 21,
   "id": "940fb0b3-ae03-469e-a8c0-341e36fdfee7",
   "metadata": {},
   "outputs": [
    {
     "data": {
      "text/plain": [
       "[1, 4, 9, 16, 25]"
      ]
     },
     "execution_count": 21,
     "metadata": {},
     "output_type": "execute_result"
    }
   ],
   "source": [
    "transform(lambda x: x**2, L)"
   ]
  },
  {
   "cell_type": "code",
   "execution_count": 22,
   "id": "7b1714bd-937e-4890-8a9c-2c3a9ccef3f3",
   "metadata": {},
   "outputs": [
    {
     "data": {
      "text/plain": [
       "[1, 8, 27, 64, 125]"
      ]
     },
     "execution_count": 22,
     "metadata": {},
     "output_type": "execute_result"
    }
   ],
   "source": [
    "transform(lambda x: x**3, L)"
   ]
  },
  {
   "cell_type": "code",
   "execution_count": 23,
   "id": "d44534c2-70a7-4208-8d9c-39972ee24127",
   "metadata": {},
   "outputs": [
    {
     "name": "stdout",
     "output_type": "stream",
     "text": [
      "[1, 2, 3, 4, 5]\n",
      "[1, 4, 9, 16, 25]\n",
      "[1, 8, 27, 64, 125]\n",
      "[1, 16, 81, 256, 625]\n"
     ]
    }
   ],
   "source": [
    "for i in range(1, 5):\n",
    "    print(transform(lambda x: x**i, L))"
   ]
  },
  {
   "cell_type": "markdown",
   "id": "d3d51542-129b-48fb-bf4c-3b60853858b2",
   "metadata": {},
   "source": [
    "Sure! Here’s an explanation of the `map()`, `filter()`, and `reduce()` functions in Python, along with examples for each.\n",
    "\n",
    "### 1. `map()`\n",
    "\n",
    "**Definition**: The `map()` function applies a given function to all items in an iterable (like a list or tuple) and returns an iterator (in Python 3) that produces the results.\n",
    "\n",
    "**Syntax**:\n",
    "```python\n",
    "map(function, iterable)\n",
    "```\n",
    "\n",
    "- **`function`**: A function that takes one argument and is applied to each item in the iterable.\n",
    "- **`iterable`**: An iterable like a list, tuple, etc.\n",
    "\n",
    "**Example**:\n",
    "```python\n",
    "numbers = [1, 2, 3, 4]\n",
    "squared = list(map(lambda x: x ** 2, numbers))  # [1, 4, 9, 16]\n",
    "print(squared)\n",
    "```\n",
    "\n",
    "**Output**:\n",
    "```\n",
    "[1, 4, 9, 16]\n",
    "```\n",
    "\n",
    "### 2. `filter()`\n",
    "\n",
    "**Definition**: The `filter()` function constructs an iterator from elements of an iterable for which a function returns true.\n",
    "\n",
    "**Syntax**:\n",
    "```python\n",
    "filter(function, iterable)\n",
    "```\n",
    "\n",
    "- **`function`**: A function that tests whether each element of the iterable is true or false. If the function returns `True`, the element is included in the result.\n",
    "- **`iterable`**: An iterable like a list, tuple, etc.\n",
    "\n",
    "**Example**:\n",
    "```python\n",
    "numbers = [1, 2, 3, 4, 5]\n",
    "evens = list(filter(lambda x: x % 2 == 0, numbers))  # [2, 4]\n",
    "print(evens)\n",
    "```\n",
    "\n",
    "**Output**:\n",
    "```\n",
    "[2, 4]\n",
    "```\n",
    "\n",
    "### 3. `reduce()`\n",
    "\n",
    "**Definition**: The `reduce()` function (from the `functools` module) applies a rolling computation to sequential pairs of values in an iterable, reducing the iterable to a single cumulative value.\n",
    "\n",
    "**Syntax**:\n",
    "```python\n",
    "from functools import reduce\n",
    "\n",
    "reduce(function, iterable, initial=None)\n",
    "```\n",
    "\n",
    "- **`function`**: A function of two arguments that will be used to reduce the iterable.\n",
    "- **`iterable`**: An iterable like a list, tuple, etc.\n",
    "- **`initial`** (optional): An initial value to start the computation.\n",
    "\n",
    "**Example**:\n",
    "```python\n",
    "from functools import reduce\n",
    "\n",
    "numbers = [1, 2, 3, 4]\n",
    "product = reduce(lambda x, y: x * y, numbers)  # 24\n",
    "print(product)\n",
    "```\n",
    "\n",
    "**Output**:\n",
    "```\n",
    "24\n",
    "```\n",
    "\n",
    "### Summary\n",
    "\n",
    "- **`map()`**: Transforms items in an iterable by applying a function to each item.\n",
    "- **`filter()`**: Filters items in an iterable based on a function that returns `True` or `False`.\n",
    "- **`reduce()`**: Reduces an iterable to a single value by applying a function cumulatively to the items.\n",
    "\n",
    "These functions are powerful tools for functional programming in Python and can lead to concise and expressive code."
   ]
  },
  {
   "cell_type": "code",
   "execution_count": 25,
   "id": "c1ee2f68-8d61-4005-872c-55cb5bc74413",
   "metadata": {},
   "outputs": [
    {
     "data": {
      "text/plain": [
       "[1, 4, 9, 16, 25]"
      ]
     },
     "execution_count": 25,
     "metadata": {},
     "output_type": "execute_result"
    }
   ],
   "source": [
    "numbers = [1, 2, 3, 4, 5]\n",
    "squares = list(map(lambda x: x**2, numbers))  # [1, 4, 9, 16, 25]\n",
    "squares"
   ]
  },
  {
   "cell_type": "code",
   "execution_count": 26,
   "id": "7ab5bde6-fefe-46ee-a84f-0cf505e66e90",
   "metadata": {},
   "outputs": [
    {
     "data": {
      "text/plain": [
       "[False, True, False, True, False]"
      ]
     },
     "execution_count": 26,
     "metadata": {},
     "output_type": "execute_result"
    }
   ],
   "source": [
    "numbers = [1, 2, 3, 4, 5]\n",
    "evens = list(map(lambda x: x%2 == 0, numbers))  # [1, 4, 9, 16, 25]\n",
    "evens"
   ]
  },
  {
   "cell_type": "code",
   "execution_count": 29,
   "id": "db757c86-d41c-4d63-a80b-9c8ec2cb07bb",
   "metadata": {},
   "outputs": [
    {
     "data": {
      "text/plain": [
       "['odd', 'even', 'odd', 'even', 'odd']"
      ]
     },
     "execution_count": 29,
     "metadata": {},
     "output_type": "execute_result"
    }
   ],
   "source": [
    "numbers = [1, 2, 3, 4, 5]\n",
    "evens = list(map(lambda x:\"even\" if x%2 == 0 else \"odd\", numbers))  # [1, 4, 9, 16, 25]\n",
    "evens"
   ]
  },
  {
   "cell_type": "code",
   "execution_count": 30,
   "id": "348f3578-b86e-4f5f-9654-4403da005ecf",
   "metadata": {},
   "outputs": [
    {
     "data": {
      "text/plain": [
       "[2, 4]"
      ]
     },
     "execution_count": 30,
     "metadata": {},
     "output_type": "execute_result"
    }
   ],
   "source": [
    "numbers = [1, 2, 3, 4, 5]\n",
    "evens = list(filter(lambda x: x%2 == 0, numbers))  # [1, 4, 9, 16, 25]\n",
    "evens"
   ]
  },
  {
   "cell_type": "code",
   "execution_count": 31,
   "id": "bd990437-83f6-433c-8345-d8111caffef2",
   "metadata": {},
   "outputs": [],
   "source": [
    "#same code but see difference after appltying map and filter"
   ]
  },
  {
   "cell_type": "code",
   "execution_count": 34,
   "id": "19f30dde-86bb-4b10-9ddc-f9e3586334ac",
   "metadata": {},
   "outputs": [
    {
     "name": "stdout",
     "output_type": "stream",
     "text": [
      "['male', 'male', 'female']\n"
     ]
    }
   ],
   "source": [
    "# List of users\n",
    "users = [\n",
    "    {\n",
    "        'name': 'Rahul',\n",
    "        'age': 45,\n",
    "        'gender': 'male'\n",
    "    },\n",
    "    {\n",
    "        'name': 'Nitish',\n",
    "        'age': 33,\n",
    "        'gender': 'male'\n",
    "    },\n",
    "    {\n",
    "        'name': 'Ankita',\n",
    "        'age': 50,\n",
    "        'gender': 'female'\n",
    "    }\n",
    "]\n",
    "\n",
    "# Using map to extract genders\n",
    "genders = list(map(lambda user: user['gender'], users))\n",
    "\n",
    "print(genders)"
   ]
  },
  {
   "cell_type": "code",
   "execution_count": 35,
   "id": "45457ff3-3eb5-47c2-9e56-6667f7b68e7a",
   "metadata": {},
   "outputs": [
    {
     "name": "stdout",
     "output_type": "stream",
     "text": [
      "[45, 33, 50]\n"
     ]
    }
   ],
   "source": [
    "genders = list(map(lambda user: user['age'], users))\n",
    "\n",
    "print(genders)"
   ]
  },
  {
   "cell_type": "code",
   "execution_count": 37,
   "id": "790f893e-a1d5-424c-8a38-335d67052dc0",
   "metadata": {},
   "outputs": [
    {
     "name": "stdout",
     "output_type": "stream",
     "text": [
      "['Rahul 45', 'Nitish 33', 'Ankita 50']\n"
     ]
    }
   ],
   "source": [
    "genders = list(map(lambda user: f\"{user['name']} {user['age']}\", users))\n",
    "\n",
    "print(genders)"
   ]
  },
  {
   "cell_type": "code",
   "execution_count": 39,
   "id": "632074bd-01fd-4717-9406-9ae62900f61f",
   "metadata": {},
   "outputs": [],
   "source": [
    "#bcz\n",
    "#. map() Definition: The map() function applies a given function to all items in an iterable (like a list or tuple) \n",
    "# and returns an iterator  that produces the results."
   ]
  },
  {
   "cell_type": "code",
   "execution_count": 40,
   "id": "46614653-a37a-47cc-a056-3808c0ec46d2",
   "metadata": {},
   "outputs": [
    {
     "name": "stdout",
     "output_type": "stream",
     "text": [
      "[6, 7, 8]\n"
     ]
    }
   ],
   "source": [
    "L = [3,4,5,6,7,8]\n",
    "print(list(filter(lambda x: x>5, L)))"
   ]
  },
  {
   "cell_type": "code",
   "execution_count": 42,
   "id": "86664df4-956d-40c7-9cfa-307c2d461a78",
   "metadata": {},
   "outputs": [
    {
     "name": "stdout",
     "output_type": "stream",
     "text": [
      "24\n"
     ]
    }
   ],
   "source": [
    "from functools import reduce\n",
    "\n",
    "numbers = [1, 2, 3, 4]\n",
    "product = reduce(lambda x, y: x * y, numbers)  # 24\n",
    "print(product)"
   ]
  },
  {
   "cell_type": "code",
   "execution_count": 43,
   "id": "ca9d7cf5-d5bc-4e79-bfbb-883d82ce4216",
   "metadata": {},
   "outputs": [
    {
     "name": "stdout",
     "output_type": "stream",
     "text": [
      "10\n"
     ]
    }
   ],
   "source": [
    "sum = reduce(lambda x, y: x + y, numbers)  \n",
    "print(sum)"
   ]
  },
  {
   "cell_type": "code",
   "execution_count": 44,
   "id": "63a780ab-ce98-4eb4-aa65-96589c248577",
   "metadata": {},
   "outputs": [
    {
     "name": "stdout",
     "output_type": "stream",
     "text": [
      "47\n"
     ]
    }
   ],
   "source": [
    "lst = [4,31,47,8,6]\n",
    "maxi = reduce(lambda x, y: x if x>y else y, lst)\n",
    "print(maxi)"
   ]
  },
  {
   "cell_type": "code",
   "execution_count": null,
   "id": "72e093a6-0b11-4599-8f26-8a4abc6aafc7",
   "metadata": {},
   "outputs": [],
   "source": []
  }
 ],
 "metadata": {
  "kernelspec": {
   "display_name": "Python 3 (ipykernel)",
   "language": "python",
   "name": "python3"
  },
  "language_info": {
   "codemirror_mode": {
    "name": "ipython",
    "version": 3
   },
   "file_extension": ".py",
   "mimetype": "text/x-python",
   "name": "python",
   "nbconvert_exporter": "python",
   "pygments_lexer": "ipython3",
   "version": "3.11.7"
  }
 },
 "nbformat": 4,
 "nbformat_minor": 5
}
