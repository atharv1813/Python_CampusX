{
 "cells": [
  {
   "cell_type": "markdown",
   "id": "dfa3e334-585c-4cb7-82a3-a63a5a971e0b",
   "metadata": {},
   "source": [
    "### Python Deep Dive: Mutability, Garbage Collection, and Variable Referencing\n",
    "\n",
    "#### 1. **Mutability & Immutability:**\n",
    "- **Mutability** refers to the ability of an object to be changed after it has been created. If an object is mutable, it can have its internal state modified without creating a new object.\n",
    "- **Immutability** means the object cannot be changed once created. Any operation that seems like modifying an immutable object results in the creation of a new object.\n",
    "\n",
    "#### Examples of **mutable** types:\n",
    "- **Lists**, **dictionaries**, and **sets** are mutable, meaning their elements or keys can be changed after they are created.\n",
    "\n",
    "#### Examples of **immutable** types:\n",
    "- **Strings**, **integers**, **floats**, **booleans**, **complex numbers**, and **tuples** are immutable. You can't change the contents of these objects once they are assigned a value.\n",
    "\n",
    "##### Example: Mutability in Lists and Immutability in Tuples\n",
    "\n",
    "1. `example1 = (1, 2, 3, [4, 5])`\n",
    "   - This is a tuple, and tuples are **immutable**. However, the tuple contains a list `[4, 5]`, which is mutable. So, while the tuple as a whole cannot be changed, the list inside it can be modified.\n",
    "   - For instance, `example1[-1][-1] = 6` will successfully modify the list inside the tuple to `[4, 6]`. This demonstrates that while tuples are immutable, if they contain mutable objects (like lists), those inner objects can still be changed.\n",
    "\n",
    "2. `example2 = [1, 2, 3, (4, 5)]`\n",
    "   - This is a list, and lists are **mutable**. However, the list contains a tuple `(4, 5)`, which is immutable. You cannot change the elements of the tuple inside the list.\n",
    "   - Trying to do `example2[-1][-1] = 6` will result in an error because the tuple `(4, 5)` is immutable, so its elements cannot be modified.\n",
    "\n",
    "#### 2. **Variable Referencing & Call by Object Reference:**\n",
    "- Python uses **call by object reference** (also called **call by sharing**). This means that when a variable is assigned to another variable or passed to a function, both variables reference the same object in memory.\n",
    "- If the object is mutable, changes to one reference affect the other since they point to the same object.\n",
    "- If the object is immutable, any operation that looks like it's modifying the object will create a new object instead, leaving the original unchanged.\n",
    "\n",
    "Example:\n",
    "```plaintext\n",
    "l1 = [1, 2, 3]\n",
    "l = l1\n",
    "l1.append(4)\n",
    "```\n",
    "Both `l` and `l1` now reference the same list object. If `l1` is modified (e.g., an element is appended), `l` will reflect that change as well because both variables point to the same list in memory.\n",
    "\n",
    "##### **Solution**: Cloning to avoid side effects:\n",
    "- To avoid this kind of side effect, you can **clone** a list:\n",
    "  ```plaintext\n",
    "  l1 = [1, 2, 3]\n",
    "  l = l1[:]  # This creates a shallow copy of the list\n",
    "  ```\n",
    "  Now `l` and `l1` refer to different list objects in memory. Changes to `l1` won’t affect `l`, and vice versa.\n",
    "\n",
    "#### 3. **Garbage Collection & Reference Counting:**\n",
    "- Python uses **automatic garbage collection** to manage memory. When an object is no longer referenced by any variable, it becomes eligible for garbage collection, and its memory can be freed.\n",
    "  \n",
    "##### **Reference Counting**:\n",
    "- Every object in Python maintains a **reference count** that tracks how many variables refer to it. You can inspect the reference count using the `sys.getrefcount()` function.\n",
    "  \n",
    "Example:\n",
    "```plaintext\n",
    "import sys\n",
    "a = 3\n",
    "b = a\n",
    "c = b\n",
    "sys.getrefcount(3)  # This will return the reference count for the integer 3\n",
    "```\n",
    "In the above example, the integer `3` is being referenced by three variables (`a`, `b`, and `c`). The reference count will reflect this.\n",
    "\n",
    "##### **Garbage Collection Example:**\n",
    "- If you delete all references to an object:\n",
    "  ```plaintext\n",
    "  del a, b, c\n",
    "  ```\n",
    "  Now, there are no references to the integer `3`, and it becomes eligible for garbage collection.\n",
    "\n",
    "##### **Aliasing and Deleting Aliases**:\n",
    "- **Aliasing** happens when multiple variables refer to the same object in memory. This can lead to confusion if one alias is modified, as all other aliases will reflect that change.\n",
    "\n",
    "Example:\n",
    "```plaintext\n",
    "x = [1, 2, 3]\n",
    "y = x  # y is now an alias for x\n",
    "del x  # This removes the reference `x` but `y` still refers to the list\n",
    "```\n",
    "- Even after `x` is deleted, `y` will still reference the list `[1, 2, 3]`. The list won't be garbage collected because `y` still refers to it.\n",
    "\n",
    "#### 4. **Side Effects of Mutability**:\n",
    "- As mentioned, mutable objects can lead to **side effects** if multiple variables or function arguments refer to the same object. For example:\n",
    "  ```plaintext\n",
    "  l1 = [1, 2, 3]\n",
    "  l = l1  # Both refer to the same list\n",
    "  l.append(4)  # Now both l1 and l reflect this change: [1, 2, 3, 4]\n",
    "  ```\n",
    "  This behavior can sometimes be undesirable, especially when you expect `l` and `l1` to remain independent. To prevent such side effects, **cloning** or **copying** mutable objects can be used, as shown earlier.\n",
    "\n",
    "#### 5. **Conclusion**:\n",
    "- Understanding **mutability** and **variable referencing** is crucial in Python to prevent unintended modifications and memory issues.\n",
    "- **Immutable objects** ensure stability in their values, but **mutable objects** offer flexibility at the cost of possible side effects.\n",
    "- **Garbage collection** and **reference counting** handle memory management automatically, but it’s important to be aware of **aliasing** and object references to avoid memory leaks or unexpected behavior."
   ]
  },
  {
   "cell_type": "code",
   "execution_count": 3,
   "id": "58d34cca-ce93-4e94-8c0f-20ddfaa9d953",
   "metadata": {},
   "outputs": [
    {
     "data": {
      "text/plain": [
       "140728938578792"
      ]
     },
     "execution_count": 3,
     "metadata": {},
     "output_type": "execute_result"
    }
   ],
   "source": [
    "a = 3\n",
    "id(a)"
   ]
  },
  {
   "cell_type": "code",
   "execution_count": 4,
   "id": "28360d92-3aa0-489e-a474-7801b13cb7ae",
   "metadata": {},
   "outputs": [
    {
     "data": {
      "text/plain": [
       "140728938578792"
      ]
     },
     "execution_count": 4,
     "metadata": {},
     "output_type": "execute_result"
    }
   ],
   "source": [
    "b = a #call  by object refrencing \n",
    "id(b) # will be same as a"
   ]
  },
  {
   "cell_type": "code",
   "execution_count": 5,
   "id": "e1ed7a07-c94e-4feb-9bb7-21b0ca8fd2d9",
   "metadata": {},
   "outputs": [
    {
     "data": {
      "text/plain": [
       "140728938578792"
      ]
     },
     "execution_count": 5,
     "metadata": {},
     "output_type": "execute_result"
    }
   ],
   "source": [
    "k = 3\n",
    "p = k\n",
    "q = p\n",
    "r = q\n",
    "id(k)"
   ]
  },
  {
   "cell_type": "code",
   "execution_count": 6,
   "id": "3444d1c8-ef34-4486-afda-aff6914e367c",
   "metadata": {},
   "outputs": [
    {
     "data": {
      "text/plain": [
       "140728938578792"
      ]
     },
     "execution_count": 6,
     "metadata": {},
     "output_type": "execute_result"
    }
   ],
   "source": [
    "id(p)"
   ]
  },
  {
   "cell_type": "code",
   "execution_count": 7,
   "id": "b0047205-fcc8-416f-8dd0-ce49bd4d0a49",
   "metadata": {},
   "outputs": [
    {
     "data": {
      "text/plain": [
       "140728938578792"
      ]
     },
     "execution_count": 7,
     "metadata": {},
     "output_type": "execute_result"
    }
   ],
   "source": [
    "id(q)"
   ]
  },
  {
   "cell_type": "code",
   "execution_count": 8,
   "id": "e7c95831-ae65-4b21-ba8e-378af658e856",
   "metadata": {},
   "outputs": [
    {
     "data": {
      "text/plain": [
       "140728938578792"
      ]
     },
     "execution_count": 8,
     "metadata": {},
     "output_type": "execute_result"
    }
   ],
   "source": [
    "id(r)"
   ]
  },
  {
   "cell_type": "code",
   "execution_count": 9,
   "id": "d454c49d-3379-492c-b105-1f421b63ad2a",
   "metadata": {},
   "outputs": [
    {
     "data": {
      "text/plain": [
       "140728938578824"
      ]
     },
     "execution_count": 9,
     "metadata": {},
     "output_type": "execute_result"
    }
   ],
   "source": [
    "# see this magic\n",
    "a = 4\n",
    "b = 4\n",
    "id(a)"
   ]
  },
  {
   "cell_type": "code",
   "execution_count": 10,
   "id": "81e92fc8-3e3a-4aea-90a1-8d8c2487c528",
   "metadata": {},
   "outputs": [
    {
     "data": {
      "text/plain": [
       "140728938578824"
      ]
     },
     "execution_count": 10,
     "metadata": {},
     "output_type": "execute_result"
    }
   ],
   "source": [
    "id(b)"
   ]
  },
  {
   "cell_type": "markdown",
   "id": "fa1862a8-bdc6-4909-b162-5212f227640d",
   "metadata": {},
   "source": [
    "In Python, small integers (typically between -5 and 256) are **interned**. This means that Python reuses the same object for these small numbers to optimize memory usage and performance.\n",
    "\n",
    "When you assign `a = 4` and `b = 4`, Python doesn't create two separate objects for the number 4. Instead, both `a` and `b` point to the same object in memory, hence their `id()` values are the same.\n",
    "\n",
    "This behavior happens because Python pre-allocates these small integers, so any variable assigned a value within this range will point to the same memory location. For larger integers, this behavior doesn't apply, and Python will create separate objects."
   ]
  },
  {
   "cell_type": "code",
   "execution_count": 11,
   "id": "1a7db77e-c679-44f5-8cb1-442875543dd3",
   "metadata": {},
   "outputs": [
    {
     "data": {
      "text/plain": [
       "1868638205904"
      ]
     },
     "execution_count": 11,
     "metadata": {},
     "output_type": "execute_result"
    }
   ],
   "source": [
    "m = 239887\n",
    "n = 239887\n",
    "id(m)"
   ]
  },
  {
   "cell_type": "code",
   "execution_count": 12,
   "id": "cfea3ac5-ba7c-4c88-bbb4-3c2fe9cd8794",
   "metadata": {},
   "outputs": [
    {
     "data": {
      "text/plain": [
       "1868638204848"
      ]
     },
     "execution_count": 12,
     "metadata": {},
     "output_type": "execute_result"
    }
   ],
   "source": [
    "id(n)"
   ]
  },
  {
   "cell_type": "code",
   "execution_count": 13,
   "id": "429a0e97-2970-4314-a405-9362be1f88d7",
   "metadata": {},
   "outputs": [],
   "source": [
    "# bcz numbers not in range of [-5, 256] address different"
   ]
  },
  {
   "cell_type": "markdown",
   "id": "98277359-d5b7-4592-a2b5-ae58dc10abfb",
   "metadata": {},
   "source": [
    "The function `sys.getrefcount()` returns the **reference count** for a given object in Python. The reference count is the number of references or pointers that currently exist to that specific object in memory. Each time a variable or another object references a particular object, the reference count for that object increases.\n",
    "\n",
    "### Key Points:\n",
    "1. **Reference Count**: \n",
    "   - Every object in Python has a reference count that tracks how many times it's being referenced (directly or indirectly).\n",
    "   - The more variables or objects that reference it, the higher the reference count.\n",
    "\n",
    "\n",
    "2. **Temporary Extra Reference**:\n",
    "   - When you call `sys.getrefcount(obj)`, the function itself temporarily creates an additional reference to the object during the function call, so the value returned will be **one higher** than the actual number of active references.\n",
    "\n",
    "\n",
    "### Example:\n",
    "```python\n",
    "import sys\n",
    "a = [1, 2, 3]\n",
    "sys.getrefcount(a)  # Returns 2 (1 from 'a', 1 from the getrefcount function itself)\n",
    "```\n",
    "\n",
    "If there are no other references to the object, `sys.getrefcount()` will return `2` (1 reference from `a` and 1 temporary reference created by the function call itself).\n",
    "\n",
    "### Common use cases:\n",
    "- **Tracking object lifecycle**: `sys.getrefcount()` helps to see how many variables are referencing a specific object and can be useful for debugging memory leaks.\n",
    "\n",
    "  \n",
    "- **Understanding garbage collection**: When the reference count drops to 0, the object becomes eligible for garbage collection, meaning its memory will be freed."
   ]
  },
  {
   "cell_type": "code",
   "execution_count": 28,
   "id": "385e8930-b5a1-4ce8-999b-b9af4f482de5",
   "metadata": {},
   "outputs": [
    {
     "data": {
      "text/plain": [
       "1000000014"
      ]
     },
     "execution_count": 28,
     "metadata": {},
     "output_type": "execute_result"
    }
   ],
   "source": [
    "import sys\n",
    "a = 253\n",
    "b = a\n",
    "c = b\n",
    "sys.getrefcount(253) "
   ]
  },
  {
   "cell_type": "code",
   "execution_count": 29,
   "id": "6d47424f-e8aa-4939-9605-1c634576cf34",
   "metadata": {},
   "outputs": [
    {
     "data": {
      "text/plain": [
       "1000000010"
      ]
     },
     "execution_count": 29,
     "metadata": {},
     "output_type": "execute_result"
    }
   ],
   "source": [
    "del a\n",
    "del b\n",
    "del c\n",
    "sys.getrefcount(253)"
   ]
  },
  {
   "cell_type": "code",
   "execution_count": 34,
   "id": "e768f75c-ade9-4660-a8f1-0ef329c7606b",
   "metadata": {},
   "outputs": [
    {
     "data": {
      "text/plain": [
       "(1, 2, 3, [4, 6])"
      ]
     },
     "execution_count": 34,
     "metadata": {},
     "output_type": "execute_result"
    }
   ],
   "source": [
    "example1 = (1, 2, 3, [4, 5])\n",
    "example1[-1][-1] = 6\n",
    "example1 # will be updated bcz list dict and sets and mutable and [4,5] is a list in tuple"
   ]
  },
  {
   "cell_type": "code",
   "execution_count": 35,
   "id": "c4e5f453-13aa-45b9-b929-6fed5c02fa57",
   "metadata": {},
   "outputs": [
    {
     "ename": "TypeError",
     "evalue": "'tuple' object does not support item assignment",
     "output_type": "error",
     "traceback": [
      "\u001b[1;31m---------------------------------------------------------------------------\u001b[0m",
      "\u001b[1;31mTypeError\u001b[0m                                 Traceback (most recent call last)",
      "Cell \u001b[1;32mIn[35], line 2\u001b[0m\n\u001b[0;32m      1\u001b[0m example2 \u001b[38;5;241m=\u001b[39m [\u001b[38;5;241m1\u001b[39m, \u001b[38;5;241m2\u001b[39m, \u001b[38;5;241m3\u001b[39m, (\u001b[38;5;241m4\u001b[39m, \u001b[38;5;241m5\u001b[39m)]\n\u001b[1;32m----> 2\u001b[0m example2[\u001b[38;5;241m-\u001b[39m\u001b[38;5;241m1\u001b[39m][\u001b[38;5;241m-\u001b[39m\u001b[38;5;241m1\u001b[39m] \u001b[38;5;241m=\u001b[39m \u001b[38;5;241m6\u001b[39m\n\u001b[0;32m      3\u001b[0m example2\n",
      "\u001b[1;31mTypeError\u001b[0m: 'tuple' object does not support item assignment"
     ]
    }
   ],
   "source": [
    "example2 = [1, 2, 3, (4, 5)]\n",
    "example2[-1][-1] = 6\n",
    "example2 # will not be updated bcz tuple is immutable"
   ]
  },
  {
   "cell_type": "code",
   "execution_count": 39,
   "id": "9d5ac061-984b-4656-8172-561c1d18dabc",
   "metadata": {},
   "outputs": [
    {
     "data": {
      "text/plain": [
       "[1, 2, 3, 4]"
      ]
     },
     "execution_count": 39,
     "metadata": {},
     "output_type": "execute_result"
    }
   ],
   "source": [
    "l = [1, 2, 3]\n",
    "l1 = l\n",
    "l1.append(4)\n",
    "l1"
   ]
  },
  {
   "cell_type": "code",
   "execution_count": 40,
   "id": "b0fd21f4-1ef6-4b6b-a374-46480d6a0e35",
   "metadata": {},
   "outputs": [
    {
     "data": {
      "text/plain": [
       "[1, 2, 3, 4]"
      ]
     },
     "execution_count": 40,
     "metadata": {},
     "output_type": "execute_result"
    }
   ],
   "source": [
    "l"
   ]
  },
  {
   "cell_type": "code",
   "execution_count": 41,
   "id": "1abefd30-5da0-4619-9f73-c721f38a79d6",
   "metadata": {},
   "outputs": [
    {
     "data": {
      "text/plain": [
       "['a', 'b', 'c', 'd']"
      ]
     },
     "execution_count": 41,
     "metadata": {},
     "output_type": "execute_result"
    }
   ],
   "source": [
    "m = ['a', 'b', 'c']\n",
    "n = m[:]\n",
    "n.append('d')\n",
    "n"
   ]
  },
  {
   "cell_type": "code",
   "execution_count": 42,
   "id": "cece66ab-e970-48b2-9d8b-d3e3992686f1",
   "metadata": {},
   "outputs": [
    {
     "data": {
      "text/plain": [
       "['a', 'b', 'c']"
      ]
     },
     "execution_count": 42,
     "metadata": {},
     "output_type": "execute_result"
    }
   ],
   "source": [
    "m"
   ]
  },
  {
   "cell_type": "code",
   "execution_count": 43,
   "id": "892cd7b3-389d-49b8-8d95-aece770782a7",
   "metadata": {},
   "outputs": [],
   "source": [
    "#called as cloning n doesnt refences to m but create copy of m in some other address"
   ]
  },
  {
   "cell_type": "code",
   "execution_count": null,
   "id": "fe221ecf-fe35-4568-bcc1-e08998780aea",
   "metadata": {},
   "outputs": [],
   "source": []
  }
 ],
 "metadata": {
  "kernelspec": {
   "display_name": "Python 3 (ipykernel)",
   "language": "python",
   "name": "python3"
  },
  "language_info": {
   "codemirror_mode": {
    "name": "ipython",
    "version": 3
   },
   "file_extension": ".py",
   "mimetype": "text/x-python",
   "name": "python",
   "nbconvert_exporter": "python",
   "pygments_lexer": "ipython3",
   "version": "3.11.7"
  }
 },
 "nbformat": 4,
 "nbformat_minor": 5
}
