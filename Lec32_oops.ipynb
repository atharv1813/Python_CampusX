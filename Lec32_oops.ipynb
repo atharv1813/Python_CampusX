{
 "cells": [
  {
   "cell_type": "markdown",
   "id": "7fc1a08d-f56f-45ba-8fde-9b9d79c8169b",
   "metadata": {},
   "source": [
    "#oops is nothing but different style of writing code\n",
    "oops: consists of: class, object and 4 pillars: polymosphosim, abstraction, encapsulation, inheritance\n",
    "class: Blurprint. in python everyhting is object . os if everyhting is object then it shuld be of some class\n",
    "class has data and methods/fxn example data: color engine type, humber seats etc and fxn calculatespeed showgpsanavigation \n",
    "methoda are fucntion wriutten inside a class but function is amny fucntuon w/o need of class\n",
    "class name pascalcase(PascalCase) object is instance of clas example for class Car object is wagonr\n",
    "wagonr = Car()\n",
    "what is constructor? constructor in pyhton using the keyword __init__ . use of constructor?\n",
    "self in python? same of object you are currently working with, when you do sbi.create_pin() sbi is one argument to function crwate_pin() by defauly so us object ko lene ke liye self use\n",
    "method of one class cannot access another method from the same class by itself for that it nend object of that class and whie defining that class to demonsatret which object we are using we use self as a keyword, so self is a current object.\n",
    "magic method in python : constructor(init), __str__ what does it do\n",
    "initialization and Construction :\r\n",
    "\r\n",
    "__new__: To get called in an object’s instantiation.\r\n",
    "__init__: To get called by the __new__ method.\r\n",
    "__del__: It is the destructor.\r\n",
    "Numeric magic m :hods\r\n",
    "\r\n",
    "\r\n",
    "__trunc__(self): Implements behavior for math.trunc()\r\n",
    "__ceil__(self): Implements behavior for math.ceil()\r\n",
    "__floor__(self): Implements behavior for math.floor()\r\n",
    "__round__(self,n): Implements behavior for the built-in round()\r\n",
    "__invert__(self): Implements behavior for inversion using the ~ operator.\r\n",
    "__abs__(self): Implements behavior for the built-in abs()\r\n",
    "__neg__(self): Implements behavior for negation\r\n",
    "__pos__(self): Implements behavior for unary positive \r\n",
    "Ari :metic operators\r\n",
    "\r\n",
    "\r\n",
    "__add__(self, other): Implements behavior for the + operator (addition).\r\n",
    "__sub__(self, other): Implements behavior for the – operator (subtraction).\r\n",
    "__mul__(self, other): Implements behavior for the * operator (multiplication).\r\n",
    "__floordiv__(self, other): Implements behavior for the // operator (floor division).\r\n",
    "__truediv__(self, other): Implements behavior for the / operator (true division).\r\n",
    "__mod__(self, other): Implements behavior for the % operator (modulus).\r\n",
    "__divmod__(self, other): Implements behavior for the divmod() function.\r\n",
    "__pow__(self, other): Implements behavior for the ** operator (exponentiation).\r\n",
    "__lshift__(self, other): Implements behavior for the << operator (left bitwise shift).\r\n",
    "__rshift__(self, other): Implements behavior for the >> operator (right bitwise shift).\r\n",
    "__and__(self, other): Implements behavior for the & operator (bitwise and).\r\n",
    "__or__(self, other): Implements behavior for the | operator (bitwise or).\r\n",
    "__xor__(self, other): Implements behavior for the ^ operator (bitwise xor).\r\n",
    "__invert__(self): Implements behavior for bitwise NOT using the ~ operator.\r\n",
    "__neg__(self): Implements behavior for negation using the – operator.\r\n",
    "__pos__(self): Implements behavior for unary positive using t : + operator.\r\n",
    "String Magic Methods\r\n",
    "\r\n",
    "\r\n",
    "__str__(self): Defines behavior for when str() is called on an instance of your class.\r\n",
    "__repr__(self): To get called by built-int repr() method to return a machine readable representation of a type.\r\n",
    "__unicode__(self): This method to return an unicode string of a type.\r\n",
    "__format__(self, formatstr): return a new style of string.\r\n",
    "__hash__(self): It has to return an integer, and its result is used for quick key comparison in dictionaries.\r\n",
    "__nonzero__(self): Defines behavior for when bool() is called on an instance of your class. \r\n",
    "__dir__(self): This method to return a list of attributes of a class.\r\n",
    "__sizeof__(self): It return th :size of the object.\r\n",
    "Comparison magic methods\r\n",
    "\r\n",
    "\r\n",
    "__eq__(self, other): Defines behavior for the equality operator, ==.\r\n",
    "__ne__(self, other): Defines behavior for the inequality operator, !=.\r\n",
    "__lt__(self, other): Defines behavior for the less-than operator, <.\r\n",
    "__gt__(self, other): Defines behavior for the greater-than operator, >.\r\n",
    "__le__(self, other): Defines behavior for the less-than-or-equal-to operator, <=.\r\n",
    "__ge__(self, other): Defines \n",
    "\n",
    "what is instance variabls in oops?\n",
    "what are referance vars? what are static vars?\n",
    "Relationships b/w classes 1.aggregation(has-a) 2.Inheritance(is-a)\n",
    "\n",
    "4 pillars of OOPS:\n",
    "1.Encapsulation:- defination all vars public then anobody can change __ at start for private but getter and setters can access but bcz using mehtods so can aply logic gthis is called Encapsulation\n",
    "2.Inheritance:-Types of inheritance: single, multi-level, hierarchial, multiple\n",
    "3.Polymorphoism:- a)method overriding b)method overloading c)operator overloading\n",
    "4.Abstraction:-behavior for the greater-than-or-equal-to operator, >=."
   ]
  },
  {
   "cell_type": "code",
   "execution_count": 100,
   "id": "5bbb562f-eac5-4146-85e7-dadbd70f04ab",
   "metadata": {},
   "outputs": [],
   "source": [
    "class Atm():\n",
    "    def __init__(self):\n",
    "        self.pin = \"\"\n",
    "        self.balance = 0\n",
    "        self.menu()\n",
    "\n",
    "    def menu(self):\n",
    "        user_input = input(\n",
    "            \"\"\"Hello, how would you like to proceed?\n",
    "            1. Enter 1 to create pin\n",
    "            2. Enter 2 to deposit\n",
    "            3. Enter 3 to withdraw\n",
    "            4. Enter 4 to check balance\n",
    "            5. Enter 5 to exit\n",
    "            \"\"\"\n",
    "        )\n",
    "\n",
    "        if user_input == \"1\":\n",
    "            self.create_pin()\n",
    "        elif user_input == \"2\":\n",
    "            self.deposit()\n",
    "        elif user_input == \"3\":\n",
    "            self.withdraw()\n",
    "        elif user_input == \"4\":\n",
    "            self.check_balance()\n",
    "        elif user_input == \"5\":\n",
    "            print(\"Bye\")\n",
    "        else:\n",
    "            print(\"Invalid input\")\n",
    "\n",
    "\n",
    "    def create_pin(self):\n",
    "        self.pin = input(\"Enter your pin\")\n",
    "        print(\"Pin created succesfully\")\n",
    "\n",
    "    def deposit(self):\n",
    "        temp = input(\"Enter your pin\")\n",
    "        if temp == self.pin:\n",
    "            amt = int(input(\"Enter amount to deposit\"))\n",
    "            self.balance += amt\n",
    "            print(f\"Deposited successfully current balance now is {self.balance}\")\n",
    "        else:\n",
    "            print(\"Wrong pin\")\n",
    "\n",
    "    def withdraw(self):\n",
    "        temp = input(\"Enter your pin\")\n",
    "        if temp == self.pin:\n",
    "            amt = int(input(\"Enter amount to withdraw\"))\n",
    "            if(amt >= self.balance):\n",
    "                print(\"Insufficient balance\")\n",
    "            else:\n",
    "                self.balance -= amt\n",
    "                print(f\"Withdrawl successfully current balance now is {self.balance}\")\n",
    "        else:\n",
    "            print(\"Wrong pin\")\n",
    "\n",
    "    def check_balance(self):\n",
    "        temp = input(\"Enter your pin\")\n",
    "        if temp == self.pin:\n",
    "            print(\"Account balance is : \", self.balance)\n",
    "        else:\n",
    "            print(\"Invalid pin\")"
   ]
  },
  {
   "cell_type": "code",
   "execution_count": 102,
   "id": "8d4cd6b9-633b-4aff-b0a5-609934245387",
   "metadata": {},
   "outputs": [
    {
     "name": "stdin",
     "output_type": "stream",
     "text": [
      "Hello, how would you like to proceed?\n",
      "            1. Enter 1 to create pin\n",
      "            2. Enter 2 to deposit\n",
      "            3. Enter 3 to withdraw\n",
      "            4. Enter 4 to check balance\n",
      "            5. Enter 5 to exit\n",
      "             1\n",
      "Enter your pin 1234\n"
     ]
    },
    {
     "name": "stdout",
     "output_type": "stream",
     "text": [
      "Pin created succesfully\n"
     ]
    }
   ],
   "source": [
    "sbi = Atm()"
   ]
  },
  {
   "cell_type": "code",
   "execution_count": 103,
   "id": "86790d2a-3808-45e7-9ca2-ad72644f154c",
   "metadata": {},
   "outputs": [
    {
     "name": "stdin",
     "output_type": "stream",
     "text": [
      "Enter your pin 1234\n",
      "Enter amount to deposit 1000\n"
     ]
    },
    {
     "name": "stdout",
     "output_type": "stream",
     "text": [
      "Deposited successfully current balance now is 1000\n"
     ]
    }
   ],
   "source": [
    "sbi.deposit()"
   ]
  },
  {
   "cell_type": "code",
   "execution_count": 104,
   "id": "a3388380-2a62-4786-a078-106a87fbbd6d",
   "metadata": {},
   "outputs": [
    {
     "name": "stdin",
     "output_type": "stream",
     "text": [
      "Enter your pin 1234\n",
      "Enter amount to withdraw 600\n"
     ]
    },
    {
     "name": "stdout",
     "output_type": "stream",
     "text": [
      "Withdrawl successfully current balance now is 400\n"
     ]
    }
   ],
   "source": [
    "sbi.withdraw()"
   ]
  },
  {
   "cell_type": "code",
   "execution_count": 105,
   "id": "c9555d88-7a58-4b2a-a7f1-59e9c9425780",
   "metadata": {},
   "outputs": [
    {
     "name": "stdin",
     "output_type": "stream",
     "text": [
      "Enter your pin 1234\n"
     ]
    },
    {
     "name": "stdout",
     "output_type": "stream",
     "text": [
      "Account balance is :  400\n"
     ]
    }
   ],
   "source": [
    "sbi.check_balance()"
   ]
  },
  {
   "cell_type": "code",
   "execution_count": 106,
   "id": "051f1be2-99bf-405d-81e2-271f79900c21",
   "metadata": {},
   "outputs": [],
   "source": [
    "#what is self? "
   ]
  },
  {
   "cell_type": "code",
   "execution_count": 107,
   "id": "d84f83f1-15a9-4164-b50b-23f5b9495eef",
   "metadata": {},
   "outputs": [],
   "source": [
    "class Class():\n",
    "    def __init__(self):\n",
    "        print(id(self))"
   ]
  },
  {
   "cell_type": "code",
   "execution_count": 108,
   "id": "2045835f-1164-45c1-973d-5f54680d12a3",
   "metadata": {},
   "outputs": [
    {
     "name": "stdout",
     "output_type": "stream",
     "text": [
      "2252938663568\n"
     ]
    }
   ],
   "source": [
    "cls = Class()"
   ]
  },
  {
   "cell_type": "code",
   "execution_count": 109,
   "id": "2e94dc39-1c69-4eb6-8dbe-2ef57591985d",
   "metadata": {},
   "outputs": [
    {
     "name": "stdout",
     "output_type": "stream",
     "text": [
      "2252938663568\n"
     ]
    }
   ],
   "source": [
    "print(id(cls))"
   ]
  },
  {
   "cell_type": "code",
   "execution_count": 110,
   "id": "6909489d-91c6-49c0-9c40-d60791476f15",
   "metadata": {},
   "outputs": [],
   "source": [
    "#id of self and object(Class ka instance) is same\n",
    "# when you do sbi.create_pin() sbi is one argument to function crwate_pin() by defauly so us object ko lene ke liye self use"
   ]
  },
  {
   "cell_type": "code",
   "execution_count": 111,
   "id": "511ca5aa-1bbc-4795-8d01-6cd66878a066",
   "metadata": {},
   "outputs": [],
   "source": [
    "#creating own datatype"
   ]
  },
  {
   "cell_type": "code",
   "execution_count": 112,
   "id": "6ff3f825-0685-40aa-890b-7820fd43ddf8",
   "metadata": {},
   "outputs": [],
   "source": [
    "class Fraction():\n",
    "    def __init__(self, n, d):\n",
    "        self.num = n\n",
    "        self.den = d\n",
    "    \n",
    "    def __str__(self):\n",
    "        return f\"Our fraction is: {self.num} / {self.den}\"\n",
    "\n",
    "    def __add__(self, other):\n",
    "        temp_num = self.num * other.den + other.num * self.den\n",
    "        temp_den = self.den * other.den\n",
    "        return f\"Our added fraction is: {temp_num} / {temp_den}\"\n",
    "\n",
    "    def __sub__(self, other):\n",
    "        temp_num = self.num * other.den - other.num * self.den\n",
    "        temp_den = self.den * other.den\n",
    "        return f\"Our subtracted fraction is: {temp_num} / {temp_den}\"\n",
    "\n",
    "    def __mul__(self, other):\n",
    "        temp_num = self.num * other.num\n",
    "        temp_den = self.den * other.den\n",
    "        return f\"Our multiplied fraction is: {temp_num} / {temp_den}\"\n",
    "\n",
    "    def __truediv__(self, other):\n",
    "        # Division of fractions is the same as multiplying by the reciprocal\n",
    "        temp_num = self.num * other.den\n",
    "        temp_den = self.den * other.num\n",
    "        return f\"Our divided fraction is: {temp_num} / {temp_den}\""
   ]
  },
  {
   "cell_type": "code",
   "execution_count": 113,
   "id": "40857590-a77c-464c-ac7a-f6e13e3133e7",
   "metadata": {},
   "outputs": [],
   "source": [
    "frac = Fraction(4,5)"
   ]
  },
  {
   "cell_type": "code",
   "execution_count": 114,
   "id": "0462d5e3-5312-4bda-b4cb-1789a7f89c22",
   "metadata": {},
   "outputs": [
    {
     "data": {
      "text/plain": [
       "__main__.Fraction"
      ]
     },
     "execution_count": 114,
     "metadata": {},
     "output_type": "execute_result"
    }
   ],
   "source": [
    "type(frac)"
   ]
  },
  {
   "cell_type": "code",
   "execution_count": 115,
   "id": "5eb1d711-4d95-4e3f-ac4e-e60a6afefee9",
   "metadata": {},
   "outputs": [
    {
     "name": "stdout",
     "output_type": "stream",
     "text": [
      "4\n",
      "5\n"
     ]
    }
   ],
   "source": [
    "print(frac.num)\n",
    "print(frac.den)"
   ]
  },
  {
   "cell_type": "code",
   "execution_count": 116,
   "id": "306ab552-5454-4c14-bcf0-216f7c272222",
   "metadata": {},
   "outputs": [
    {
     "data": {
      "text/plain": [
       "[1, 2, 3, <__main__.Fraction at 0x20c8eb03b50>]"
      ]
     },
     "execution_count": 116,
     "metadata": {},
     "output_type": "execute_result"
    }
   ],
   "source": [
    "L = [1,2,3,frac]\n",
    "L"
   ]
  },
  {
   "cell_type": "code",
   "execution_count": 117,
   "id": "e0b35888-5333-45f3-882b-2f8f401d729a",
   "metadata": {},
   "outputs": [
    {
     "name": "stdout",
     "output_type": "stream",
     "text": [
      "Our fraction is: 4 / 5\n"
     ]
    }
   ],
   "source": [
    "print(frac) #print __str__ wala"
   ]
  },
  {
   "cell_type": "code",
   "execution_count": 118,
   "id": "55300204-3aaf-4e22-8fc7-e602d5d31c0e",
   "metadata": {},
   "outputs": [
    {
     "name": "stdout",
     "output_type": "stream",
     "text": [
      "Our fraction is: 3 / 7\n",
      "Our fraction is: 4 / 7\n"
     ]
    }
   ],
   "source": [
    "frac1 = Fraction(3,7)\n",
    "frac2 = Fraction(4,7)\n",
    "print(frac1)\n",
    "print(frac2)"
   ]
  },
  {
   "cell_type": "code",
   "execution_count": 119,
   "id": "2799c208-0005-4b26-8b10-ae57c8bb9dd0",
   "metadata": {},
   "outputs": [
    {
     "name": "stdout",
     "output_type": "stream",
     "text": [
      "Our added fraction is: 49 / 49\n"
     ]
    }
   ],
   "source": [
    "print(frac1 + frac2) #for addition of 2 objects of same class __add__ method of that class will be automatically invoked"
   ]
  },
  {
   "cell_type": "code",
   "execution_count": 120,
   "id": "df20e667-8272-4c1a-bbe9-58a2d0b31194",
   "metadata": {},
   "outputs": [
    {
     "name": "stdout",
     "output_type": "stream",
     "text": [
      "Our subtracted fraction is: 7 / 49\n"
     ]
    }
   ],
   "source": [
    "print(frac2 - frac1)"
   ]
  },
  {
   "cell_type": "code",
   "execution_count": 121,
   "id": "f4a9ef6e-6de4-4adf-949c-e29fff8ba934",
   "metadata": {},
   "outputs": [
    {
     "name": "stdout",
     "output_type": "stream",
     "text": [
      "Our multiplied fraction is: 12 / 49\n"
     ]
    }
   ],
   "source": [
    "print(frac1 * frac2)"
   ]
  },
  {
   "cell_type": "code",
   "execution_count": 122,
   "id": "a578de1b-e2d5-48b4-bc11-0b1d9bd82b4e",
   "metadata": {},
   "outputs": [
    {
     "name": "stdout",
     "output_type": "stream",
     "text": [
      "Our divided fraction is: 21 / 28\n"
     ]
    }
   ],
   "source": [
    "print(frac1 / frac2)"
   ]
  },
  {
   "cell_type": "code",
   "execution_count": null,
   "id": "4ddaae0a-bf9b-4597-ae99-0a716fc7185b",
   "metadata": {},
   "outputs": [],
   "source": []
  },
  {
   "cell_type": "code",
   "execution_count": 123,
   "id": "0b23b7fb-2848-41f3-8d73-73d23de9e04a",
   "metadata": {},
   "outputs": [],
   "source": [
    "class Atm():\n",
    "    def __init__(self):\n",
    "        self.pin = \"\"\n",
    "        self.balance = 0\n",
    "        self.menu()\n",
    "\n",
    "    def menu(self):\n",
    "        user_input = input(\n",
    "            \"\"\"Hello, how would you like to proceed?\n",
    "            1. Enter 1 to create pin\n",
    "            2. Enter 2 to deposit\n",
    "            3. Enter 3 to withdraw\n",
    "            4. Enter 4 to check balance\n",
    "            5. Enter 5 to exit\n",
    "            \"\"\"\n",
    "        )\n",
    "\n",
    "        if user_input == \"1\":\n",
    "            self.create_pin()\n",
    "        elif user_input == \"2\":\n",
    "            self.deposit()\n",
    "        elif user_input == \"3\":\n",
    "            self.withdraw()\n",
    "        elif user_input == \"4\":\n",
    "            self.check_balance()\n",
    "        elif user_input == \"5\":\n",
    "            print(\"Bye\")\n",
    "        else:\n",
    "            print(\"Invalid input\")\n",
    "\n",
    "\n",
    "    def create_pin(self):\n",
    "        self.pin = input(\"Enter your pin\")\n",
    "        print(\"Pin created succesfully\")\n",
    "\n",
    "    def deposit(self):\n",
    "        temp = input(\"Enter your pin\")\n",
    "        if temp == self.pin:\n",
    "            amt = int(input(\"Enter amount to deposit\"))\n",
    "            self.balance += amt\n",
    "            print(f\"Deposited successfully current balance now is {self.balance}\")\n",
    "        else:\n",
    "            print(\"Wrong pin\")\n",
    "\n",
    "    def withdraw(self):\n",
    "        temp = input(\"Enter your pin\")\n",
    "        if temp == self.pin:\n",
    "            amt = int(input(\"Enter amount to withdraw\"))\n",
    "            if(amt >= self.balance):\n",
    "                print(\"Insufficient balance\")\n",
    "            else:\n",
    "                self.balance -= amt\n",
    "                print(f\"Withdrawl successfully current balance now is {self.balance}\")\n",
    "        else:\n",
    "            print(\"Wrong pin\")\n",
    "\n",
    "    def check_balance(self):\n",
    "        temp = input(\"Enter your pin\")\n",
    "        if temp == self.pin:\n",
    "            print(\"Account balance is : \", self.balance)\n",
    "        else:\n",
    "            print(\"Invalid pin\")"
   ]
  },
  {
   "cell_type": "code",
   "execution_count": 124,
   "id": "1dd64c6a-13f0-4981-9a62-456ccf417146",
   "metadata": {},
   "outputs": [
    {
     "name": "stdin",
     "output_type": "stream",
     "text": [
      "Hello, how would you like to proceed?\n",
      "            1. Enter 1 to create pin\n",
      "            2. Enter 2 to deposit\n",
      "            3. Enter 3 to withdraw\n",
      "            4. Enter 4 to check balance\n",
      "            5. Enter 5 to exit\n",
      "             1\n",
      "Enter your pin 1234\n"
     ]
    },
    {
     "name": "stdout",
     "output_type": "stream",
     "text": [
      "Pin created succesfully\n"
     ]
    }
   ],
   "source": [
    "hdfc = Atm()"
   ]
  },
  {
   "cell_type": "code",
   "execution_count": 127,
   "id": "b50972ae-7293-4a20-b90c-afa875e12cfe",
   "metadata": {},
   "outputs": [
    {
     "name": "stdin",
     "output_type": "stream",
     "text": [
      "Enter your pin 1234\n"
     ]
    },
    {
     "name": "stdout",
     "output_type": "stream",
     "text": [
      "Account balance is :  100000\n"
     ]
    }
   ],
   "source": [
    "hdfc.balance = 100000\n",
    "hdfc.check_balance()"
   ]
  },
  {
   "cell_type": "code",
   "execution_count": 128,
   "id": "3d75745b-f325-426e-b041-7926b204a81e",
   "metadata": {},
   "outputs": [],
   "source": [
    "#Now this is wrong nowbody should be able to modify some variables directly like this so we can make them private how ? \n",
    "#There is a rule in Python that variables and methods prefixed with a double underscore (__) are considered private."
   ]
  },
  {
   "cell_type": "code",
   "execution_count": 134,
   "id": "fc7cdda6-5888-4471-9eeb-d603800ab08a",
   "metadata": {},
   "outputs": [],
   "source": [
    "class Atm():\n",
    "    def __init__(self):\n",
    "        self.__pin = \"\"\n",
    "        self.__balance = 0\n",
    "        self.__menu()\n",
    "\n",
    "    def __menu(self):\n",
    "        user_input = input(\n",
    "            \"\"\"Hello, how would you like to proceed?\n",
    "            1. Enter 1 to create pin\n",
    "            2. Enter 2 to deposit\n",
    "            3. Enter 3 to withdraw\n",
    "            4. Enter 4 to check balance\n",
    "            5. Enter 5 to exit\n",
    "            \"\"\"\n",
    "        )\n",
    "\n",
    "        if user_input == \"1\":\n",
    "            self.create_pin()\n",
    "        elif user_input == \"2\":\n",
    "            self.deposit()\n",
    "        elif user_input == \"3\":\n",
    "            self.withdraw()\n",
    "        elif user_input == \"4\":\n",
    "            self.check_balance()\n",
    "        elif user_input == \"5\":\n",
    "            print(\"Bye\")\n",
    "        else:\n",
    "            print(\"Invalid input\")\n",
    "\n",
    "\n",
    "    def create_pin(self):\n",
    "        self.__pin = input(\"Enter your pin\")\n",
    "        print(\"Pin created succesfully\")\n",
    "\n",
    "    def deposit(self):\n",
    "        temp = input(\"Enter your pin\")\n",
    "        if temp == self.__pin:\n",
    "            amt = int(input(\"Enter amount to deposit\"))\n",
    "            self.__balance += amt\n",
    "            print(f\"Deposited successfully current balance now is {self.__balance}\")\n",
    "        else:\n",
    "            print(\"Wrong pin\")\n",
    "\n",
    "    def withdraw(self):\n",
    "        temp = input(\"Enter your pin\")\n",
    "        if temp == self.__pin:\n",
    "            amt = int(input(\"Enter amount to withdraw\"))\n",
    "            if(amt >= self.__balance):\n",
    "                print(\"Insufficient balance\")\n",
    "            else:\n",
    "                self.__balance -= amt\n",
    "                print(f\"Withdrawl successfully current balance now is {self.__balance}\")\n",
    "        else:\n",
    "            print(\"Wrong pin\")\n",
    "\n",
    "    def check_balance(self):\n",
    "        temp = input(\"Enter your pin\")\n",
    "        if temp == self.__pin:\n",
    "            print(\"Account balance is : \", self.__balance)\n",
    "        else:\n",
    "            print(\"Invalid pin\")"
   ]
  },
  {
   "cell_type": "code",
   "execution_count": 135,
   "id": "d199de7c-b130-4dbb-aea6-22c00fa043bc",
   "metadata": {},
   "outputs": [
    {
     "name": "stdin",
     "output_type": "stream",
     "text": [
      "Hello, how would you like to proceed?\n",
      "            1. Enter 1 to create pin\n",
      "            2. Enter 2 to deposit\n",
      "            3. Enter 3 to withdraw\n",
      "            4. Enter 4 to check balance\n",
      "            5. Enter 5 to exit\n",
      "             1\n",
      "Enter your pin 1234\n"
     ]
    },
    {
     "name": "stdout",
     "output_type": "stream",
     "text": [
      "Pin created succesfully\n"
     ]
    }
   ],
   "source": [
    "hdfc = Atm()"
   ]
  },
  {
   "cell_type": "code",
   "execution_count": 137,
   "id": "fe865f28-6984-4f60-b74c-c37d37a1eb62",
   "metadata": {},
   "outputs": [
    {
     "name": "stdin",
     "output_type": "stream",
     "text": [
      "Enter your pin 1234\n"
     ]
    },
    {
     "name": "stdout",
     "output_type": "stream",
     "text": [
      "Account balance is :  0\n"
     ]
    }
   ],
   "source": [
    "hdfc.__balance = 100000\n",
    "hdfc.check_balance()"
   ]
  },
  {
   "cell_type": "code",
   "execution_count": 139,
   "id": "25cde9c7-21fc-491b-94d2-d11514a46232",
   "metadata": {},
   "outputs": [],
   "source": [
    "#see this till you balance is zero but how did this works?\n",
    "# bcz private vars have __ in front of them \"__balance\" will get converted to \"_Atm__balance\" so even though hdfc.__balance = 100000 ye line chal gya\n",
    "# par abhi bhi balance 0 hi rha and baki ke methods still can chaneg the balance"
   ]
  },
  {
   "cell_type": "code",
   "execution_count": 140,
   "id": "efb1949b-a162-4c8b-b52c-a4d65688a18c",
   "metadata": {},
   "outputs": [
    {
     "name": "stdin",
     "output_type": "stream",
     "text": [
      "Enter your pin 1234\n",
      "Enter amount to deposit 1000\n"
     ]
    },
    {
     "name": "stdout",
     "output_type": "stream",
     "text": [
      "Deposited successfully current balance now is 1000\n"
     ]
    }
   ],
   "source": [
    "hdfc.deposit()"
   ]
  },
  {
   "cell_type": "code",
   "execution_count": 141,
   "id": "152670ec-f14e-43d1-a168-dfcd2faa9acb",
   "metadata": {},
   "outputs": [
    {
     "name": "stdin",
     "output_type": "stream",
     "text": [
      "Enter your pin 1234\n"
     ]
    },
    {
     "name": "stdout",
     "output_type": "stream",
     "text": [
      "Account balance is :  1000\n"
     ]
    }
   ],
   "source": [
    "hdfc.check_balance()"
   ]
  },
  {
   "cell_type": "code",
   "execution_count": 142,
   "id": "44304b24-ffe0-4bda-abaa-8fd9e0e6f3b5",
   "metadata": {},
   "outputs": [],
   "source": [
    "#But if we do access it using _Atm__balance then it will be modified"
   ]
  },
  {
   "cell_type": "code",
   "execution_count": 143,
   "id": "e3e9ee2a-292d-42d9-bd94-5c8c948e5cc6",
   "metadata": {},
   "outputs": [
    {
     "name": "stdin",
     "output_type": "stream",
     "text": [
      "Enter your pin 1234\n"
     ]
    },
    {
     "name": "stdout",
     "output_type": "stream",
     "text": [
      "Account balance is :  476\n"
     ]
    }
   ],
   "source": [
    "hdfc._Atm__balance = 476\n",
    "hdfc.check_balance()"
   ]
  },
  {
   "cell_type": "code",
   "execution_count": 145,
   "id": "18f43ea5-c993-433e-9ad6-3e57dca42f49",
   "metadata": {},
   "outputs": [],
   "source": [
    "# a LOOPHOLE\n",
    "# Nothing in python is truly private"
   ]
  },
  {
   "cell_type": "code",
   "execution_count": 146,
   "id": "bd0a4426-96ce-4a12-9c1d-490bfb878d53",
   "metadata": {},
   "outputs": [],
   "source": [
    "class Atm():\n",
    "    def __init__(self):\n",
    "        self.__pin = \"\"\n",
    "        self.__balance = 0\n",
    "        self.menu()\n",
    "\n",
    "    def menu(self):\n",
    "        user_input = input(\n",
    "            \"\"\"Hello, how would you like to proceed?\n",
    "            1. Enter 1 to create pin\n",
    "            2. Enter 2 to deposit\n",
    "            3. Enter 3 to withdraw\n",
    "            4. Enter 4 to check balance\n",
    "            5. Enter 5 to exit\n",
    "            \"\"\"\n",
    "        )\n",
    "\n",
    "        if user_input == \"1\":\n",
    "            self.create_pin()\n",
    "        elif user_input == \"2\":\n",
    "            self.deposit()\n",
    "        elif user_input == \"3\":\n",
    "            self.withdraw()\n",
    "        elif user_input == \"4\":\n",
    "            self.check_balance()\n",
    "        elif user_input == \"5\":\n",
    "            print(\"Bye\")\n",
    "        else:\n",
    "            print(\"Invalid input\")\n",
    "\n",
    "    # Setter for pin\n",
    "    def set_pin(self, pin):\n",
    "        self.__pin = pin\n",
    "\n",
    "    # Getter for pin\n",
    "    def get_pin(self):\n",
    "        return self.__pin\n",
    "\n",
    "    # Setter for balance\n",
    "    def set_balance(self, balance):\n",
    "        self.__balance = balance\n",
    "\n",
    "    # Getter for balance\n",
    "    def get_balance(self):\n",
    "        return self.__balance\n",
    "\n",
    "    def create_pin(self):\n",
    "        pin = input(\"Enter your pin: \")\n",
    "        self.set_pin(pin)\n",
    "        print(\"Pin created successfully\")\n",
    "\n",
    "    def deposit(self):\n",
    "        temp = input(\"Enter your pin: \")\n",
    "        if temp == self.get_pin():\n",
    "            amt = int(input(\"Enter amount to deposit: \"))\n",
    "            new_balance = self.get_balance() + amt\n",
    "            self.set_balance(new_balance)\n",
    "            print(f\"Deposited successfully. Current balance is {self.get_balance()}\")\n",
    "        else:\n",
    "            print(\"Wrong pin\")\n",
    "\n",
    "    def withdraw(self):\n",
    "        temp = input(\"Enter your pin: \")\n",
    "        if temp == self.get_pin():\n",
    "            amt = int(input(\"Enter amount to withdraw: \"))\n",
    "            if amt > self.get_balance():\n",
    "                print(\"Insufficient balance\")\n",
    "            else:\n",
    "                new_balance = self.get_balance() - amt\n",
    "                self.set_balance(new_balance)\n",
    "                print(f\"Withdrawal successful. Current balance is {self.get_balance()}\")\n",
    "        else:\n",
    "            print(\"Wrong pin\")\n",
    "\n",
    "    def check_balance(self):\n",
    "        temp = input(\"Enter your pin: \")\n",
    "        if temp == self.get_pin():\n",
    "            print(f\"Account balance is: {self.get_balance()}\")\n",
    "        else:\n",
    "            print(\"Invalid pin\")"
   ]
  },
  {
   "cell_type": "code",
   "execution_count": 147,
   "id": "c94d0b1e-eb0a-48d7-9755-5e20693f92b9",
   "metadata": {},
   "outputs": [
    {
     "name": "stdin",
     "output_type": "stream",
     "text": [
      "Hello, how would you like to proceed?\n",
      "            1. Enter 1 to create pin\n",
      "            2. Enter 2 to deposit\n",
      "            3. Enter 3 to withdraw\n",
      "            4. Enter 4 to check balance\n",
      "            5. Enter 5 to exit\n",
      "             1\n",
      "Enter your pin:  1234\n"
     ]
    },
    {
     "name": "stdout",
     "output_type": "stream",
     "text": [
      "Pin created successfully\n"
     ]
    }
   ],
   "source": [
    "atm1 = Atm()"
   ]
  },
  {
   "cell_type": "code",
   "execution_count": 148,
   "id": "dc5a23ac-46fe-4e6b-86a0-bd947630995b",
   "metadata": {},
   "outputs": [
    {
     "data": {
      "text/plain": [
       "'1234'"
      ]
     },
     "execution_count": 148,
     "metadata": {},
     "output_type": "execute_result"
    }
   ],
   "source": [
    "atm1.get_pin()"
   ]
  },
  {
   "cell_type": "code",
   "execution_count": 150,
   "id": "a58103af-6f8d-4fdb-ba81-80b362199702",
   "metadata": {},
   "outputs": [
    {
     "data": {
      "text/plain": [
       "123"
      ]
     },
     "execution_count": 150,
     "metadata": {},
     "output_type": "execute_result"
    }
   ],
   "source": [
    "atm1.set_pin(123)\n",
    "atm1.get_pin()"
   ]
  },
  {
   "cell_type": "code",
   "execution_count": 154,
   "id": "44cff983-e2a3-4dc9-a0c0-1453b37466cd",
   "metadata": {},
   "outputs": [],
   "source": [
    "# But whats the point in making it private then giving ability to access/modify ?\n",
    "# bcz they can access using method we can apply logic to handle behabiour inpout oupout of this methods\n",
    "\n",
    "# Setter for pin (keeps it string only)\n",
    "    # def set_pin(self, pin):\n",
    "    #     self.__pin = str(pin)"
   ]
  },
  {
   "cell_type": "code",
   "execution_count": 155,
   "id": "4e853842-b46b-4521-8d9f-dc63b1f83c94",
   "metadata": {},
   "outputs": [
    {
     "name": "stdout",
     "output_type": "stream",
     "text": [
      "Hello Ankita ma'am\n",
      "Nitish\n"
     ]
    }
   ],
   "source": [
    "class Customer:\n",
    "    def __init__(self, name, gender):\n",
    "        self.name = name\n",
    "        self.gender = gender\n",
    "\n",
    "def greet(customer):\n",
    "    if customer.gender == \"Male\":\n",
    "        print(\"Hello\", customer.name, \"sir\")\n",
    "    else:\n",
    "        print(\"Hello\", customer.name, \"ma'am\")\n",
    "    \n",
    "    # Returning a new customer (cust2)\n",
    "    cust2 = Customer(\"Nitish\", \"Male\")\n",
    "    return cust2\n",
    "\n",
    "# Create an instance of the Customer class\n",
    "cust = Customer(\"Ankita\", \"Female\")\n",
    "\n",
    "# Greet the customer and return cust2\n",
    "new_cust = greet(cust)\n",
    "\n",
    "# Print the name of the new customer (cust2)\n",
    "print(new_cust.name)"
   ]
  },
  {
   "cell_type": "code",
   "execution_count": 156,
   "id": "06057f57-0229-45d0-b525-773a47e75f90",
   "metadata": {},
   "outputs": [],
   "source": [
    "# We can see that we can also return another class object in class methods "
   ]
  },
  {
   "cell_type": "code",
   "execution_count": 159,
   "id": "aa13a9b8-698f-4b05-b1ce-8d4f808c51b8",
   "metadata": {},
   "outputs": [
    {
     "name": "stdout",
     "output_type": "stream",
     "text": [
      "Hello Ankita ma'am\n",
      "2252956415056\n",
      "AJ\n",
      "2252956415056\n",
      "Nitish\n"
     ]
    }
   ],
   "source": [
    "class Customer:\n",
    "    def __init__(self, name, gender):\n",
    "        self.name = name\n",
    "        self.gender = gender\n",
    "\n",
    "def greet(customer):\n",
    "    if customer.gender == \"Male\":\n",
    "        print(\"Hello\", customer.name, \"sir\")\n",
    "    else:\n",
    "        print(\"Hello\", customer.name, \"ma'am\")\n",
    "\n",
    "    customer.name = \"AJ\"\n",
    "    print(id(customer))\n",
    "    # Returning a new customer (cust2)\n",
    "    cust2 = Customer(\"Nitish\", \"Male\")\n",
    "    return cust2\n",
    "\n",
    "# Create an instance of the Customer class\n",
    "cust = Customer(\"Ankita\", \"Female\")\n",
    "\n",
    "# Greet the customer and return cust2\n",
    "new_cust = greet(cust)\n",
    "print(cust.name)\n",
    "print(id(cust))\n",
    "# Print the name of the new customer (cust2)\n",
    "print(new_cust.name)"
   ]
  },
  {
   "cell_type": "code",
   "execution_count": 161,
   "id": "0474cb74-e2f6-4c2c-9d7a-38be52eba1fe",
   "metadata": {},
   "outputs": [],
   "source": [
    "# We can see tht customer passed in greet is pass by reference so when we changes name of customer to AJ inside the greet when outside class \n",
    "# original name of ankita alos got chnaged to AJ bcz it was pass by reference and so id/address of customer inside class and oustide caleedd also same\n",
    "# so MUTABLE DATATYPE SO OBJECTS OF CLASS ARE MUTABLE"
   ]
  },
  {
   "cell_type": "code",
   "execution_count": 164,
   "id": "dc1e6e04-4995-4b1b-988b-f137b5248c63",
   "metadata": {},
   "outputs": [
    {
     "name": "stdout",
     "output_type": "stream",
     "text": [
      "Name: Ankita, Age: 25\n",
      "Name: Nitish, Age: 30\n",
      "Name: Rahul, Age: 22\n",
      "Name: Sneha, Age: 28\n"
     ]
    }
   ],
   "source": [
    "#collection of objects can be done\n",
    "class Customer:\n",
    "    def __init__(self, name, age):\n",
    "        self.name = name\n",
    "        self.age = age\n",
    "\n",
    "# Create individual Customer objects\n",
    "cust1 = Customer(\"Ankita\", 25)\n",
    "cust2 = Customer(\"Nitish\", 30)\n",
    "cust3 = Customer(\"Rahul\", 22)\n",
    "cust4 = Customer(\"Sneha\", 28)\n",
    "\n",
    "# Create a collection (list) of the Customer objects\n",
    "customers = [cust1, cust2, cust3, cust4]\n",
    "\n",
    "# Loop through the collection and print each customer's name and age\n",
    "for customer in customers:\n",
    "    print(f\"Name: {customer.name}, Age: {customer.age}\")"
   ]
  },
  {
   "cell_type": "code",
   "execution_count": 165,
   "id": "0f7074f9-0b69-43c4-b08c-01e3d6e215a6",
   "metadata": {},
   "outputs": [
    {
     "name": "stdout",
     "output_type": "stream",
     "text": [
      "Hello, my name is Ankita and I am 25 years old.\n",
      "Hello, my name is Nitish and I am 30 years old.\n",
      "Hello, my name is Rahul and I am 22 years old.\n",
      "Hello, my name is Sneha and I am 28 years old.\n"
     ]
    }
   ],
   "source": [
    "class Customer:\n",
    "    def __init__(self, name, age):\n",
    "        self.name = name\n",
    "        self.age = age\n",
    "\n",
    "    # Define the intro method\n",
    "    def intro(self):\n",
    "        print(f\"Hello, my name is {self.name} and I am {self.age} years old.\")\n",
    "\n",
    "# Create individual Customer objects\n",
    "cust1 = Customer(\"Ankita\", 25)\n",
    "cust2 = Customer(\"Nitish\", 30)\n",
    "cust3 = Customer(\"Rahul\", 22)\n",
    "cust4 = Customer(\"Sneha\", 28)\n",
    "\n",
    "# Create a collection (list) of the Customer objects\n",
    "customers = [cust1, cust2, cust3, cust4]\n",
    "\n",
    "# Loop through the collection and call the intro method for each customer\n",
    "for customer in customers:\n",
    "    customer.intro()"
   ]
  },
  {
   "cell_type": "code",
   "execution_count": 171,
   "id": "150a9a9e-0408-4312-9e27-86f001afc94f",
   "metadata": {},
   "outputs": [
    {
     "name": "stdout",
     "output_type": "stream",
     "text": [
      "Serial No: 1 | Hello, my name is Ankita and I am 25 years old.\n",
      "Serial No: 2 | Hello, my name is Nitish and I am 30 years old.\n",
      "Serial No: 3 | Hello, my name is Rahul and I am 22 years old.\n",
      "Serial No: 4 | Hello, my name is Sneha and I am 28 years old.\n"
     ]
    }
   ],
   "source": [
    "# But how do we add serial number for every customer incremental \n",
    "#we use static vars\n",
    "class Customer:\n",
    "    serial_number = 0  # Static variable to track serial numbers\n",
    "\n",
    "    def __init__(self, name, age):\n",
    "        self.name = name\n",
    "        self.age = age\n",
    "        Customer.serial_number += 1  # Increment the static serial number\n",
    "        self.serial = Customer.serial_number  # Assign current serial number\n",
    "\n",
    "    # Define the intro method\n",
    "    def intro(self):\n",
    "        print(f\"Serial No: {self.serial} | Hello, my name is {self.name} and I am {self.age} years old.\")\n",
    "\n",
    "# Create individual Customer objects\n",
    "cust1 = Customer(\"Ankita\", 25)\n",
    "cust2 = Customer(\"Nitish\", 30)\n",
    "cust3 = Customer(\"Rahul\", 22)\n",
    "cust4 = Customer(\"Sneha\", 28)\n",
    "\n",
    "# Create a collection (list) of the Customer objects\n",
    "customers = [cust1, cust2, cust3, cust4]\n",
    "\n",
    "# Loop through the collection and call the intro method for each customer\n",
    "for customer in customers:\n",
    "    customer.intro()"
   ]
  },
  {
   "cell_type": "code",
   "execution_count": 172,
   "id": "f03242d9-1c76-4754-b331-16bd41f52bdf",
   "metadata": {},
   "outputs": [
    {
     "name": "stdout",
     "output_type": "stream",
     "text": [
      "4\n",
      "4\n",
      "4\n",
      "4\n"
     ]
    }
   ],
   "source": [
    "# static variabkle is same for all objectde of same class and accessible for all objects\n",
    "for customer in customers:\n",
    "    print(customer.serial_number)"
   ]
  },
  {
   "cell_type": "code",
   "execution_count": 174,
   "id": "1921a9a2-7815-4fb4-b219-c68cb9947b68",
   "metadata": {},
   "outputs": [
    {
     "data": {
      "text/plain": [
       "4"
      ]
     },
     "execution_count": 174,
     "metadata": {},
     "output_type": "execute_result"
    }
   ],
   "source": [
    "Customer.serial_number #static vars can be accesed by that same clas w/o need of object"
   ]
  },
  {
   "cell_type": "code",
   "execution_count": 176,
   "id": "55f9250a-18cc-483b-a0ca-83cca425630d",
   "metadata": {},
   "outputs": [
    {
     "name": "stdout",
     "output_type": "stream",
     "text": [
      "Serial No: 1 | Hello, my name is Ankita and I am 25 years old.\n",
      "Serial No: 2 | Hello, my name is Nitish and I am 30 years old.\n",
      "Serial No: 3 | Hello, my name is Rahul and I am 22 years old.\n",
      "Serial No: 4 | Hello, my name is Sneha and I am 28 years old.\n"
     ]
    }
   ],
   "source": [
    "# static var can also be private\n",
    "class Customer:\n",
    "    __serial_number = 0  # Private static variable to track serial numbers\n",
    "\n",
    "    def __init__(self, name, age):\n",
    "        self.name = name\n",
    "        self.age = age\n",
    "        Customer.__serial_number += 1  # Increment the private static serial number\n",
    "        self.serial = Customer.__serial_number  # Assign current serial number\n",
    "\n",
    "    # Define the intro method\n",
    "    def intro(self):\n",
    "        print(f\"Serial No: {self.serial} | Hello, my name is {self.name} and I am {self.age} years old.\")\n",
    "\n",
    "# Create individual Customer objects\n",
    "cust1 = Customer(\"Ankita\", 25)\n",
    "cust2 = Customer(\"Nitish\", 30)\n",
    "cust3 = Customer(\"Rahul\", 22)\n",
    "cust4 = Customer(\"Sneha\", 28)\n",
    "\n",
    "# Create a collection (list) of the Customer objects\n",
    "customers = [cust1, cust2, cust3, cust4]\n",
    "\n",
    "# Loop through the collection and call the intro method for each customer\n",
    "for customer in customers:\n",
    "    customer.intro()"
   ]
  },
  {
   "cell_type": "code",
   "execution_count": 178,
   "id": "0476f279-cebe-483a-9f87-85d7720506b0",
   "metadata": {},
   "outputs": [
    {
     "name": "stdout",
     "output_type": "stream",
     "text": [
      "Serial No: 1 | Hello, my name is Ankita and I am 25 years old.\n",
      "Serial No: 2 | Hello, my name is Nitish and I am 30 years old.\n",
      "Serial No: 3 | Hello, my name is Rahul and I am 22 years old.\n",
      "Serial No: 4 | Hello, my name is Sneha and I am 28 years old.\n",
      "Current serial number counter: 4\n",
      "Counter set to: 10\n",
      "Serial No: 11 | Hello, my name is Arjun and I am 26 years old.\n"
     ]
    }
   ],
   "source": [
    "class Customer:\n",
    "    __serial_number = 0  # Private static variable to track serial numbers\n",
    "\n",
    "    def __init__(self, name, age):\n",
    "        self.name = name\n",
    "        self.age = age\n",
    "        Customer.__serial_number += 1  # Increment the private static serial number\n",
    "        self.serial = Customer.__serial_number  # Assign current serial number\n",
    "\n",
    "    @staticmethod ## VV IMPPPPPPPPPPPPPPPPPPPPPPPPPPPPPPPPPPPPPPPPPPPP *** V.V. IMPPPPPPPPPP **\n",
    "    def set_counter(value):\n",
    "        \"\"\"Sets the static serial number counter.\"\"\"\n",
    "        if value >= 0:  # Ensure the counter can't be set to a negative value\n",
    "            Customer.__serial_number = value\n",
    "\n",
    "    @staticmethod\n",
    "    def get_counter():\n",
    "        \"\"\"Returns the current static serial number counter.\"\"\"\n",
    "        return Customer.__serial_number\n",
    "\n",
    "    # Define the intro method\n",
    "    def intro(self):\n",
    "        print(f\"Serial No: {self.serial} | Hello, my name is {self.name} and I am {self.age} years old.\")\n",
    "\n",
    "# Create individual Customer objects\n",
    "cust1 = Customer(\"Ankita\", 25)\n",
    "cust2 = Customer(\"Nitish\", 30)\n",
    "cust3 = Customer(\"Rahul\", 22)\n",
    "cust4 = Customer(\"Sneha\", 28)\n",
    "\n",
    "# Create a collection (list) of the Customer objects\n",
    "customers = [cust1, cust2, cust3, cust4]\n",
    "\n",
    "# Loop through the collection and call the intro method for each customer\n",
    "for customer in customers:\n",
    "    customer.intro()\n",
    "\n",
    "# Get the current serial number counter\n",
    "current_counter = Customer.get_counter()\n",
    "print(f\"Current serial number counter: {current_counter}\")\n",
    "\n",
    "# Set the counter to a specific value (e.g., reset it)\n",
    "Customer.set_counter(10)\n",
    "print(f\"Counter set to: {Customer.get_counter()}\")\n",
    "\n",
    "# Create a new customer to see how the counter increments\n",
    "cust5 = Customer(\"Arjun\", 26)\n",
    "cust5.intro()  # This will show that the serial number is now 11"
   ]
  },
  {
   "cell_type": "code",
   "execution_count": 179,
   "id": "c2c7f647-6ce8-4bd8-a14a-73cb264555ad",
   "metadata": {},
   "outputs": [],
   "source": [
    "class Customer():\n",
    "    def __init__(self, name, gender, address):\n",
    "        self.name = name\n",
    "        self.gender = gender\n",
    "        self.address = address\n",
    "\n",
    "class Address():\n",
    "    def __init__(self, city, pincode, state):\n",
    "        self.city = city\n",
    "        self.pincode = pincode\n",
    "        self.state = state"
   ]
  },
  {
   "cell_type": "code",
   "execution_count": 180,
   "id": "8f1598e9-e270-4020-85dd-6b3c2da0956b",
   "metadata": {},
   "outputs": [],
   "source": [
    "add = Address(\"Satara\", 415003, \"MH\")\n",
    "cust = Customer(\"Atharv\", \"Male\", add)"
   ]
  },
  {
   "cell_type": "code",
   "execution_count": 182,
   "id": "efcaee93-cf89-403d-b5fe-8697d42f2d3c",
   "metadata": {},
   "outputs": [
    {
     "name": "stdout",
     "output_type": "stream",
     "text": [
      "Atharv\n",
      "Male\n",
      "<__main__.Address object at 0x0000020C8EB7BC90>\n"
     ]
    }
   ],
   "source": [
    "print(cust.name)\n",
    "print(cust.gender)\n",
    "print(cust.address) # will print id/address of 'address' bcz it is an object itself"
   ]
  },
  {
   "cell_type": "code",
   "execution_count": 183,
   "id": "180bca47-5f0f-4932-af39-343b57dedea2",
   "metadata": {},
   "outputs": [
    {
     "name": "stdout",
     "output_type": "stream",
     "text": [
      "Satara\n",
      "415003\n"
     ]
    }
   ],
   "source": [
    "print(cust.address.city)\n",
    "print(cust.address.pincode)"
   ]
  },
  {
   "cell_type": "code",
   "execution_count": 184,
   "id": "4fc15d88-9d15-4deb-96cb-abcaf191996e",
   "metadata": {},
   "outputs": [],
   "source": [
    "# So Customer and Address have 'has-a' or aggregation relationship"
   ]
  },
  {
   "cell_type": "code",
   "execution_count": 190,
   "id": "606cff68-3367-42cb-9906-69f4d60f5c14",
   "metadata": {},
   "outputs": [],
   "source": [
    "class Address:\n",
    "    def __init__(self, city, pincode, state):\n",
    "        self.city = city\n",
    "        self.pincode = pincode\n",
    "        self.state = state\n",
    "\n",
    "    def change_address(self, new_city, new_pincode, new_state):\n",
    "        self.city = new_city\n",
    "        self.pincode = new_pincode\n",
    "        self.state = new_state\n",
    "\n",
    "class Customer:\n",
    "    def __init__(self, name, gender, address):\n",
    "        self.name = name\n",
    "        self.gender = gender\n",
    "        self.address = address  # Expecting an Address object\n",
    "\n",
    "    def edit_profile(self, new_name, new_city, new_pincode, new_state): \n",
    "        self.name = new_name\n",
    "        self.address.change_address(new_city, new_pincode, new_state)\n",
    "\n",
    "    def display_profile(self):\n",
    "        print(f\"Name: {self.name}, Gender: {self.gender}, \"\n",
    "              f\"City: {self.address.city}, Pincode: {self.address.pincode}, State: {self.address.state}\")"
   ]
  },
  {
   "cell_type": "code",
   "execution_count": 191,
   "id": "7210a604-5456-4f09-b85d-79bc97e0a68c",
   "metadata": {},
   "outputs": [
    {
     "name": "stdout",
     "output_type": "stream",
     "text": [
      "Initial Profile:\n",
      "Name: Ankita, Gender: Female, City: Mumbai, Pincode: 400001, State: Maharashtra\n",
      "\n",
      "Updated Profile:\n",
      "Name: Ankita Sharma, Gender: Female, City: Pune, Pincode: 411001, State: Maharashtra\n"
     ]
    }
   ],
   "source": [
    "# Create an Address object\n",
    "initial_address = Address(\"Mumbai\", \"400001\", \"Maharashtra\")\n",
    "\n",
    "# Create a Customer object with the initial address\n",
    "customer = Customer(\"Ankita\", \"Female\", initial_address)\n",
    "\n",
    "# Display initial profile\n",
    "print(\"Initial Profile:\")\n",
    "customer.display_profile()\n",
    "\n",
    "# Edit the customer's profile\n",
    "customer.edit_profile(\"Ankita Sharma\", \"Pune\", \"411001\", \"Maharashtra\")\n",
    "\n",
    "# Display updated profile\n",
    "print(\"\\nUpdated Profile:\")\n",
    "customer.display_profile()"
   ]
  },
  {
   "cell_type": "markdown",
   "id": "4b5bab7c-a444-4a8d-81c4-4d899a2839c6",
   "metadata": {},
   "source": [
    "### Online Learning Platform Overview\n",
    "\n",
    "In an online learning platform, there are two types of users: **Students** and **Instructors**.\n",
    "\n",
    "#### Students:\n",
    "- **Login**: Secure access to their account.\n",
    "- **Register**: Sign up with their details to become a student.\n",
    "- **Enroll in Courses**: Explore and enroll in various courses of interest.\n",
    "- **Review Courses**: Provide feedback and ratings after completing courses to help future students.\n",
    "\n",
    "#### Instructors:\n",
    "- **Login**: Access to an instructor dashboard.\n",
    "- **Register**: Create a profile to establish teaching credentials.\n",
    "- **Create Courses**: Design and publish courses with structured content.\n",
    "- **Answer Doubts**: Interact with students by responding to questions and providing support.\n",
    "\n",
    "### Conclusion\n",
    "This structure allows students to learn and review, while instructors can create and manage courses, fostering a dynamic learning environment without redundancy in functionalities.\n",
    "\n",
    "### Online Learning Platform with Inheritance\r\n",
    "\r\n",
    "In the online learning platform, we can implement the functionalities for **Students** and **Instructors** using inheritance. By creating a base class for common features, we can avoid code duplication and enhance maintainability.\r\n",
    "\r\n",
    "#### Base Class: User\r\n",
    "First, we define a base class called `User`, which contains shared functionalities such as **login** and **register**:\r\n",
    "\r\n",
    "- **Login**: Secure access to the user's account.\r\n",
    "- **Register**: Sign up with details to create a user profile.\r\n",
    "\r\n",
    "#### Derived Classes:\r\n",
    "We then create two derived classes, **Student** and **Instructor**, each inheriting from the `User` class:\r\n",
    "\r\n",
    "1. **Student Class**:\r\n",
    "   - **Enroll in Courses**: Explore and enroll in various courses.\r\n",
    "   - **Review Courses**: Provide feedback and ratings after completing courses.\r\n",
    "\r\n",
    "2. **Instructor Class**:\r\n",
    "   - **Create Courses**: Design and publish new courses.\r\n",
    "   - **Answer Doubts**: Respond to student questions and provide guidance.\r\n",
    "\r\n",
    "### Implementation Overview\r\n",
    "\r\n",
    "1. **User Class**:\r\n",
    "   - Contains methods for login and registration.\r\n",
    "\r\n",
    "2. **Student Class** (inherits from User):\r\n",
    "   - Adds methods for enrolling in courses and reviewing courses.\r\n",
    "\r\n",
    "3. **Instructor Class** (inherits from User):\r\n",
    "   - Adds methods for creating courses and answering doubts.\r\n",
    "\r\n",
    "### Example Structure\r\n",
    "\r\n",
    "```plaintext\r\n",
    "class User:\r\n",
    "    - login()\r\n",
    "    - register()\r\n",
    "\r\n",
    "class Student(User):\r\n",
    "    - enroll_course()\r\n",
    "    - review_course()\r\n",
    "\r\n",
    "class Instructor(User):\r\n",
    "    - create_course()\r\n",
    "    - answer_doubts()\r\n",
    "```\r\n",
    "\r\n",
    "### Conclusion\r\n",
    "By utilizing inheritance, we can create a clean and efficient structure for the online learning platform. The base `User` class holds common functionalities, while the derived classes extend these capabilities to meet the specific needs of **Students** and **Instructors**. This approach minimizes redundancy and promotes better organization in the codebase, ensuring a seamless user experience for both students and instructors."
   ]
  },
  {
   "cell_type": "markdown",
   "id": "18d2d264-86b0-428f-9906-ab41d61881b7",
   "metadata": {},
   "source": [
    "When a parent class is inherited by a child class, the following points summarize what is inherited:\n",
    "\n",
    "### Inherited Components:\n",
    "\n",
    "1. **Data Members**:\n",
    "   - The child class inherits all **public** and **protected** data members (attributes) from the parent class. \n",
    "   - **Private** data members of the parent class are **not accessible** directly in the child class.\n",
    "\n",
    "2. **Member Functions**:\n",
    "   - The child class inherits all **public** and **protected** member functions (methods) from the parent class.\n",
    "   - **Private** member functions are also **not accessible** directly in the child class.\n",
    "\n",
    "3. **Constructors**:\n",
    "   - Constructors are **not inherited**. The child class must define its own constructor. However, it can call the parent class constructor using `super()` to initialize inherited attributes.\n",
    "\n",
    "### Important Notes:\n",
    "- **Private Members**: Any private data members or methods in the parent class are not accessible to the child class. They can only be accessed through public or protected methods of the parent class.\n",
    "- **Overriding**: The child class can override methods inherited from the parent class to provide its specific implementation.\n",
    "\n",
    "### Summary\n",
    "In summary, while a child class inherits attributes and methods from the parent class, it does not inherit private members or constructors directly. This encapsulation helps maintain the integrity and security of the parent class's internal state."
   ]
  },
  {
   "cell_type": "code",
   "execution_count": 231,
   "id": "ccacce2e-12de-4939-9f6d-12b66d0f5d25",
   "metadata": {},
   "outputs": [
    {
     "name": "stdout",
     "output_type": "stream",
     "text": [
      "100\n",
      "200\n"
     ]
    }
   ],
   "source": [
    "class Parent:\n",
    "    def __init__(self):\n",
    "        self.num = 100\n",
    "\n",
    "class Child(Parent):\n",
    "    def __init__(self):\n",
    "        super().__init__()  # Correct super() call to initialize Parent's constructor\n",
    "        self.var = 200\n",
    "\n",
    "    def show(self):\n",
    "        print(self.num) # CAN NUM(BELONGING TO PARENT CLASS CAN BE CALLED BY CHILD USING SELF ? WHAT'S SELF HERE ?\n",
    "        print(self.var)\n",
    "\n",
    "# Creating an instance of Child and calling the show method\n",
    "son = Child()\n",
    "son.show()"
   ]
  },
  {
   "cell_type": "code",
   "execution_count": 217,
   "id": "28f893d1-f594-479f-9398-fd67bc0d388b",
   "metadata": {},
   "outputs": [
    {
     "name": "stdout",
     "output_type": "stream",
     "text": [
      "Inside phone constructor\n",
      "Inside smartphone constructor\n",
      "Android\n",
      "Samsung\n"
     ]
    }
   ],
   "source": [
    "class Phone:\n",
    "    def __init__(self, price, brand, camera):\n",
    "        print(\"Inside phone constructor\")\n",
    "        self.price = price\n",
    "        self.brand = brand\n",
    "        self.camera = camera\n",
    "\n",
    "class SmartPhone(Phone):\n",
    "    def __init__(self, price, brand, camera, os, ram):\n",
    "        super().__init__(price, brand, camera)  # Call parent class constructor USE OF SUPER KEYWORD\n",
    "        self.os = os\n",
    "        self.ram = ram\n",
    "        print(\"Inside smartphone constructor\")\n",
    "\n",
    "# Creating a SmartPhone object\n",
    "sp = SmartPhone(20000, \"Samsung\", 12, \"Android\", 2)\n",
    "\n",
    "# Accessing the attributes\n",
    "print(sp.os)      # Output: Android\n",
    "print(sp.brand)   # Output: Samsung"
   ]
  },
  {
   "cell_type": "code",
   "execution_count": 218,
   "id": "e2bddb55-9bf8-4504-94cd-460dc8617164",
   "metadata": {},
   "outputs": [],
   "source": [
    "class User:\n",
    "    def __init__(self, username, password):\n",
    "        self.username = username          # Public attribute\n",
    "        self.__password = password        # Private attribute\n",
    "\n",
    "    def login(self, password):\n",
    "        if password == self.__password:\n",
    "            print(f\"{self.username} logged in successfully.\")\n",
    "        else:\n",
    "            print(\"Invalid password.\")\n",
    "\n",
    "    def register(self):\n",
    "        print(f\"{self.username} registered successfully.\")\n",
    "\n",
    "class Student(User):\n",
    "    def __init__(self, username, password):\n",
    "        super().__init__(username, password)  # Call parent constructor\n",
    "\n",
    "    def enroll_course(self, course_name):\n",
    "        print(f\"{self.username} has enrolled in {course_name}.\")\n",
    "\n",
    "    def review_course(self, course_name, rating, feedback):\n",
    "        print(f\"{self.username} reviewed {course_name} with a rating of {rating}: {feedback}\")\n",
    "\n",
    "class Instructor(User):\n",
    "    def __init__(self, username, password):\n",
    "        super().__init__(username, password)  # Call parent constructor\n",
    "\n",
    "    def create_course(self, course_name):\n",
    "        print(f\"{self.username} created the course: {course_name}.\")\n",
    "\n",
    "    def answer_doubts(self, student_name, question):\n",
    "        print(f\"{self.username} answered {student_name}'s question: {question}\")"
   ]
  },
  {
   "cell_type": "code",
   "execution_count": 219,
   "id": "60466e38-5f7a-4c6d-82e3-d1e097e5a95e",
   "metadata": {},
   "outputs": [
    {
     "name": "stdout",
     "output_type": "stream",
     "text": [
      "Ankita registered successfully.\n",
      "Ankita logged in successfully.\n",
      "Ankita has enrolled in Python Programming.\n",
      "Ankita reviewed Python Programming with a rating of 5: Great course!\n",
      "Nitish registered successfully.\n",
      "Nitish logged in successfully.\n",
      "Nitish created the course: Data Science 101.\n",
      "Nitish answered Ankita's question: What is a DataFrame?\n"
     ]
    }
   ],
   "source": [
    "# Example usage without a main block\n",
    "# Create a Student\n",
    "student1 = Student(\"Ankita\", \"password123\")\n",
    "student1.register()\n",
    "student1.login(\"password123\")  # Pass the password to log in\n",
    "student1.enroll_course(\"Python Programming\")\n",
    "student1.review_course(\"Python Programming\", 5, \"Great course!\")\n",
    "\n",
    "# Create an Instructor\n",
    "instructor1 = Instructor(\"Nitish\", \"securepassword\")\n",
    "instructor1.register()\n",
    "instructor1.login(\"securepassword\")  # Pass the password to log in\n",
    "instructor1.create_course(\"Data Science 101\")\n",
    "instructor1.answer_doubts(\"Ankita\", \"What is a DataFrame?\")"
   ]
  },
  {
   "cell_type": "code",
   "execution_count": 220,
   "id": "7db6f75b-f9fb-4975-a7d7-8ff205c794c9",
   "metadata": {},
   "outputs": [],
   "source": [
    "u1 = User(\"atharv_123\", 123)"
   ]
  },
  {
   "cell_type": "code",
   "execution_count": 221,
   "id": "9cbd9766-4f07-4256-842a-321c3f3cb02d",
   "metadata": {},
   "outputs": [
    {
     "name": "stdout",
     "output_type": "stream",
     "text": [
      "atharv_123 logged in successfully.\n"
     ]
    }
   ],
   "source": [
    "u1.login(123)"
   ]
  },
  {
   "cell_type": "code",
   "execution_count": 222,
   "id": "bbde7f78-03f3-49d8-ab34-9544645480e4",
   "metadata": {},
   "outputs": [
    {
     "ename": "AttributeError",
     "evalue": "'User' object has no attribute 'enroll_course'",
     "output_type": "error",
     "traceback": [
      "\u001b[1;31m---------------------------------------------------------------------------\u001b[0m",
      "\u001b[1;31mAttributeError\u001b[0m                            Traceback (most recent call last)",
      "Cell \u001b[1;32mIn[222], line 1\u001b[0m\n\u001b[1;32m----> 1\u001b[0m u1\u001b[38;5;241m.\u001b[39menroll_course(\u001b[38;5;124m\"\u001b[39m\u001b[38;5;124mMA102\u001b[39m\u001b[38;5;124m\"\u001b[39m)\n",
      "\u001b[1;31mAttributeError\u001b[0m: 'User' object has no attribute 'enroll_course'"
     ]
    }
   ],
   "source": [
    "u1.enroll_course(\"MA102\") # wrong\n",
    "# student1.enroll_course(\"Python Programming\") but this can be done\n",
    "# child can access all of parents public methods and attributes but parents cant access childs methods "
   ]
  },
  {
   "cell_type": "markdown",
   "id": "7469a9d8-9b9a-43e9-8d95-341e49c002a2",
   "metadata": {},
   "source": [
    "When a child class does not explicitly define its own constructor, Python automatically invokes the parent class's constructor when an instance of the child class is created. This behavior allows the child class to inherit any initialization logic defined in the parent class."
   ]
  },
  {
   "cell_type": "code",
   "execution_count": 223,
   "id": "5ff0edb4-5961-4149-aeed-2e7e92058620",
   "metadata": {},
   "outputs": [
    {
     "name": "stdout",
     "output_type": "stream",
     "text": [
      "An animal of species Canine is created.\n"
     ]
    }
   ],
   "source": [
    "class Animal:\n",
    "    def __init__(self, species):\n",
    "        self.species = species\n",
    "        print(f\"An animal of species {self.species} is created.\")\n",
    "\n",
    "class Dog(Animal):\n",
    "    pass  # No constructor defined in Dog\n",
    "\n",
    "# Creating an instance of Dog\n",
    "dog1 = Dog(\"Canine\")"
   ]
  },
  {
   "cell_type": "markdown",
   "id": "1e39b4c1-b029-4add-94f7-9395f23b783e",
   "metadata": {},
   "source": [
    "If a child class defines its own constructor, Python will not automatically call the parent class's constructor unless explicitly instructed to do so using the super() function. This means that any initialization logic defined in the parent class's constructor will be skipped unless the child class explicitly invokes it."
   ]
  },
  {
   "cell_type": "code",
   "execution_count": 224,
   "id": "2b7a8de9-731f-42e9-bcd3-c49a2c6ff36c",
   "metadata": {},
   "outputs": [
    {
     "name": "stdout",
     "output_type": "stream",
     "text": [
      "A dog named Buddy is created.\n"
     ]
    }
   ],
   "source": [
    "class Animal:\n",
    "    def __init__(self, species):\n",
    "        self.species = species\n",
    "        print(f\"An animal of species {self.species} is created.\")\n",
    "\n",
    "class Dog(Animal):\n",
    "    def __init__(self, name):\n",
    "        self.name = name\n",
    "        # Animal's constructor is not called automatically\n",
    "        print(f\"A dog named {self.name} is created.\")\n",
    "\n",
    "# Creating an instance of Dog\n",
    "dog1 = Dog(\"Buddy\")"
   ]
  },
  {
   "cell_type": "markdown",
   "id": "50e3bbc6-d6b6-4629-835a-0667356069b4",
   "metadata": {},
   "source": [
    "When the super() function is called within a child class's constructor, it explicitly invokes the parent class's constructor. This ensures that any initialization logic defined in the parent class is executed, allowing the child class to inherit and utilize that initialization as needed. Here's a detailed explanation of how this works, including examples.\n",
    "\n",
    "Behavior of super()\n",
    "Calling the Parent Constructor: When you use super().__init__(...), you are invoking the constructor of the parent class, which allows you to pass parameters to it.\n",
    "\n",
    "Combining Initialization Logic: This practice allows both the child and parent classes to have their initialization logic executed in a single instance creation, ensuring that all attributes are properly set."
   ]
  },
  {
   "cell_type": "code",
   "execution_count": 225,
   "id": "5bd916cc-76e5-453d-acfb-a8b7ee7166a2",
   "metadata": {},
   "outputs": [
    {
     "name": "stdout",
     "output_type": "stream",
     "text": [
      "A dog named Buddy is created.\n",
      "An animal of species Canine is created.\n"
     ]
    }
   ],
   "source": [
    "class Animal:\n",
    "    def __init__(self, species):\n",
    "        self.species = species\n",
    "        print(f\"An animal of species {self.species} is created.\")\n",
    "\n",
    "class Dog(Animal):\n",
    "    def __init__(self, name, species):\n",
    "        self.name = name\n",
    "        print(f\"A dog named {self.name} is created.\")\n",
    "        super().__init__(species)  # Call the parent constructor\n",
    "\n",
    "# Creating an instance of Dog\n",
    "dog1 = Dog(\"Buddy\", \"Canine\")"
   ]
  },
  {
   "cell_type": "code",
   "execution_count": 226,
   "id": "ffb4151f-3149-46b6-b7e9-df1d0259ca50",
   "metadata": {},
   "outputs": [
    {
     "name": "stdout",
     "output_type": "stream",
     "text": [
      "An animal of species Canine is created.\n",
      "A pet named Buddy is created.\n",
      "A dog named Buddy of species Canine is created.\n"
     ]
    }
   ],
   "source": [
    "class Animal:\n",
    "    def __init__(self, species):\n",
    "        self.species = species\n",
    "        print(f\"An animal of species {self.species} is created.\")\n",
    "\n",
    "class Pet:\n",
    "    def __init__(self, name):\n",
    "        self.name = name\n",
    "        print(f\"A pet named {self.name} is created.\")\n",
    "\n",
    "class Dog(Animal, Pet):\n",
    "    def __init__(self, name, species):\n",
    "        Animal.__init__(self, species)  # Explicitly call Animal's constructor\n",
    "        Pet.__init__(self, name)         # Explicitly call Pet's constructor\n",
    "        print(f\"A dog named {self.name} of species {self.species} is created.\")\n",
    "\n",
    "# Creating an instance of Dog\n",
    "dog1 = Dog(\"Buddy\", \"Canine\")"
   ]
  },
  {
   "cell_type": "code",
   "execution_count": 227,
   "id": "8808d824-f574-436a-9a9e-b3903ee8608b",
   "metadata": {},
   "outputs": [],
   "source": [
    "# In above dog inhertis from multiple classes pet and animal both "
   ]
  },
  {
   "cell_type": "code",
   "execution_count": 228,
   "id": "de716aa8-5736-4823-81e4-6651083751e1",
   "metadata": {},
   "outputs": [
    {
     "name": "stdout",
     "output_type": "stream",
     "text": [
      "You have bought a regular phone from Nokia.\n",
      "You have bought a smartphone from Apple with features: Touchscreen, Camera, Internet.\n"
     ]
    }
   ],
   "source": [
    "class Phone:\n",
    "    def __init__(self, brand):\n",
    "        self.brand = brand\n",
    "\n",
    "    def buy(self):\n",
    "        print(f\"You have bought a regular phone from {self.brand}.\")\n",
    "\n",
    "class Smartphone(Phone):\n",
    "    def __init__(self, brand, features):\n",
    "        super().__init__(brand)  # Call the parent constructor\n",
    "        self.features = features\n",
    "\n",
    "    def buy(self):\n",
    "        print(f\"You have bought a smartphone from {self.brand} with features: {', '.join(self.features)}.\")\n",
    "\n",
    "# Creating instances of Phone and Smartphone\n",
    "phone1 = Phone(\"Nokia\")\n",
    "smartphone1 = Smartphone(\"Apple\", [\"Touchscreen\", \"Camera\", \"Internet\"])\n",
    "\n",
    "# Calling the buy method on each instance\n",
    "phone1.buy()         # Calls Phone's buy method\n",
    "smartphone1.buy()    # Calls Smartphone's buy method"
   ]
  },
  {
   "cell_type": "markdown",
   "id": "c21b1851-d199-4517-9e3a-192c051646b7",
   "metadata": {},
   "source": [
    "### Method Overriding and Polymorphism\n",
    "\n",
    "**Method Overriding**:\n",
    "- Method overriding occurs when a child class provides a specific implementation of a method that is already defined in its parent class. \n",
    "- The method in the child class has the same name, return type, and parameters as the method in the parent class.\n",
    "- The child class's method is called when an instance of the child class is created, even if the reference type is of the parent class.\n",
    "\n",
    "**Polymorphism**:\n",
    "- Polymorphism is a fundamental concept in object-oriented programming that allows objects of different classes to be treated as objects of a common superclass.\n",
    "- It enables a single interface to represent different underlying forms (data types). This can be achieved through:\n",
    "  - **Method Overriding**: As seen in the example where the `buy()` method is overridden in the `Smartphone` class. \n",
    "  - **Method Overloading**: Involves defining multiple methods in the same class with the same name but different parameters (not applicable in Python in the traditional sense).\n",
    "\n",
    "### How Method Overriding Demonstrates Polymorphism\n",
    "\n",
    "1. **Single Interface**:\n",
    "   - In our example, both `Phone` and `Smartphone` have a method named `buy()`. Although they are different in behavior, they share the same interface (method name).\n",
    "   \n",
    "2. **Dynamic Method Resolution**:\n",
    "   - When we call `buy()` on a `Phone` object, it executes the `Phone` class's method. When we call `buy()` on a `Smartphone` object, it executes the `Smartphone` class's overridden method.\n",
    "   - This dynamic behavior allows the program to decide which method to invoke at runtime based on the actual object type, not the reference type.\n",
    "\n",
    "3. **Flexibility and Extensibility**:\n",
    "   - Polymorphism provides flexibility in code. New subclasses can be created, and their specific behaviors can be defined without altering existing code.\n",
    "   - This allows developers to write more generic and reusable code, facilitating maintenance and scalability.\n",
    "\n",
    "### Summary\n",
    "\n",
    "- **Method Overriding** is a key feature that enables **Polymorphism** in object-oriented programming.\n",
    "- Through polymorphism, methods can behave differently based on the object invoking them, allowing for a more flexible and dynamic code structure. This is a powerful aspect of OOP, as it promotes code reuse and makes programs easier to understand and maintain."
   ]
  },
  {
   "cell_type": "code",
   "execution_count": 229,
   "id": "82dea624-28b0-454c-a937-5130e2a281cf",
   "metadata": {},
   "outputs": [
    {
     "name": "stdout",
     "output_type": "stream",
     "text": [
      "The dog barks.\n"
     ]
    }
   ],
   "source": [
    "class Animal:\n",
    "    def speak(self):\n",
    "        print(\"The animal makes a sound.\")\n",
    "\n",
    "class Dog(Animal):\n",
    "    def speak(self):\n",
    "        print(\"The dog barks.\")\n",
    "\n",
    "# Creating an instance of Dog, but referencing it as an Animal\n",
    "my_pet = Dog()  # my_pet is an instance of Dog\n",
    "my_pet.speak()  # Calls the Dog's speak method"
   ]
  },
  {
   "cell_type": "markdown",
   "id": "5ecb57a3-70d6-4107-840e-f77347c5378a",
   "metadata": {},
   "source": [
    "The child class's method is called when an instance of the child class is created, even if the reference type is of the parent class."
   ]
  },
  {
   "cell_type": "markdown",
   "id": "9a07e255-99f7-4375-97a6-cff24c25414e",
   "metadata": {},
   "source": [
    "### 1. **Single Inheritance**:\n",
    "- A child class inherits from a single parent class.\n",
    "- Allows code reuse from the parent in the child class.\n",
    "- Example: `class Child(Parent)` where `Child` inherits attributes and methods of `Parent`.\n",
    "---"
   ]
  },
  {
   "cell_type": "code",
   "execution_count": 234,
   "id": "2b212dde-6bd7-493a-b970-906dfcd580c6",
   "metadata": {},
   "outputs": [
    {
     "name": "stdout",
     "output_type": "stream",
     "text": [
      "This is the Parent class.\n",
      "This is the Child class.\n"
     ]
    }
   ],
   "source": [
    "class Parent:\n",
    "    def show_parent(self):\n",
    "        print(\"This is the Parent class.\")\n",
    "\n",
    "class Child(Parent):  # Single Inheritance\n",
    "    def show_child(self):\n",
    "        print(\"This is the Child class.\")\n",
    "\n",
    "# Example usage:\n",
    "c = Child()\n",
    "c.show_parent()\n",
    "c.show_child()"
   ]
  },
  {
   "cell_type": "markdown",
   "id": "c8fd87b7-5dc2-48f1-b043-feeb19577462",
   "metadata": {},
   "source": [
    "### 2. **Multi-level Inheritance**:\n",
    "- Involves a chain of inheritance, where a class inherits from another class, which itself is inherited from another class.\n",
    "- Example: `class Grandchild(Parent)` where `Parent` inherits from `Grandparent`, forming a multi-level hierarchy.\n",
    "---"
   ]
  },
  {
   "cell_type": "code",
   "execution_count": 235,
   "id": "a1a387a6-ccb5-48f2-874e-287191731805",
   "metadata": {},
   "outputs": [
    {
     "name": "stdout",
     "output_type": "stream",
     "text": [
      "This is the Grandparent class.\n",
      "This is the Parent class.\n",
      "This is the Child class.\n"
     ]
    }
   ],
   "source": [
    "class Grandparent:\n",
    "    def show_grandparent(self):\n",
    "        print(\"This is the Grandparent class.\")\n",
    "\n",
    "class Parent(Grandparent):  # Inherits from Grandparent\n",
    "    def show_parent(self):\n",
    "        print(\"This is the Parent class.\")\n",
    "\n",
    "class Child(Parent):  # Inherits from Parent (multi-level)\n",
    "    def show_child(self):\n",
    "        print(\"This is the Child class.\")\n",
    "\n",
    "# Example usage:\n",
    "c = Child()\n",
    "c.show_grandparent()\n",
    "c.show_parent()\n",
    "c.show_child()"
   ]
  },
  {
   "cell_type": "markdown",
   "id": "e6c52d00-25ef-4176-b70d-bad4c00ba6c1",
   "metadata": {},
   "source": [
    "### 3. **Hierarchical Inheritance**:\n",
    "- Multiple child classes inherit from the same parent class.\n",
    "- Useful for defining shared behavior across different child classes.\n",
    "- Example: `class Child1(Parent)` and `class Child2(Parent)` where both children share methods and attributes of the parent.\n",
    "---"
   ]
  },
  {
   "cell_type": "code",
   "execution_count": 236,
   "id": "abd9963d-0ed9-4510-b222-3f50b3bedd69",
   "metadata": {},
   "outputs": [
    {
     "name": "stdout",
     "output_type": "stream",
     "text": [
      "This is the Parent class.\n",
      "This is Child 1.\n",
      "This is the Parent class.\n",
      "This is Child 2.\n"
     ]
    }
   ],
   "source": [
    "class Parent:\n",
    "    def show_parent(self):\n",
    "        print(\"This is the Parent class.\")\n",
    "\n",
    "class Child1(Parent):  # Child 1 inherits from Parent\n",
    "    def show_child1(self):\n",
    "        print(\"This is Child 1.\")\n",
    "\n",
    "class Child2(Parent):  # Child 2 inherits from Parent\n",
    "    def show_child2(self):\n",
    "        print(\"This is Child 2.\")\n",
    "\n",
    "# Example usage:\n",
    "c1 = Child1()\n",
    "c2 = Child2()\n",
    "\n",
    "c1.show_parent()\n",
    "c1.show_child1()\n",
    "\n",
    "c2.show_parent()\n",
    "c2.show_child2()"
   ]
  },
  {
   "cell_type": "markdown",
   "id": "540685eb-4d62-49a1-b7b5-558ede9e43dd",
   "metadata": {},
   "source": [
    "### 4. **Multiple Inheritance**:\n",
    "- A child class inherits from two or more parent classes.\n",
    "- Allows the child to access features of all the parent classes.\n",
    "- Example: `class Child(Parent1, Parent2)` where `Child` inherits from both `Parent1` and `Parent2`."
   ]
  },
  {
   "cell_type": "code",
   "execution_count": 237,
   "id": "7808cc2e-fcd8-4730-9be8-6466a433bb9f",
   "metadata": {},
   "outputs": [
    {
     "name": "stdout",
     "output_type": "stream",
     "text": [
      "This is Parent 1.\n",
      "This is Parent 2.\n",
      "This is the Child class.\n"
     ]
    }
   ],
   "source": [
    "class Parent1:\n",
    "    def show_parent1(self):\n",
    "        print(\"This is Parent 1.\")\n",
    "\n",
    "class Parent2:\n",
    "    def show_parent2(self):\n",
    "        print(\"This is Parent 2.\")\n",
    "\n",
    "class Child(Parent1, Parent2):  # Inherits from both Parent1 and Parent2\n",
    "    def show_child(self):\n",
    "        print(\"This is the Child class.\")\n",
    "\n",
    "# Example usage:\n",
    "c = Child()\n",
    "c.show_parent1()\n",
    "c.show_parent2()\n",
    "c.show_child()"
   ]
  },
  {
   "cell_type": "code",
   "execution_count": 244,
   "id": "497afc04-8d2a-434e-9e52-dff520701ef1",
   "metadata": {},
   "outputs": [
    {
     "name": "stdout",
     "output_type": "stream",
     "text": [
      "10\n"
     ]
    },
    {
     "ename": "AttributeError",
     "evalue": "'A' object has no attribute 'm2'",
     "output_type": "error",
     "traceback": [
      "\u001b[1;31m---------------------------------------------------------------------------\u001b[0m",
      "\u001b[1;31mAttributeError\u001b[0m                            Traceback (most recent call last)",
      "Cell \u001b[1;32mIn[244], line 23\u001b[0m\n\u001b[0;32m     21\u001b[0m \u001b[38;5;66;03m# Printing the result of the method calls\u001b[39;00m\n\u001b[0;32m     22\u001b[0m \u001b[38;5;28mprint\u001b[39m(obj1\u001b[38;5;241m.\u001b[39mm1()) \n\u001b[1;32m---> 23\u001b[0m \u001b[38;5;28mprint\u001b[39m(obj1\u001b[38;5;241m.\u001b[39mm2())\n",
      "\u001b[1;31mAttributeError\u001b[0m: 'A' object has no attribute 'm2'"
     ]
    }
   ],
   "source": [
    "class A:\n",
    "    def m1(self):\n",
    "        return 10\n",
    "\n",
    "class B(A):\n",
    "    def m1(self):\n",
    "        return 30\n",
    "\n",
    "    def m2(self):\n",
    "        return 40\n",
    "\n",
    "class C(B):\n",
    "    def m2(self):\n",
    "        return 20\n",
    "\n",
    "# Creating instances of each class\n",
    "obj1 = A()\n",
    "obj2 = B()\n",
    "obj3 = C()\n",
    "\n",
    "# Printing the result of the method calls\n",
    "print(obj1.m1()) \n",
    "print(obj1.m2())"
   ]
  },
  {
   "cell_type": "code",
   "execution_count": 245,
   "id": "4ed4be08-6cd3-415e-8337-b4fc40f3b6cf",
   "metadata": {},
   "outputs": [
    {
     "name": "stdout",
     "output_type": "stream",
     "text": [
      "30\n",
      "40\n"
     ]
    }
   ],
   "source": [
    "print(obj2.m1())\n",
    "print(obj2.m2())"
   ]
  },
  {
   "cell_type": "code",
   "execution_count": 246,
   "id": "11a3a40a-7291-44ea-a26d-02cc7b17f8c9",
   "metadata": {},
   "outputs": [
    {
     "name": "stdout",
     "output_type": "stream",
     "text": [
      "30\n",
      "20\n"
     ]
    }
   ],
   "source": [
    "print(obj3.m1())\n",
    "print(obj3.m2())"
   ]
  },
  {
   "cell_type": "code",
   "execution_count": 250,
   "id": "e0750334-b99f-4ed4-8941-20966348a69f",
   "metadata": {},
   "outputs": [
    {
     "ename": "RecursionError",
     "evalue": "maximum recursion depth exceeded",
     "output_type": "error",
     "traceback": [
      "\u001b[1;31m---------------------------------------------------------------------------\u001b[0m",
      "\u001b[1;31mRecursionError\u001b[0m                            Traceback (most recent call last)",
      "Cell \u001b[1;32mIn[250], line 19\u001b[0m\n\u001b[0;32m     16\u001b[0m obj \u001b[38;5;241m=\u001b[39m C()\n\u001b[0;32m     18\u001b[0m \u001b[38;5;66;03m# Printing the result of calling m1() from the C object\u001b[39;00m\n\u001b[1;32m---> 19\u001b[0m \u001b[38;5;28mprint\u001b[39m(obj\u001b[38;5;241m.\u001b[39mm1())\n",
      "Cell \u001b[1;32mIn[250], line 12\u001b[0m, in \u001b[0;36mC.m1\u001b[1;34m(self)\u001b[0m\n\u001b[0;32m     11\u001b[0m \u001b[38;5;28;01mdef\u001b[39;00m \u001b[38;5;21mm1\u001b[39m(\u001b[38;5;28mself\u001b[39m):\n\u001b[1;32m---> 12\u001b[0m     val \u001b[38;5;241m=\u001b[39m \u001b[38;5;28mself\u001b[39m\u001b[38;5;241m.\u001b[39mm1() \u001b[38;5;241m+\u001b[39m \u001b[38;5;241m20\u001b[39m  \u001b[38;5;66;03m# Call m1() from class B and add 20\u001b[39;00m\n\u001b[0;32m     13\u001b[0m     \u001b[38;5;28;01mreturn\u001b[39;00m val\n",
      "Cell \u001b[1;32mIn[250], line 12\u001b[0m, in \u001b[0;36mC.m1\u001b[1;34m(self)\u001b[0m\n\u001b[0;32m     11\u001b[0m \u001b[38;5;28;01mdef\u001b[39;00m \u001b[38;5;21mm1\u001b[39m(\u001b[38;5;28mself\u001b[39m):\n\u001b[1;32m---> 12\u001b[0m     val \u001b[38;5;241m=\u001b[39m \u001b[38;5;28mself\u001b[39m\u001b[38;5;241m.\u001b[39mm1() \u001b[38;5;241m+\u001b[39m \u001b[38;5;241m20\u001b[39m  \u001b[38;5;66;03m# Call m1() from class B and add 20\u001b[39;00m\n\u001b[0;32m     13\u001b[0m     \u001b[38;5;28;01mreturn\u001b[39;00m val\n",
      "    \u001b[1;31m[... skipping similar frames: C.m1 at line 12 (2970 times)]\u001b[0m\n",
      "Cell \u001b[1;32mIn[250], line 12\u001b[0m, in \u001b[0;36mC.m1\u001b[1;34m(self)\u001b[0m\n\u001b[0;32m     11\u001b[0m \u001b[38;5;28;01mdef\u001b[39;00m \u001b[38;5;21mm1\u001b[39m(\u001b[38;5;28mself\u001b[39m):\n\u001b[1;32m---> 12\u001b[0m     val \u001b[38;5;241m=\u001b[39m \u001b[38;5;28mself\u001b[39m\u001b[38;5;241m.\u001b[39mm1() \u001b[38;5;241m+\u001b[39m \u001b[38;5;241m20\u001b[39m  \u001b[38;5;66;03m# Call m1() from class B and add 20\u001b[39;00m\n\u001b[0;32m     13\u001b[0m     \u001b[38;5;28;01mreturn\u001b[39;00m val\n",
      "\u001b[1;31mRecursionError\u001b[0m: maximum recursion depth exceeded"
     ]
    }
   ],
   "source": [
    "class A:\n",
    "    def m1(self):\n",
    "        return 20\n",
    "\n",
    "class B(A):\n",
    "    def m1(self):\n",
    "        val = super().m1() + 30  # Call m1() from class A and add 30\n",
    "        return val\n",
    "\n",
    "class C(B):\n",
    "    def m1(self):\n",
    "        val = self.m1() + 20  # Call m1() from class B and add 20\n",
    "        return val\n",
    "\n",
    "# Creating an instance of class C\n",
    "obj = C()\n",
    "\n",
    "# Printing the result of calling m1() from the C object\n",
    "print(obj.m1())"
   ]
  },
  {
   "cell_type": "code",
   "execution_count": null,
   "id": "f7fc6e98-9a34-403b-9a15-166b39d4642b",
   "metadata": {},
   "outputs": [],
   "source": [
    "# see why above infinite recursion is there ? what is self there?"
   ]
  },
  {
   "cell_type": "code",
   "execution_count": 254,
   "id": "d3345126-cbb8-4e4e-813e-6eb9bb7c9d1c",
   "metadata": {},
   "outputs": [
    {
     "ename": "TypeError",
     "evalue": "Geometry.area() missing 1 required positional argument: 'b'",
     "output_type": "error",
     "traceback": [
      "\u001b[1;31m---------------------------------------------------------------------------\u001b[0m",
      "\u001b[1;31mTypeError\u001b[0m                                 Traceback (most recent call last)",
      "Cell \u001b[1;32mIn[254], line 8\u001b[0m\n\u001b[0;32m      5\u001b[0m         \u001b[38;5;28;01mreturn\u001b[39;00m l \u001b[38;5;241m*\u001b[39m b\n\u001b[0;32m      7\u001b[0m obj \u001b[38;5;241m=\u001b[39m Geometry()\n\u001b[1;32m----> 8\u001b[0m \u001b[38;5;28mprint\u001b[39m(obj\u001b[38;5;241m.\u001b[39marea(\u001b[38;5;241m4\u001b[39m))\n",
      "\u001b[1;31mTypeError\u001b[0m: Geometry.area() missing 1 required positional argument: 'b'"
     ]
    }
   ],
   "source": [
    "class Geometry:\n",
    "    def area(self, radius):\n",
    "        return 3.14 * radius * radius\n",
    "    def area(self, l, b):\n",
    "        return l * b\n",
    "\n",
    "obj = Geometry()\n",
    "print(obj.area(4))\n",
    "# This will result in an error because the second area method overwrites the first one due to Python's method overriding mechanism. \n",
    "# But this is correct code in JAVA"
   ]
  },
  {
   "cell_type": "code",
   "execution_count": 258,
   "id": "8bf8ead1-ea56-451f-8197-3804eb9a4a4d",
   "metadata": {},
   "outputs": [
    {
     "name": "stdout",
     "output_type": "stream",
     "text": [
      "28.259999999999998\n",
      "12\n"
     ]
    }
   ],
   "source": [
    "# Solution to implement over-loading\n",
    "class Geometry:\n",
    "    def area(self, a, b=0):\n",
    "        if b==0:\n",
    "            return 3.14*a*a\n",
    "        else:\n",
    "            return a*b\n",
    "\n",
    "obj = Geometry()\n",
    "print(obj.area(3))\n",
    "print(obj.area(3, 4))"
   ]
  },
  {
   "cell_type": "code",
   "execution_count": 260,
   "id": "97131c30-4930-4bdc-ac7d-3247c31aa448",
   "metadata": {},
   "outputs": [
    {
     "name": "stdout",
     "output_type": "stream",
     "text": [
      "5/6\n"
     ]
    }
   ],
   "source": [
    "# Implementing operator overloading: implementing another behaviour using existing operator \n",
    "class Fraction:\n",
    "    def __init__(self, numerator, denominator):\n",
    "        self.numerator = numerator\n",
    "        self.denominator = denominator\n",
    "\n",
    "    def __add__(self, other):\n",
    "        new_numerator = self.numerator * other.denominator + other.numerator * self.denominator\n",
    "        new_denominator = self.denominator * other.denominator\n",
    "        return Fraction(new_numerator, new_denominator)\n",
    "\n",
    "    def __str__(self):\n",
    "        return f\"{self.numerator}/{self.denominator}\"\n",
    "\n",
    "# Example usage\n",
    "f1 = Fraction(1, 2)\n",
    "f2 = Fraction(1, 3)\n",
    "result = f1 + f2\n",
    "print(result)  # Output: 5/6"
   ]
  },
  {
   "cell_type": "code",
   "execution_count": null,
   "id": "90052167-158a-43c2-8617-23764ea8fb60",
   "metadata": {},
   "outputs": [],
   "source": []
  }
 ],
 "metadata": {
  "kernelspec": {
   "display_name": "Python 3 (ipykernel)",
   "language": "python",
   "name": "python3"
  },
  "language_info": {
   "codemirror_mode": {
    "name": "ipython",
    "version": 3
   },
   "file_extension": ".py",
   "mimetype": "text/x-python",
   "name": "python",
   "nbconvert_exporter": "python",
   "pygments_lexer": "ipython3",
   "version": "3.11.7"
  }
 },
 "nbformat": 4,
 "nbformat_minor": 5
}
