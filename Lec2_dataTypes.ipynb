{
 "cells": [
  {
   "cell_type": "markdown",
   "id": "02aab170-43e6-4072-8b4f-bb90b9a1a042",
   "metadata": {},
   "source": [
    "### Python Data Types\r\n",
    "\r\n",
    "#### 1. **Basic Data Types:**\r\n",
    "   - **Integer (`int`)**: Represents whole numbers (e.g., `10`, `-5`).\r\n",
    "   - **Float (`float`)**: Represents numbers with decimal points (e.g., `3.14`, `-2.0`).\r\n",
    "   - **Complex (`complex`)**: Represents complex numbers with real and imaginary parts (e.g., `3+5j`).\r\n",
    "   - **Boolean (`bool`)**: Represents `True` or `False`.\r\n",
    "   - **String (`str`)**: Represents sequences of characters (e.g., `\"Hello\"`, `'Python'`).\r\n",
    "\r\n",
    "#### 2. **Container Data Types:**\r\n",
    "   - **List (`list`)**: Ordered, mutable collection of items (e.g., `[1, 2, 3]`).\r\n",
    "   - **Tuple (`tuple`)**: Ordered, immutable collection of items (e.g., `(1, 2, 3)`).\r\n",
    "   - **Set (`set`)**: Unordered collection of unique items (e.g., `{1, 2, 3}`).\r\n",
    "   - **Dictionary (`dict`)**: Unordered collection of key-value pairs (e.g., `{\"name\": \"Atharv\", \"age\": 21}`).\r\n",
    "\r\n",
    "#### 3. **User-Defined Data Types:**\r\n",
    "   - **Class**: Custom data types created by the user using the `class` keyword to define objects with specific attribus and methods.\r\n",
    "\r\n"
   ]
  },
  {
   "cell_type": "code",
   "execution_count": 10,
   "id": "ef4592b4-fb77-42ca-b72c-c3840ca16d7c",
   "metadata": {},
   "outputs": [
    {
     "name": "stdout",
     "output_type": "stream",
     "text": [
      "4\n",
      "2938245742987298723897239857238239895729856298562498562494858\n",
      "1e+308\n",
      "inf\n"
     ]
    }
   ],
   "source": [
    "#Integer\n",
    "print(4)\n",
    "print(2938245742987298723897239857238239895729856298562498562494858)\n",
    "print(1e308)\n",
    "print(1e309) #max number possible to print in python"
   ]
  },
  {
   "cell_type": "code",
   "execution_count": 11,
   "id": "39e41a84-30a8-4163-8270-feb1df30eea8",
   "metadata": {},
   "outputs": [
    {
     "name": "stdout",
     "output_type": "stream",
     "text": [
      "4.5\n",
      "1.7e+308\n",
      "inf\n"
     ]
    }
   ],
   "source": [
    "#Float\n",
    "print(4.5)\n",
    "print(1.7e308)\n",
    "print(1.7e309)"
   ]
  },
  {
   "cell_type": "code",
   "execution_count": 12,
   "id": "cee49a9f-5419-4363-b099-bf682c74aa07",
   "metadata": {},
   "outputs": [
    {
     "name": "stdout",
     "output_type": "stream",
     "text": [
      "(4+5j)\n"
     ]
    }
   ],
   "source": [
    "#Complex\n",
    "print(4 + 5j)"
   ]
  },
  {
   "cell_type": "code",
   "execution_count": 15,
   "id": "41dee249-976f-4348-ba1e-4dbfb74a4a88",
   "metadata": {},
   "outputs": [
    {
     "name": "stdout",
     "output_type": "stream",
     "text": [
      "True\n",
      "False\n"
     ]
    }
   ],
   "source": [
    "#Boolean\n",
    "print(True)\n",
    "print(False)"
   ]
  },
  {
   "cell_type": "code",
   "execution_count": 17,
   "id": "d0905512-2ead-42da-b8da-c8117c25e50f",
   "metadata": {},
   "outputs": [
    {
     "name": "stdout",
     "output_type": "stream",
     "text": [
      "atharv\n",
      "atharv\n",
      "atharv\n"
     ]
    }
   ],
   "source": [
    "#String\n",
    "print('atharv')\n",
    "print(\"atharv\")\n",
    "print(\"\"\"atharv\"\"\")"
   ]
  },
  {
   "cell_type": "code",
   "execution_count": 19,
   "id": "bfbcde5d-bdc3-4caf-ba2e-877b92205560",
   "metadata": {},
   "outputs": [
    {
     "name": "stdout",
     "output_type": "stream",
     "text": [
      "[1, 2, 3, 4, 5]\n"
     ]
    }
   ],
   "source": [
    "#List\n",
    "print([1, 2, 3, 4, 5])"
   ]
  },
  {
   "cell_type": "code",
   "execution_count": 20,
   "id": "10381fe7-29ff-4ce9-bd94-1fefa48efba0",
   "metadata": {},
   "outputs": [
    {
     "name": "stdout",
     "output_type": "stream",
     "text": [
      "(1, 2, 3, 4, 5)\n"
     ]
    }
   ],
   "source": [
    "#Tuple\n",
    "print((1,2,3,4,5))"
   ]
  },
  {
   "cell_type": "code",
   "execution_count": 21,
   "id": "18de8ad7-84ee-467c-ad10-0143b94167c3",
   "metadata": {},
   "outputs": [
    {
     "name": "stdout",
     "output_type": "stream",
     "text": [
      "{1, 2, 3, 4, 5}\n"
     ]
    }
   ],
   "source": [
    "#sets\n",
    "print({1,2,3,4,5})"
   ]
  },
  {
   "cell_type": "code",
   "execution_count": 23,
   "id": "9174f4f8-1d58-44e7-b6a0-430cec9aea1f",
   "metadata": {},
   "outputs": [
    {
     "name": "stdout",
     "output_type": "stream",
     "text": [
      "{'Atharv': '1', 'Age': 30, 'gender': 'male', 7: 'Thala'}\n"
     ]
    }
   ],
   "source": [
    "#Dictionary\n",
    "print(\n",
    "    {\n",
    "        \"Atharv\" : \"1\",\n",
    "        \"Age\" : 30,\n",
    "        \"gender\" : \"male\",\n",
    "        7 : \"Thala\"\n",
    "    }\n",
    ")"
   ]
  },
  {
   "cell_type": "code",
   "execution_count": null,
   "id": "3f45a2d0-ede8-40d2-a314-057c873e9627",
   "metadata": {},
   "outputs": [],
   "source": []
  }
 ],
 "metadata": {
  "kernelspec": {
   "display_name": "Python 3 (ipykernel)",
   "language": "python",
   "name": "python3"
  },
  "language_info": {
   "codemirror_mode": {
    "name": "ipython",
    "version": 3
   },
   "file_extension": ".py",
   "mimetype": "text/x-python",
   "name": "python",
   "nbconvert_exporter": "python",
   "pygments_lexer": "ipython3",
   "version": "3.11.7"
  }
 },
 "nbformat": 4,
 "nbformat_minor": 5
}
