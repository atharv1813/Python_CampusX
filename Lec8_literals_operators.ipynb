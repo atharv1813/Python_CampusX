{
 "cells": [
  {
   "cell_type": "markdown",
   "id": "d19ba816-4277-4fdf-87f8-25757c55fb2c",
   "metadata": {},
   "source": [
    "### **Literals in Python**\n",
    "\n",
    "Literals represent fixed values in Python that are directly written in the code. These values can be of various types:\n",
    "\n",
    "#### **Types of Literals:**\n",
    "\n",
    "1. **String Literals**:\n",
    "   - Enclosed in single (`' '`) or double quotes (`\" \"`).\n",
    "   - **Multiline strings**: Enclosed in triple quotes (`'''` or `\"\"\"`), allowing the string to span multiple lines.\n",
    "   \n",
    "2. **Numeric Literals**:\n",
    "   - **Integer**: Whole numbers (e.g., `10`, `-5`).\n",
    "   - **Float**: Decimal point numbers (e.g., `3.14`, `-0.01`).\n",
    "   - **Complex**: Numbers in the form of `a + bj` where `a` is the real part and `b` is the imaginary part (e.g., `2 + 3j`).\n",
    "\n",
    "3. **Boolean Literals**:\n",
    "   - Represent logical values: `True` and `False`.\n",
    "\n",
    "4. **Special Literal**:\n",
    "   - **None**: Represents the absence of a value or a null value.\n",
    "\n",
    "5. **Collection Literals**:\n",
    "   - **List**: Ordered collection of items in square brackets (e.g., `[1, 2, 3]`).\n",
    "   - **Tuple**: Ordered and immutable collection in parentheses (e.g., `(1, 2, 3)`).\n",
    "   - **Dictionary**: Key-value pairs in curly braces (e.g., `{\"name\": \"Atharv\", \"age\": 30}`).\n",
    "   - **Set**: Unordered collection of unique items in curly braces (e.g., `{1, 2, 3}`).\n",
    "\n",
    "#### **Special String Literals:**\n",
    "- **Unicode Literal**: Strings containing Unicode characters. In Python 3, all strings are Unicode by default.\n",
    "- **Raw String Literal**: Prefixed with `r` or `R`, it treats backslashes (`\\`) as literal characters, preventing escape sequence interpretation.\n",
    "\n",
    "### **Summary**:\n",
    "- Python literals include string, numeric, boolean, special (`None`), and collection types.\n",
    "- Special string literals include multiline, Unicode, and raw string formats."
   ]
  },
  {
   "cell_type": "code",
   "execution_count": 5,
   "id": "04cda0dc-a049-4f1f-913e-00e7b12ff330",
   "metadata": {},
   "outputs": [
    {
     "name": "stdout",
     "output_type": "stream",
     "text": [
      "String Literals:\n",
      "Hello, World!\n",
      "Python is fun!\n",
      "This is a \n",
      "multiline string in Python.\n",
      "Unicode: ☂\n",
      "Raw string: C:\\new_folder\n"
     ]
    }
   ],
   "source": [
    "# 1. String Literals\n",
    "single_line_str = 'Hello, World!'       # Single-quoted string\n",
    "double_line_str = \"Python is fun!\"      # Double-quoted string\n",
    "multiline_str = '''This is a \n",
    "multiline string in Python.'''          # Multiline string with triple quotes\n",
    "unicode_str = \"Unicode: \\u2602\"         # Unicode string (umbrella symbol ☂)\n",
    "raw_str = r\"Raw string: C:\\new_folder\"  # Raw string to treat backslashes literally\n",
    "\n",
    "# Output all examples\n",
    "print(\"String Literals:\")\n",
    "print(single_line_str)\n",
    "print(double_line_str)\n",
    "print(multiline_str)\n",
    "print(unicode_str)\n",
    "print(raw_str)"
   ]
  },
  {
   "cell_type": "code",
   "execution_count": 6,
   "id": "fd082582-85c8-4655-816c-75ea8e7e8c08",
   "metadata": {},
   "outputs": [
    {
     "name": "stdout",
     "output_type": "stream",
     "text": [
      "\n",
      "Numeric Literals:\n",
      "Integer: 10\n",
      "Float: 3.14\n",
      "Complex: (2+3j)\n"
     ]
    }
   ],
   "source": [
    "# 2. Numeric Literals\n",
    "int_literal = 10                        # Integer literal\n",
    "float_literal = 3.14                    # Float literal\n",
    "complex_literal = 2 + 3j                # Complex number literal\n",
    "\n",
    "print(\"\\nNumeric Literals:\")\n",
    "print(\"Integer:\", int_literal)\n",
    "print(\"Float:\", float_literal)\n",
    "print(\"Complex:\", complex_literal)"
   ]
  },
  {
   "cell_type": "code",
   "execution_count": 8,
   "id": "b9511c11-4271-4b67-bb60-e82ca77895b1",
   "metadata": {},
   "outputs": [
    {
     "name": "stdout",
     "output_type": "stream",
     "text": [
      "\n",
      "Boolean Literals:\n",
      "True: True\n",
      "False: False\n",
      "\n",
      "Special Literal:\n",
      "None: None\n"
     ]
    }
   ],
   "source": [
    "# 3. Boolean Literals\n",
    "bool_true = True                        # Boolean True\n",
    "bool_false = False                      # Boolean False\n",
    "\n",
    "# 4. Special Literal\n",
    "none_literal = None                     # None literal representing null value\n",
    "\n",
    "\n",
    "print(\"\\nBoolean Literals:\")\n",
    "print(\"True:\", bool_true)\n",
    "print(\"False:\", bool_false)\n",
    "\n",
    "print(\"\\nSpecial Literal:\")\n",
    "print(\"None:\", none_literal)"
   ]
  },
  {
   "cell_type": "code",
   "execution_count": 9,
   "id": "126d5a24-15fd-4e07-b879-b6a7aa14343a",
   "metadata": {},
   "outputs": [
    {
     "name": "stdout",
     "output_type": "stream",
     "text": [
      "\n",
      "Collection Literals:\n",
      "List: [1, 2, 3, 4]\n",
      "Tuple: (1, 2, 3, 4)\n",
      "Dictionary: {'name': 'Atharv', 'age': 30}\n",
      "Set: {1, 2, 3, 4}\n"
     ]
    }
   ],
   "source": [
    "# 5. Collection Literals\n",
    "list_literal = [1, 2, 3, 4]             # List literal\n",
    "tuple_literal = (1, 2, 3, 4)            # Tuple literal\n",
    "dict_literal = {\"name\": \"Atharv\", \"age\": 30}  # Dictionary literal\n",
    "set_literal = {1, 2, 3, 4}              # Set literal\n",
    "\n",
    "print(\"\\nCollection Literals:\")\n",
    "print(\"List:\", list_literal)\n",
    "print(\"Tuple:\", tuple_literal)\n",
    "print(\"Dictionary:\", dict_literal)\n",
    "print(\"Set:\", set_literal)"
   ]
  },
  {
   "cell_type": "markdown",
   "id": "2cfc0354-49e3-42c9-9e71-7da1d100d210",
   "metadata": {},
   "source": [
    "### **Operators in Python**\n",
    "\n",
    "Operators in Python are special symbols used to perform operations on variables and values. Python supports various types of operators:\n",
    "\n",
    "#### **1. Arithmetic Operators**:\n",
    "- **Addition** (`+`): Adds two operands.\n",
    "- **Subtraction** (`-`): Subtracts the second operand from the first.\n",
    "- **Multiplication** (`*`): Multiplies two operands.\n",
    "- **Division** (`/`): Divides the first operand by the second (result is a float).\n",
    "- **Floor Division** (`//`): Divides and returns the integer quotient.\n",
    "- **Modulus** (`%`): Returns the remainder of the division.\n",
    "- **Exponentiation** (`**`): Raises the first operand to the power of the second.\n",
    "\n",
    "#### **2. Comparison Operators**:\n",
    "- **Equal** (`==`): Checks if two operands are equal.\n",
    "- **Not Equal** (`!=`): Checks if two operands are not equal.\n",
    "- **Greater Than** (`>`): Checks if the first operand is greater than the second.\n",
    "- **Less Than** (`<`): Checks if the first operand is less than the second.\n",
    "- **Greater Than or Equal** (`>=`): Checks if the first operand is greater than or equal to the second.\n",
    "- **Less Than or Equal** (`<=`): Checks if the first operand is less than or equal to the second.\n",
    "\n",
    "#### **3. Logical Operators**:\n",
    "- **and**: Returns `True` if both operands are true.\n",
    "- **or**: Returns `True` if either operand is true.\n",
    "- **not**: Reverses the logical state of its operand.\n",
    "\n",
    "#### **4. Assignment Operators**:\n",
    "- **`=`**: Assigns the value of the right operand to the left operand.\n",
    "- **`+=`**: Adds and assigns the result to the left operand.\n",
    "- **`-=`**: Subtracts and assigns the result to the left operand.\n",
    "- **`*=`**: Multiplies and assigns the result to the left operand.\n",
    "- **`/=`**: Divides and assigns the result to the left operand.\n",
    "- **`//=`**: Floor divides and assigns the result to the left operand.\n",
    "- **`%=`**: Finds modulus and assigns the result to the left operand.\n",
    "- **`**=`**: Raises the left operand to the power of the right operand and assigns.\n",
    "\n",
    "#### **5. Bitwise Operators**:\n",
    "- **Bitwise AND** (`&`): Performs bitwise AND between two operands.\n",
    "- **Bitwise OR** (`|`): Performs bitwise OR between two operands.\n",
    "- **Bitwise NOT** (`~`): Inverts all the bits.\n",
    "- **Bitwise XOR** (`^`): Performs bitwise XOR between two operands.\n",
    "- **Bitwise Left Shift** (`<<`): Shifts bits to the left by a specified number of positions.\n",
    "- **Bitwise Right Shift** (`>>`): Shifts bits to the right by a specified number of positions.\n",
    "\n",
    "#### **6. Membership Operators**:\n",
    "- **in**: Returns `True` if a specified value is found in a sequence (such as a list, string, or tuple).\n",
    "- **not in**: Returns `True` if a specified value is not found in a sequence.\n",
    "\n",
    "#### **7. Identity Operators**:\n",
    "- **is**: Returns `True` if two operands refer to the same object.\n",
    "- **is not**: Returns `True` if two operands do not refer to the same object.\n",
    "\n",
    "#### **8. Ternary Operator** (Conditional Expression):\n",
    "- Evaluates an expression based on a condition: `value_if_true if condition else value_if_false`.\n",
    "\n",
    "#### **9. Augmented Assignment Operators**:\n",
    "- Combines an arithmetic operation with assignment (e.g., `+=`, `-=`) to perform an operation and assign the result in one step.\n",
    "\n",
    "### **Summary**:\n",
    "- Python offers a variety of operators, including arithmetic, comparison, logical, assignment, bitwise, membership, identity, and conditional (ternary) operators.\n",
    "- These operators enable various operations, from simple arithmetic to complex bit manipulations."
   ]
  },
  {
   "cell_type": "code",
   "execution_count": 18,
   "id": "877727f6-5650-4aa6-b967-a31569c3e5ab",
   "metadata": {},
   "outputs": [
    {
     "name": "stdout",
     "output_type": "stream",
     "text": [
      "Arithmetic Operators:\n",
      "Addition: 10 + 3 = 13\n",
      "Subtraction: 10 - 3 = 7\n",
      "Multiplication: 10 * 3 = 30\n",
      "Division: 10 / 3 = 3.3333333333333335\n",
      "Floor Division: 10 // 3 = 3\n",
      "Modulus: 10 % 3 = 1\n",
      "Exponentiation: 10 ** 3 = 1000\n"
     ]
    }
   ],
   "source": [
    "# 1. Arithmetic Operators\n",
    "a = 10\n",
    "b = 3\n",
    "print(\"Arithmetic Operators:\")\n",
    "print(f\"Addition: {a} + {b} = {a + b}\")\n",
    "print(f\"Subtraction: {a} - {b} = {a - b}\")\n",
    "print(f\"Multiplication: {a} * {b} = {a * b}\")\n",
    "print(f\"Division: {a} / {b} = {a / b}\")\n",
    "print(f\"Floor Division: {a} // {b} = {a // b}\")\n",
    "print(f\"Modulus: {a} % {b} = {a % b}\")\n",
    "print(f\"Exponentiation: {a} ** {b} = {a ** b}\")"
   ]
  },
  {
   "cell_type": "code",
   "execution_count": 19,
   "id": "3968303b-184b-4af9-bdcb-12128aa5136a",
   "metadata": {},
   "outputs": [
    {
     "name": "stdout",
     "output_type": "stream",
     "text": [
      "\n",
      "Comparison Operators:\n",
      "Equal: 10 == 3 -> False\n",
      "Not Equal: 10 != 3 -> True\n",
      "Greater Than: 10 > 3 -> True\n",
      "Less Than: 10 < 3 -> False\n",
      "Greater Than or Equal: 10 >= 3 -> True\n",
      "Less Than or Equal: 10 <= 3 -> False\n"
     ]
    }
   ],
   "source": [
    "# 2. Comparison Operators\n",
    "print(\"\\nComparison Operators:\")\n",
    "print(f\"Equal: {a} == {b} -> {a == b}\")\n",
    "print(f\"Not Equal: {a} != {b} -> {a != b}\")\n",
    "print(f\"Greater Than: {a} > {b} -> {a > b}\")\n",
    "print(f\"Less Than: {a} < {b} -> {a < b}\")\n",
    "print(f\"Greater Than or Equal: {a} >= {b} -> {a >= b}\")\n",
    "print(f\"Less Than or Equal: {a} <= {b} -> {a <= b}\")"
   ]
  },
  {
   "cell_type": "code",
   "execution_count": 20,
   "id": "b6f53bd1-6a1f-4bf6-8539-5c973228d165",
   "metadata": {},
   "outputs": [
    {
     "name": "stdout",
     "output_type": "stream",
     "text": [
      "\n",
      "Logical Operators:\n",
      "AND: True and False -> False\n",
      "OR: True or False -> True\n",
      "NOT: not True -> False\n"
     ]
    }
   ],
   "source": [
    "# 3. Logical Operators\n",
    "x = True\n",
    "y = False\n",
    "print(\"\\nLogical Operators:\")\n",
    "print(f\"AND: {x} and {y} -> {x and y}\")\n",
    "print(f\"OR: {x} or {y} -> {x or y}\")\n",
    "print(f\"NOT: not {x} -> {not x}\")"
   ]
  },
  {
   "cell_type": "code",
   "execution_count": 21,
   "id": "efcf1490-b384-4c38-a50b-79dec4df5742",
   "metadata": {},
   "outputs": [
    {
     "name": "stdout",
     "output_type": "stream",
     "text": [
      "\n",
      "Assignment Operators:\n",
      "a += 5 -> 15\n",
      "a -= 2 -> 13\n",
      "a *= 3 -> 39\n",
      "a /= 2 -> 19.5\n",
      "a //= 2 -> 9.0\n",
      "a %= 3 -> 0.0\n",
      "a **= 2 -> 0.0\n"
     ]
    }
   ],
   "source": [
    "# 4. Assignment Operators\n",
    "print(\"\\nAssignment Operators:\")\n",
    "a += 5\n",
    "print(f\"a += 5 -> {a}\")\n",
    "a -= 2\n",
    "print(f\"a -= 2 -> {a}\")\n",
    "a *= 3\n",
    "print(f\"a *= 3 -> {a}\")\n",
    "a /= 2\n",
    "print(f\"a /= 2 -> {a}\")\n",
    "a //= 2\n",
    "print(f\"a //= 2 -> {a}\")\n",
    "a %= 3\n",
    "print(f\"a %= 3 -> {a}\")\n",
    "a **= 2\n",
    "print(f\"a **= 2 -> {a}\")"
   ]
  },
  {
   "cell_type": "code",
   "execution_count": 22,
   "id": "692d188a-0ec6-4cf0-baa6-d350be67b41c",
   "metadata": {},
   "outputs": [
    {
     "name": "stdout",
     "output_type": "stream",
     "text": [
      "\n",
      "Bitwise Operators:\n",
      "Bitwise AND: 5 & 3 -> 1 (0101 & 0011 = 0001 -> 1)\n",
      "Bitwise OR: 5 | 3 -> 7 (0101 | 0011 = 0111 -> 7)\n",
      "Bitwise NOT: ~5 -> -6\n",
      "Bitwise XOR: 5 ^ 3 -> 6 (0101 ^ 0011 = 0110 -> 6)\n",
      "Left Shift: 5 << 1 -> 10\n",
      "Right Shift: 5 >> 1 -> 2\n"
     ]
    }
   ],
   "source": [
    "# 5. Bitwise Operators\n",
    "p = 5    # (0101 in binary)\n",
    "q = 3    # (0011 in binary)\n",
    "print(\"\\nBitwise Operators:\")\n",
    "print(f\"Bitwise AND: {p} & {q} -> {p & q} (0101 & 0011 = 0001 -> 1)\")\n",
    "print(f\"Bitwise OR: {p} | {q} -> {p | q} (0101 | 0011 = 0111 -> 7)\")\n",
    "print(f\"Bitwise NOT: ~{p} -> {~p}\")\n",
    "print(f\"Bitwise XOR: {p} ^ {q} -> {p ^ q} (0101 ^ 0011 = 0110 -> 6)\")\n",
    "print(f\"Left Shift: {p} << 1 -> {p << 1}\")\n",
    "print(f\"Right Shift: {p} >> 1 -> {p >> 1}\")"
   ]
  },
  {
   "cell_type": "markdown",
   "id": "e8ee37e1-8247-4182-b21a-3e5568ce5077",
   "metadata": {},
   "source": [
    "**VV IMP Multiple iuse cases**"
   ]
  },
  {
   "cell_type": "code",
   "execution_count": 23,
   "id": "eca16833-7d89-491f-9c36-897d6d20e404",
   "metadata": {},
   "outputs": [
    {
     "name": "stdout",
     "output_type": "stream",
     "text": [
      "\n",
      "Membership Operators:\n",
      "Is 2 in the list? -> True\n",
      "Is 5 not in the list? -> True\n"
     ]
    }
   ],
   "source": [
    "# 6. Membership Operators\n",
    "my_list = [1, 2, 3, 4]\n",
    "print(\"\\nMembership Operators:\")\n",
    "print(f\"Is 2 in the list? -> {2 in my_list}\")\n",
    "print(f\"Is 5 not in the list? -> {5 not in my_list}\")"
   ]
  },
  {
   "cell_type": "code",
   "execution_count": 24,
   "id": "87c43353-f94b-4495-a7b9-04f4f5bab6d9",
   "metadata": {},
   "outputs": [
    {
     "name": "stdout",
     "output_type": "stream",
     "text": [
      "\n",
      "Identity Operators:\n",
      "x is y -> True\n",
      "x is z -> False\n",
      "x is not z -> True\n"
     ]
    }
   ],
   "source": [
    "# 7. Identity Operators\n",
    "x = [1, 2, 3]\n",
    "y = x\n",
    "z = [1, 2, 3]\n",
    "print(\"\\nIdentity Operators:\")\n",
    "print(f\"x is y -> {x is y}\")    # True, both point to the same object\n",
    "print(f\"x is z -> {x is z}\")    # False, different objects with the same content\n",
    "print(f\"x is not z -> {x is not z}\")\n"
   ]
  },
  {
   "cell_type": "code",
   "execution_count": 25,
   "id": "331573df-a09f-43f1-bd76-389d6e50b301",
   "metadata": {},
   "outputs": [
    {
     "name": "stdout",
     "output_type": "stream",
     "text": [
      "\n",
      "Ternary Operator:\n",
      "Age 18 -> Status: Adult\n"
     ]
    }
   ],
   "source": [
    "# 8. Ternary Operator (Conditional Expression)\n",
    "age = 18\n",
    "status = \"Adult\" if age >= 18 else \"Minor\"\n",
    "print(\"\\nTernary Operator:\")\n",
    "print(f\"Age 18 -> Status: {status}\")"
   ]
  },
  {
   "cell_type": "code",
   "execution_count": 26,
   "id": "4bce18e6-4c03-432d-8851-827a2cbeafe8",
   "metadata": {},
   "outputs": [
    {
     "name": "stdout",
     "output_type": "stream",
     "text": [
      "\n",
      "Augmented Assignment Operator:\n",
      "n += 2 -> 12\n",
      "n *= 3 -> 36\n"
     ]
    }
   ],
   "source": [
    "# 9. Augmented Assignment Operators\n",
    "n = 10\n",
    "n += 2    # Equivalent to n = n + 2\n",
    "print(\"\\nAugmented Assignment Operator:\")\n",
    "print(f\"n += 2 -> {n}\")\n",
    "n *= 3    # Equivalent to n = n * 3\n",
    "print(f\"n *= 3 -> {n}\")"
   ]
  },
  {
   "cell_type": "code",
   "execution_count": null,
   "id": "f49528c8-e0ed-4ab2-9bc6-3856560b05ac",
   "metadata": {},
   "outputs": [],
   "source": []
  },
  {
   "cell_type": "code",
   "execution_count": null,
   "id": "2121a7c3-b85f-4f80-8c80-e4b436529e4e",
   "metadata": {},
   "outputs": [],
   "source": []
  }
 ],
 "metadata": {
  "kernelspec": {
   "display_name": "Python 3 (ipykernel)",
   "language": "python",
   "name": "python3"
  },
  "language_info": {
   "codemirror_mode": {
    "name": "ipython",
    "version": 3
   },
   "file_extension": ".py",
   "mimetype": "text/x-python",
   "name": "python",
   "nbconvert_exporter": "python",
   "pygments_lexer": "ipython3",
   "version": "3.11.7"
  }
 },
 "nbformat": 4,
 "nbformat_minor": 5
}
