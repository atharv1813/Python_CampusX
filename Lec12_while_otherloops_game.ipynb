{
 "cells": [
  {
   "cell_type": "code",
   "execution_count": 2,
   "id": "69f9b960-f7ee-4afe-81f5-2f4ae41da737",
   "metadata": {},
   "outputs": [
    {
     "name": "stdout",
     "output_type": "stream",
     "text": [
      "Factorial of 5 is 120\n"
     ]
    }
   ],
   "source": [
    "# Calculate factorial of a number using while loop\n",
    "n = 5\n",
    "factorial = 1\n",
    "i = 1\n",
    "while i <= n:\n",
    "    factorial *= i\n",
    "    i += 1\n",
    "print(f\"Factorial of {n} is {factorial}\")"
   ]
  },
  {
   "cell_type": "code",
   "execution_count": 3,
   "id": "d2db295b-3a92-4199-803b-3958a270a450",
   "metadata": {},
   "outputs": [
    {
     "name": "stdout",
     "output_type": "stream",
     "text": [
      "7 * 1  is := 7\n",
      "7 * 2  is := 14\n",
      "7 * 3  is := 21\n",
      "7 * 4  is := 28\n",
      "7 * 5  is := 35\n",
      "7 * 6  is := 42\n",
      "7 * 7  is := 49\n",
      "7 * 8  is := 56\n",
      "7 * 9  is := 63\n",
      "7 * 10  is := 70\n"
     ]
    }
   ],
   "source": [
    "i = 1\n",
    "num = 7\n",
    "\n",
    "while i<=10:\n",
    "    print(f\"{num} * {i}  is := {num * i}\")\n",
    "    i+=1"
   ]
  },
  {
   "cell_type": "code",
   "execution_count": 4,
   "id": "81e27c2a-dd78-46e9-bef4-23e0d50717db",
   "metadata": {},
   "outputs": [
    {
     "name": "stdout",
     "output_type": "stream",
     "text": [
      "Number: 10\n",
      "Number: 20\n",
      "Number: 30\n",
      "Number: 40\n",
      "Number: 50\n"
     ]
    }
   ],
   "source": [
    "# Process each element of a list using a while loop\n",
    "numbers = [10, 20, 30, 40, 50]\n",
    "i = 0\n",
    "while i < len(numbers):\n",
    "    print(f\"Number: {numbers[i]}\")\n",
    "    i += 1"
   ]
  },
  {
   "cell_type": "code",
   "execution_count": 5,
   "id": "a5d98e9b-355f-4b9d-b34f-04dbd459fc0b",
   "metadata": {},
   "outputs": [
    {
     "name": "stdin",
     "output_type": "stream",
     "text": [
      "Enter number between 1 and 10:  4\n"
     ]
    },
    {
     "name": "stdout",
     "output_type": "stream",
     "text": [
      "Guessed number is greater than the actual number.\n"
     ]
    },
    {
     "name": "stdin",
     "output_type": "stream",
     "text": [
      "Enter number between 1 and 3:  3\n"
     ]
    },
    {
     "name": "stdout",
     "output_type": "stream",
     "text": [
      "Guessed number is greater than the actual number.\n"
     ]
    },
    {
     "name": "stdin",
     "output_type": "stream",
     "text": [
      "Enter number between 1 and 2:  1\n"
     ]
    },
    {
     "name": "stdout",
     "output_type": "stream",
     "text": [
      "Guessed number is smaller than the actual number.\n"
     ]
    },
    {
     "name": "stdin",
     "output_type": "stream",
     "text": [
      "Enter number between 2 and 2:  2\n"
     ]
    },
    {
     "name": "stdout",
     "output_type": "stream",
     "text": [
      "Correct! The actual number is: 2\n"
     ]
    }
   ],
   "source": [
    "import random\n",
    "target_number = random.randint(1, 10)\n",
    "guess = None\n",
    "start = 1\n",
    "end = 10\n",
    "\n",
    "while guess != target_number:\n",
    "    guess = int(input(f\"Enter number between {start} and {end}: \"))\n",
    "    if guess == target_number:\n",
    "        print(f\"Correct! The actual number is: {guess}\")\n",
    "    elif guess > target_number:\n",
    "        end = guess - 1\n",
    "        print(\"Guessed number is greater than the actual number.\")\n",
    "    else:\n",
    "        start = guess + 1\n",
    "        print(\"Guessed number is smaller than the actual number.\")"
   ]
  },
  {
   "cell_type": "code",
   "execution_count": 7,
   "id": "a810c9c2-ab78-4166-aab5-bf96b52c8772",
   "metadata": {},
   "outputs": [
    {
     "name": "stdout",
     "output_type": "stream",
     "text": [
      "[0, 1, 2, 3, 4]\n",
      "[2, 3, 4, 5]\n",
      "[0, 2, 4, 6, 8]\n",
      "[1, 2, 3, 4, 5, 6, 7, 8, 9, 10]\n"
     ]
    }
   ],
   "source": [
    "# Ensure you haven't redefined 'range' elsewhere in your code\n",
    "# Using range with a single argument (stop)\n",
    "single_range = range(5)  # Generates numbers from 0 to 4\n",
    "print(list(single_range))  # Output: [0, 1, 2, 3, 4]\n",
    "\n",
    "# Using range with two arguments (start, stop)\n",
    "two_args_range = range(2, 6)  # Generates numbers from 2 to 5 (coz last wala exclusive hota hai)\n",
    "print(list(two_args_range))  # Output: [2, 3, 4, 5]\n",
    "\n",
    "# Using range with three arguments (start, stop, step)\n",
    "three_args_range = range(0, 10, 2)  # Generates even numbers from 0 to 8\n",
    "print(list(three_args_range))  # Output: [0, 2, 4, 6, 8]\n",
    "\n",
    "# Using range to create a list\n",
    "my_list = list(range(1, 11))  # Creates a list of numbers from 1 to 10\n",
    "print(my_list)  # Output: [1, 2, 3, 4, 5, 6, 7, 8, 9, 10]"
   ]
  },
  {
   "cell_type": "code",
   "execution_count": 8,
   "id": "d9976519-a000-4e83-ac71-6a4d80313ec9",
   "metadata": {},
   "outputs": [
    {
     "name": "stdout",
     "output_type": "stream",
     "text": [
      "[10, 8, 6, 4, 2]\n"
     ]
    }
   ],
   "source": [
    "reverse_list = list(range(10, 0, -2))\n",
    "print(reverse_list)"
   ]
  },
  {
   "cell_type": "code",
   "execution_count": 9,
   "id": "569fac37-7e72-4bd4-8c69-a04238de6c83",
   "metadata": {},
   "outputs": [
    {
     "data": {
      "text/plain": [
       "['kolkatta', 'delhi', 'mumbai']"
      ]
     },
     "execution_count": 9,
     "metadata": {},
     "output_type": "execute_result"
    }
   ],
   "source": [
    "[\"kolkatta\", \"delhi\", \"mumbai\"]"
   ]
  },
  {
   "cell_type": "code",
   "execution_count": 10,
   "id": "7e2afa16-8d1c-4cc6-9cf1-b12e43d5a68e",
   "metadata": {},
   "outputs": [
    {
     "data": {
      "text/plain": [
       "('pune', 'chennai', 'sangli')"
      ]
     },
     "execution_count": 10,
     "metadata": {},
     "output_type": "execute_result"
    }
   ],
   "source": [
    "(\"pune\", \"chennai\", \"sangli\")"
   ]
  },
  {
   "cell_type": "code",
   "execution_count": 14,
   "id": "f10e2a92-468a-4bb3-9c9b-95e201f25f1f",
   "metadata": {},
   "outputs": [
    {
     "name": "stdout",
     "output_type": "stream",
     "text": [
      "1 3\n",
      "2 5\n",
      "3 7\n",
      "4 9\n",
      "5 11\n",
      "6 13\n",
      "7 15\n",
      "8 17\n",
      "9 19\n",
      "10 21\n"
     ]
    }
   ],
   "source": [
    "for i in range(1, 11):\n",
    "    print(f\"{i} {2*i+1}\")"
   ]
  },
  {
   "cell_type": "code",
   "execution_count": 17,
   "id": "0fa91656-f05d-4511-851f-d785e8cb7999",
   "metadata": {},
   "outputs": [
    {
     "name": "stdout",
     "output_type": "stream",
     "text": [
      "k\n",
      "o\n",
      "l\n",
      "k\n",
      "a\n",
      "t\n",
      "t\n",
      "a\n"
     ]
    }
   ],
   "source": [
    "for i in \"kolkatta\":\n",
    "    print(i)\n",
    "#whatever you give to for whether it is range or sequnce of anyhting it will simply iterate iver it python doesnt have start end in for like in cpp"
   ]
  },
  {
   "cell_type": "code",
   "execution_count": 19,
   "id": "855fced3-e8a1-4b94-a739-3e5579d85482",
   "metadata": {},
   "outputs": [
    {
     "name": "stdout",
     "output_type": "stream",
     "text": [
      "1\n",
      "2\n",
      "3\n",
      "4\n",
      "5\n"
     ]
    }
   ],
   "source": [
    "for i in [1,2,3,4,5]:\n",
    "    print(i)"
   ]
  },
  {
   "cell_type": "code",
   "execution_count": 28,
   "id": "d9c3e15c-e6a4-40d3-99a8-51e1c8eb0034",
   "metadata": {},
   "outputs": [
    {
     "name": "stdin",
     "output_type": "stream",
     "text": [
      "enter number of rows for star pattern 9\n"
     ]
    },
    {
     "name": "stdout",
     "output_type": "stream",
     "text": [
      "* \n",
      "* * \n",
      "* * * \n",
      "* * * * \n",
      "* * * * * \n",
      "* * * * * * \n",
      "* * * * * * * \n",
      "* * * * * * * * \n",
      "* * * * * * * * * \n"
     ]
    }
   ],
   "source": [
    "rows = int(input(\"enter number of rows for star pattern\"))\n",
    "\n",
    "for i in range(0, rows):\n",
    "    for j in range(0, i+1):\n",
    "        print(\"*\", end = \" \")\n",
    "    print(\"\")"
   ]
  },
  {
   "cell_type": "code",
   "execution_count": 29,
   "id": "68f802c6-9fe0-478d-ba4b-06690982bcc7",
   "metadata": {},
   "outputs": [
    {
     "name": "stdout",
     "output_type": "stream",
     "text": [
      "Using 'break':\n",
      "0\n",
      "1\n",
      "2\n",
      "\n",
      "Using 'continue':\n",
      "0\n",
      "1\n",
      "2\n",
      "4\n",
      "\n",
      "Using 'pass':\n",
      "0\n",
      "1\n",
      "2\n",
      "3\n",
      "4\n"
     ]
    }
   ],
   "source": [
    "# Demonstration of break, continue, and pass\n",
    "\n",
    "print(\"Using 'break':\")\n",
    "for i in range(5):\n",
    "    if i == 3:\n",
    "        break  # Exits the loop when i is 3\n",
    "    print(i)  # Output: 0, 1, 2\n",
    "\n",
    "print(\"\\nUsing 'continue':\")\n",
    "for i in range(5):\n",
    "    if i == 3:\n",
    "        continue  # Skips the rest of the loop when i is 3\n",
    "    print(i)  # Output: 0, 1, 2, 4\n",
    "\n",
    "print(\"\\nUsing 'pass':\")\n",
    "for i in range(5):\n",
    "    if i == 3:\n",
    "        pass  # Does nothing, just a placeholder\n",
    "    print(i)  # Output: 0, 1, 2, 3, 4\n"
   ]
  },
  {
   "cell_type": "code",
   "execution_count": null,
   "id": "5c6b948b-55d2-4243-9004-e699cebcde46",
   "metadata": {},
   "outputs": [],
   "source": []
  }
 ],
 "metadata": {
  "kernelspec": {
   "display_name": "Python 3 (ipykernel)",
   "language": "python",
   "name": "python3"
  },
  "language_info": {
   "codemirror_mode": {
    "name": "ipython",
    "version": 3
   },
   "file_extension": ".py",
   "mimetype": "text/x-python",
   "name": "python",
   "nbconvert_exporter": "python",
   "pygments_lexer": "ipython3",
   "version": "3.11.7"
  }
 },
 "nbformat": 4,
 "nbformat_minor": 5
}
