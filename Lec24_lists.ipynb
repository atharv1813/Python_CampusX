{
 "cells": [
  {
   "cell_type": "markdown",
   "id": "cdea1c8e-20b5-46d4-bdee-6196bf765ff4",
   "metadata": {},
   "source": [
    "### Lists in Python (In-Depth)\n",
    "\n",
    "A **list** in Python is a collection of items that are ordered, changeable (mutable), and allow duplicate elements. Lists are versatile and widely used for storing and managing collections of data.\n",
    "\n",
    "---\n",
    "\n",
    "### 1. **Characteristics of Lists**:\n",
    "- **Ordered**: Items have a defined order, meaning the order of insertion is preserved.\n",
    "- **Mutable**: You can modify, add, or remove elements after a list is created.\n",
    "- **Allow Duplicates**: Lists can contain duplicate elements.\n",
    "- **Heterogeneous**: A list can contain items of different data types (e.g., integers, strings, objects, etc.).\n",
    "\n",
    "---\n",
    "\n",
    "### 2. **Creating Lists**:\n",
    "- Lists are created by placing a comma-separated sequence of items inside square brackets `[]`.\n",
    "- Lists can contain elements of various data types: integers, strings, floats, or even other lists (nested lists).\n",
    "\n",
    "---\n",
    "\n",
    "### 3. **Accessing List Elements**:\n",
    "- **Indexing**: You can access list elements using indices. The first element has index 0, the second index 1, and so on. Negative indexing is also supported, where `-1` refers to the last item.\n",
    "- **Slicing**: You can access a subpart of a list (sublist) using slicing. Slicing allows you to specify a range by providing start, stop, and step values.\n",
    "\n",
    "---\n",
    "\n",
    "### 4. **Modifying Lists**:\n",
    "- **In-place Modification**: Lists are mutable, so you can modify them directly. This includes adding, removing, and updating elements.\n",
    "- **Adding Elements**: You can append elements to the list, insert them at a specific index, or extend the list by appending all the elements from another list.\n",
    "- **Removing Elements**: You can remove elements by their value, index, or by using methods to pop (retrieve and remove) the last or a specific element.\n",
    "\n",
    "---\n",
    "\n",
    "### 5. **List Operations**:\n",
    "- **Concatenation**: Lists can be concatenated using the `+` operator to combine two or more lists.\n",
    "- **Repetition**: Lists can be repeated using the `*` operator, creating multiple repetitions of the list.\n",
    "- **Membership Test**: You can check if an element exists in a list using the `in` operator.\n",
    "- **Iteration**: You can loop through list elements using loops like `for`.\n",
    "\n",
    "---\n",
    "\n",
    "### 6. **Nested Lists**:\n",
    "- Lists can contain other lists as elements, which can lead to multidimensional structures like matrices or grids.\n",
    "- Nested lists are accessed using multiple indices, where the first index refers to the outer list and the subsequent indices refer to the inner lists.\n",
    "\n",
    "---\n",
    "\n",
    "### 7. **Copying Lists**:\n",
    "- **Shallow Copy**: A shallow copy of a list creates a new list but does not copy nested objects. Both the original and copied list refer to the same objects for any nested elements.\n",
    "- **Deep Copy**: A deep copy creates a new list and recursively copies all objects within, including nested lists.\n",
    "\n",
    "---\n",
    "\n",
    "### 8. **Common List Methods**:\n",
    "- **`append(item)`**: Adds an item to the end of the list.\n",
    "- **`extend(iterable)`**: Extends the list by appending elements from the iterable (e.g., another list).\n",
    "- **`insert(index, item)`**: Inserts an item at a specified index.\n",
    "- **`remove(item)`**: Removes the first occurrence of an item from the list.\n",
    "- **`pop([index])`**: Removes and returns the item at the specified index (default is the last item).\n",
    "- **`clear()`**: Removes all elements from the list, leaving it empty.\n",
    "- **`index(item)`**: Returns the index of the first occurrence of an item.\n",
    "- **`count(item)`**: Returns the number of occurrences of an item in the list.\n",
    "- **`sort()`**: Sorts the list in ascending order (in-place).\n",
    "- **`reverse()`**: Reverses the order of the elements in the list (in-place).\n",
    "\n",
    "---\n",
    "\n",
    "### 9. **List Comprehensions**:\n",
    "- List comprehensions provide a concise way to create lists based on existing lists or other iterables. They are often used to apply an operation to each element of a sequence and store the result in a new list.\n",
    "- They follow the format `[expression for item in iterable if condition]` where the condition is optional.\n",
    "\n",
    "---\n",
    "\n",
    "### 10. **Applications of Lists**:\n",
    "- **Data Storage**: Lists are widely used for storing collections of items.\n",
    "- **Data Structures**: Lists can be used to implement other data structures like stacks, queues, and matrices.\n",
    "- **Iteration**: Lists are often used in loops for batch processing of data.\n",
    "- **Dynamic Arrays**: Lists allow dynamic resizing, as elements can be added or removed during runtime.\n",
    "\n",
    "---\n",
    "\n",
    "### 11. **Performance Considerations**:\n",
    "- **Time Complexity**: Operations like appending to the end of the list are efficient (O(1)), but inserting or removing elements in the middle of a list can be slower (O(n)) since it requires shifting elements.\n",
    "- **Memory**: Lists can grow dynamically, but this requires periodic memory reallocation, which may affect performance slightly.\n",
    "\n",
    "---\n",
    "\n",
    "### Summary:\n",
    "- **Lists** are one of Python's most versatile and frequently used data structures.\n",
    "- They are **mutable**, can store **heterogeneous data**, and are **dynamic**, meaning they can grow or shrink as needed.\n",
    "- **Indexing**, **slicing**, and **built-in methods** provide extensive functionality for manipulating lists.\n",
    "- **Comprehensions** and **common operations** like concatenation, repetition, and membership tests allow lists to be handled efficiently.\n"
   ]
  },
  {
   "cell_type": "code",
   "execution_count": 11,
   "id": "66ecd811-02ee-433d-8d86-a4d82f10ffab",
   "metadata": {},
   "outputs": [],
   "source": [
    "# 1. Creating Lists\n",
    "list1 = [1, 2, 3, 4, 5]            # List of integers\n",
    "list2 = [\"apple\", \"banana\", \"cherry\"]  # List of strings\n",
    "list3 = [True, False, True]         # List of booleans\n",
    "list4 = [1, \"apple\", True]          # List with mixed data types\n",
    "empty_list = []                     # Empty list\n",
    "\n",
    "# Nested lists\n",
    "nested_list = [[1, 2], [3, 4], [5, 6]]"
   ]
  },
  {
   "cell_type": "code",
   "execution_count": 12,
   "id": "78cd4fa8-0697-4ad6-8d56-c258d5d8dfb2",
   "metadata": {},
   "outputs": [
    {
     "name": "stdout",
     "output_type": "stream",
     "text": [
      "1\n",
      "cherry\n",
      "[2, 3]\n"
     ]
    }
   ],
   "source": [
    "# 2. Accessing List Elements\n",
    "print(list1[0])  # Access first element\n",
    "print(list2[-1])  # Access last element\n",
    "print(list1[1:3])  # Slicing a list (from index 1 to 2)"
   ]
  },
  {
   "cell_type": "code",
   "execution_count": 13,
   "id": "f42ae2fa-9073-49f4-acc8-14a813f1781c",
   "metadata": {},
   "outputs": [
    {
     "name": "stdout",
     "output_type": "stream",
     "text": [
      "[100, 2, 3, 4, 5] ['apple', 'kiwi', 'orange']\n"
     ]
    }
   ],
   "source": [
    "# 3. Modifying Lists\n",
    "list1[0] = 100  # Modify element at index 0\n",
    "list2[1:3] = [\"kiwi\", \"orange\"]  # Modify elements using slicing\n",
    "print(list1, list2)"
   ]
  },
  {
   "cell_type": "code",
   "execution_count": 14,
   "id": "2de2991a-1bbe-4487-bcc1-7a6a919fa0e4",
   "metadata": {},
   "outputs": [
    {
     "name": "stdout",
     "output_type": "stream",
     "text": [
      "[100, 2, 3, 4, 5, 6]\n",
      "['apple', 'blueberry', 'kiwi', 'orange']\n",
      "[100, 2, 3, 4, 5, 6, 7, 8, 9]\n"
     ]
    }
   ],
   "source": [
    "# 4. Adding Elements to a List\n",
    "list1.append(6)  # Add element to the end of the list\n",
    "print(list1)\n",
    "\n",
    "list2.insert(1, \"blueberry\")  # Insert element at specific index\n",
    "print(list2)\n",
    "\n",
    "list1.extend([7, 8, 9])  # Extend list by appending elements from another list\n",
    "print(list1)"
   ]
  },
  {
   "cell_type": "code",
   "execution_count": 15,
   "id": "ea4958cc-a04b-4a19-a7e7-984baf16a480",
   "metadata": {},
   "outputs": [
    {
     "name": "stdout",
     "output_type": "stream",
     "text": [
      "[2, 3, 4, 5, 6, 7, 8, 9]\n",
      "['apple', 'blueberry', 'kiwi']\n",
      "['apple', 'kiwi']\n",
      "[3, 4, 5, 6, 7, 8, 9]\n",
      "[]\n"
     ]
    }
   ],
   "source": [
    "# 5. Removing Elements from a List\n",
    "list1.remove(100)  # Remove first occurrence of a value\n",
    "print(list1)\n",
    "\n",
    "list2.pop()  # Remove last element and return it\n",
    "print(list2)\n",
    "\n",
    "list2.pop(1)  # Remove element at a specific index\n",
    "print(list2)\n",
    "\n",
    "del list1[0]  # Delete element at index 0\n",
    "print(list1)\n",
    "\n",
    "list1.clear()  # Clear all elements in the list\n",
    "print(list1)"
   ]
  },
  {
   "cell_type": "code",
   "execution_count": 16,
   "id": "601a98da-20cd-4086-a64a-b85e958ebbe1",
   "metadata": {},
   "outputs": [
    {
     "name": "stdout",
     "output_type": "stream",
     "text": [
      "[1, 2, 3, 4, 5, 6]\n",
      "[1, 2, 3, 1, 2, 3, 1, 2, 3]\n",
      "True\n",
      "True\n",
      "1\n",
      "2\n",
      "3\n",
      "4\n",
      "5\n",
      "6\n"
     ]
    }
   ],
   "source": [
    "# 6. List Operations\n",
    "list1 = [1, 2, 3]\n",
    "list2 = [4, 5, 6]\n",
    "\n",
    "# Concatenation\n",
    "list3 = list1 + list2  # Concatenation\n",
    "print(list3)\n",
    "\n",
    "# Repetition\n",
    "repeated_list = list1 * 3  # Repeat list 3 times\n",
    "print(repeated_list)\n",
    "\n",
    "# Membership Test\n",
    "print(2 in list1)  # Check if 2 is in list1\n",
    "print(7 not in list2)  # Check if 7 is not in list2\n",
    "\n",
    "# Iteration\n",
    "for item in list3:\n",
    "    print(item)"
   ]
  },
  {
   "cell_type": "code",
   "execution_count": 17,
   "id": "ad82386b-8348-4f5c-b5d9-0c5d96005e8a",
   "metadata": {},
   "outputs": [
    {
     "name": "stdout",
     "output_type": "stream",
     "text": [
      "6\n",
      "1\n",
      "6\n",
      "21\n",
      "[1, 4, 9, 16, 25, 36]\n",
      "[1, 3, 4, 6, 8]\n",
      "[8, 6, 4, 3, 1]\n",
      "[1, 3, 4, 6, 8]\n",
      "1\n",
      "2\n"
     ]
    }
   ],
   "source": [
    "# 7. List Functions and Methods\n",
    "print(len(list3))  # Length of list\n",
    "\n",
    "# min, max, sum for lists of numbers\n",
    "print(min(list3))  # Minimum value\n",
    "print(max(list3))  # Maximum value\n",
    "print(sum(list3))  # Sum of all elements\n",
    "\n",
    "# List Comprehensions\n",
    "squares = [x**2 for x in list3]  # Create a list of squares\n",
    "print(squares)\n",
    "\n",
    "# Sorting Lists\n",
    "list4 = [3, 6, 1, 8, 4]\n",
    "list4.sort()  # Sort list in ascending order\n",
    "print(list4)\n",
    "\n",
    "list4.sort(reverse=True)  # Sort list in descending order\n",
    "print(list4)\n",
    "\n",
    "# Reversing a List\n",
    "list4.reverse()  # Reverse the list order\n",
    "print(list4)\n",
    "\n",
    "# Index, Count\n",
    "list5 = [1, 2, 3, 2, 4]\n",
    "print(list5.index(2))  # Find index of first occurrence of 2\n",
    "print(list5.count(2))  # Count occurrences of 2 in list"
   ]
  },
  {
   "cell_type": "code",
   "execution_count": 18,
   "id": "1360cf0f-cbce-4a89-8179-795981f4f054",
   "metadata": {},
   "outputs": [
    {
     "name": "stdout",
     "output_type": "stream",
     "text": [
      "[1, 2, 3, 2, 4]\n"
     ]
    }
   ],
   "source": [
    "# 8. Copying Lists\n",
    "list_copy = list5.copy()  # Shallow copy of the list\n",
    "print(list_copy)"
   ]
  },
  {
   "cell_type": "code",
   "execution_count": 19,
   "id": "cb2d392a-c6f8-4e0d-8b5b-cfd0d0df9878",
   "metadata": {},
   "outputs": [
    {
     "name": "stdout",
     "output_type": "stream",
     "text": [
      "2\n"
     ]
    }
   ],
   "source": [
    "# 9. Nested Lists\n",
    "matrix = [[1, 2, 3], [4, 5, 6], [7, 8, 9]]\n",
    "print(matrix[0][1])  # Access an element from a nested list"
   ]
  },
  {
   "cell_type": "code",
   "execution_count": 20,
   "id": "9800e535-d713-4a04-b244-f591b6c29baf",
   "metadata": {},
   "outputs": [
    {
     "name": "stdout",
     "output_type": "stream",
     "text": [
      "[0, 2, 4, 6, 8, 10]\n",
      "[1, 2, 3, 4, 5, 6, 7, 8]\n"
     ]
    }
   ],
   "source": [
    "# 10. List Comprehensions\n",
    "# Example: Create a list of even numbers from 0 to 10\n",
    "even_numbers = [x for x in range(11) if x % 2 == 0]\n",
    "print(even_numbers)\n",
    "\n",
    "# Example: Flatten a nested list\n",
    "nested_list = [[1, 2, 3], [4, 5], [6, 7, 8]]\n",
    "flattened_list = [item for sublist in nested_list for item in sublist]\n",
    "print(flattened_list)"
   ]
  },
  {
   "cell_type": "code",
   "execution_count": 24,
   "id": "58066f2f-4e16-4b8e-9fd2-f5f1d9b07834",
   "metadata": {},
   "outputs": [
    {
     "name": "stdout",
     "output_type": "stream",
     "text": [
      "[1, 2, 3]\n",
      "88\n"
     ]
    }
   ],
   "source": [
    "# 11. Memory Management with Lists\n",
    "print(list1)\n",
    "import sys\n",
    "print(sys.getsizeof(list1))  # Get the size in memory of the list"
   ]
  },
  {
   "cell_type": "code",
   "execution_count": null,
   "id": "011cb083-afe4-46ad-9139-26301b3c8661",
   "metadata": {},
   "outputs": [],
   "source": []
  }
 ],
 "metadata": {
  "kernelspec": {
   "display_name": "Python 3 (ipykernel)",
   "language": "python",
   "name": "python3"
  },
  "language_info": {
   "codemirror_mode": {
    "name": "ipython",
    "version": 3
   },
   "file_extension": ".py",
   "mimetype": "text/x-python",
   "name": "python",
   "nbconvert_exporter": "python",
   "pygments_lexer": "ipython3",
   "version": "3.11.7"
  }
 },
 "nbformat": 4,
 "nbformat_minor": 5
}
